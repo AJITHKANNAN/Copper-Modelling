{
 "cells": [
  {
   "cell_type": "markdown",
   "metadata": {
    "colab_type": "text",
    "id": "view-in-github"
   },
   "source": [
    "<a href=\"https://colab.research.google.com/github/kalinharikumar/Industrial-Copper-Modeling/blob/main/copper_pp.ipynb\" target=\"_parent\"><img src=\"https://colab.research.google.com/assets/colab-badge.svg\" alt=\"Open In Colab\"/></a>"
   ]
  },
  {
   "cell_type": "markdown",
   "metadata": {
    "id": "320-ZQfSOSXU"
   },
   "source": [
    "# **Industrial Copper Modeling**"
   ]
  },
  {
   "cell_type": "code",
   "execution_count": 38,
   "metadata": {
    "colab": {
     "base_uri": "https://localhost:8080/",
     "height": 206
    },
    "id": "13OmqI5YpYNa",
    "outputId": "9e98ed8e-e961-4762-d281-d362e5c91e2d"
   },
   "outputs": [
    {
     "data": {
      "text/html": [
       "<div>\n",
       "<style scoped>\n",
       "    .dataframe tbody tr th:only-of-type {\n",
       "        vertical-align: middle;\n",
       "    }\n",
       "\n",
       "    .dataframe tbody tr th {\n",
       "        vertical-align: top;\n",
       "    }\n",
       "\n",
       "    .dataframe thead th {\n",
       "        text-align: right;\n",
       "    }\n",
       "</style>\n",
       "<table border=\"1\" class=\"dataframe\">\n",
       "  <thead>\n",
       "    <tr style=\"text-align: right;\">\n",
       "      <th></th>\n",
       "      <th>id</th>\n",
       "      <th>item_date</th>\n",
       "      <th>quantity tons</th>\n",
       "      <th>customer</th>\n",
       "      <th>country</th>\n",
       "      <th>status</th>\n",
       "      <th>item type</th>\n",
       "      <th>application</th>\n",
       "      <th>thickness</th>\n",
       "      <th>width</th>\n",
       "      <th>material_ref</th>\n",
       "      <th>product_ref</th>\n",
       "      <th>delivery date</th>\n",
       "      <th>selling_price</th>\n",
       "    </tr>\n",
       "  </thead>\n",
       "  <tbody>\n",
       "    <tr>\n",
       "      <th>0</th>\n",
       "      <td>EC06F063-9DF0-440C-8764-0B0C05A4F6AE</td>\n",
       "      <td>20210401.0</td>\n",
       "      <td>54.151139</td>\n",
       "      <td>30156308.0</td>\n",
       "      <td>28.0</td>\n",
       "      <td>Won</td>\n",
       "      <td>W</td>\n",
       "      <td>10.0</td>\n",
       "      <td>2.00</td>\n",
       "      <td>1500.0</td>\n",
       "      <td>DEQ1 S460MC</td>\n",
       "      <td>1670798778</td>\n",
       "      <td>20210701.0</td>\n",
       "      <td>854.00</td>\n",
       "    </tr>\n",
       "    <tr>\n",
       "      <th>1</th>\n",
       "      <td>4E5F4B3D-DDDF-499D-AFDE-A3227EC49425</td>\n",
       "      <td>20210401.0</td>\n",
       "      <td>768.024839</td>\n",
       "      <td>30202938.0</td>\n",
       "      <td>25.0</td>\n",
       "      <td>Won</td>\n",
       "      <td>W</td>\n",
       "      <td>41.0</td>\n",
       "      <td>0.80</td>\n",
       "      <td>1210.0</td>\n",
       "      <td>0000000000000000000000000000000000104991</td>\n",
       "      <td>1668701718</td>\n",
       "      <td>20210401.0</td>\n",
       "      <td>1047.00</td>\n",
       "    </tr>\n",
       "    <tr>\n",
       "      <th>2</th>\n",
       "      <td>E140FF1B-2407-4C02-A0DD-780A093B1158</td>\n",
       "      <td>20210401.0</td>\n",
       "      <td>386.127949</td>\n",
       "      <td>30153963.0</td>\n",
       "      <td>30.0</td>\n",
       "      <td>Won</td>\n",
       "      <td>WI</td>\n",
       "      <td>28.0</td>\n",
       "      <td>0.38</td>\n",
       "      <td>952.0</td>\n",
       "      <td>S0380700</td>\n",
       "      <td>628377</td>\n",
       "      <td>20210101.0</td>\n",
       "      <td>644.33</td>\n",
       "    </tr>\n",
       "    <tr>\n",
       "      <th>3</th>\n",
       "      <td>F8D507A0-9C62-4EFE-831E-33E1DA53BB50</td>\n",
       "      <td>20210401.0</td>\n",
       "      <td>202.411065</td>\n",
       "      <td>30349574.0</td>\n",
       "      <td>32.0</td>\n",
       "      <td>Won</td>\n",
       "      <td>S</td>\n",
       "      <td>59.0</td>\n",
       "      <td>2.30</td>\n",
       "      <td>1317.0</td>\n",
       "      <td>DX51D+ZM310MAO 2.3X1317</td>\n",
       "      <td>1668701718</td>\n",
       "      <td>20210101.0</td>\n",
       "      <td>768.00</td>\n",
       "    </tr>\n",
       "    <tr>\n",
       "      <th>4</th>\n",
       "      <td>4E1C4E78-152B-430A-8094-ADD889C9D0AD</td>\n",
       "      <td>20210401.0</td>\n",
       "      <td>785.526262</td>\n",
       "      <td>30211560.0</td>\n",
       "      <td>28.0</td>\n",
       "      <td>Won</td>\n",
       "      <td>W</td>\n",
       "      <td>10.0</td>\n",
       "      <td>4.00</td>\n",
       "      <td>2000.0</td>\n",
       "      <td>2_S275JR+AR-CL1</td>\n",
       "      <td>640665</td>\n",
       "      <td>20210301.0</td>\n",
       "      <td>577.00</td>\n",
       "    </tr>\n",
       "  </tbody>\n",
       "</table>\n",
       "</div>"
      ],
      "text/plain": [
       "                                     id   item_date quantity tons    customer  \\\n",
       "0  EC06F063-9DF0-440C-8764-0B0C05A4F6AE  20210401.0     54.151139  30156308.0   \n",
       "1  4E5F4B3D-DDDF-499D-AFDE-A3227EC49425  20210401.0    768.024839  30202938.0   \n",
       "2  E140FF1B-2407-4C02-A0DD-780A093B1158  20210401.0    386.127949  30153963.0   \n",
       "3  F8D507A0-9C62-4EFE-831E-33E1DA53BB50  20210401.0    202.411065  30349574.0   \n",
       "4  4E1C4E78-152B-430A-8094-ADD889C9D0AD  20210401.0    785.526262  30211560.0   \n",
       "\n",
       "   country status item type  application  thickness   width  \\\n",
       "0     28.0    Won         W         10.0       2.00  1500.0   \n",
       "1     25.0    Won         W         41.0       0.80  1210.0   \n",
       "2     30.0    Won        WI         28.0       0.38   952.0   \n",
       "3     32.0    Won         S         59.0       2.30  1317.0   \n",
       "4     28.0    Won         W         10.0       4.00  2000.0   \n",
       "\n",
       "                               material_ref  product_ref  delivery date  \\\n",
       "0                               DEQ1 S460MC   1670798778     20210701.0   \n",
       "1  0000000000000000000000000000000000104991   1668701718     20210401.0   \n",
       "2                                  S0380700       628377     20210101.0   \n",
       "3                   DX51D+ZM310MAO 2.3X1317   1668701718     20210101.0   \n",
       "4                           2_S275JR+AR-CL1       640665     20210301.0   \n",
       "\n",
       "   selling_price  \n",
       "0         854.00  \n",
       "1        1047.00  \n",
       "2         644.33  \n",
       "3         768.00  \n",
       "4         577.00  "
      ]
     },
     "execution_count": 38,
     "metadata": {},
     "output_type": "execute_result"
    }
   ],
   "source": [
    "df=pd.read_csv(r\"E:\\Copper Modelling\\Copper_dataset.csv\")\n",
    "\n",
    "df.head()"
   ]
  },
  {
   "cell_type": "markdown",
   "metadata": {
    "id": "Ezob-w2fgu5N"
   },
   "source": [
    "# ***Preprocessing & EDA***(4c's of data cleaning: correcting, completing, creating & converting)"
   ]
  },
  {
   "cell_type": "code",
   "execution_count": 34,
   "metadata": {
    "colab": {
     "base_uri": "https://localhost:8080/"
    },
    "id": "Tb6uL_gRsDRQ",
    "outputId": "644203ab-3aed-44d3-ad39-966fc2a2d84c",
    "scrolled": true
   },
   "outputs": [
    {
     "data": {
      "text/plain": [
       "Index(['id', 'item_date', 'quantity tons', 'customer', 'country', 'status',\n",
       "       'item type', 'application', 'thickness', 'width', 'material_ref',\n",
       "       'product_ref', 'delivery date', 'selling_price'],\n",
       "      dtype='object')"
      ]
     },
     "execution_count": 34,
     "metadata": {},
     "output_type": "execute_result"
    }
   ],
   "source": [
    "df.columns"
   ]
  },
  {
   "cell_type": "code",
   "execution_count": 39,
   "metadata": {},
   "outputs": [
    {
     "data": {
      "text/plain": [
       "id                   2\n",
       "item_date            1\n",
       "quantity tons        0\n",
       "customer             1\n",
       "country             28\n",
       "status               2\n",
       "item type            0\n",
       "application         24\n",
       "thickness            1\n",
       "width                0\n",
       "material_ref     77919\n",
       "product_ref          0\n",
       "delivery date        1\n",
       "selling_price        1\n",
       "dtype: int64"
      ]
     },
     "execution_count": 39,
     "metadata": {},
     "output_type": "execute_result"
    }
   ],
   "source": [
    "df.isna().sum()"
   ]
  },
  {
   "cell_type": "markdown",
   "metadata": {
    "id": "a3WFjlyKX-Qo"
   },
   "source": [
    "# Data Cleaning\n",
    "\n",
    "Removing rubbish values that are present in the column ‘Material_Ref’ which starts with ‘00000’ value which are converted into \"unknown\"."
   ]
  },
  {
   "cell_type": "markdown",
   "metadata": {},
   "source": [
    "Converting necessary data types and replacing errors with Nan\n",
    "what error ='coerce' do?\n",
    "\n",
    "If the error argument is passed as \"coerce\" , then invalid parsing will be set as NaN\n",
    "\n",
    "strip():- This method is used to delete all the leading and trailing characters mentioned in its argument.\n",
    "\n",
    "lstrip():- This method is used to delete all the leading characters mentioned in its argument.\n",
    "\n",
    "rstrip():- This method is used to delete all the trailing characters mentioned in its argument."
   ]
  },
  {
   "cell_type": "code",
   "execution_count": 40,
   "metadata": {},
   "outputs": [],
   "source": [
    "# material reference columns has many null values considering it as important, filling the null value with 'unknown'\n",
    "df.material_ref.fillna('unknown', inplace=True)\n",
    "\n",
    "# Since our dataset is huge the null value counts present on other features are less than 1 % hence dropping it\n",
    "df.dropna(inplace=True)"
   ]
  },
  {
   "cell_type": "markdown",
   "metadata": {
    "id": "oHYXoSOOa4RT"
   },
   "source": [
    "Changing dtypes in df(if any found)"
   ]
  },
  {
   "cell_type": "code",
   "execution_count": 41,
   "metadata": {
    "colab": {
     "base_uri": "https://localhost:8080/",
     "height": 298
    },
    "id": "b7bmmAK6jEnp",
    "outputId": "f89d7a96-d559-4e5b-92a3-31bc9b445097"
   },
   "outputs": [],
   "source": [
    "#converting date\n",
    "df['item_date'] = pd.to_datetime(df['item_date'], format='%Y%m%d', errors='coerce').dt.date\n",
    "df['delivery date'] = pd.to_datetime(df['delivery date'], format='%Y%m%d', errors='coerce').dt.date\n",
    "\n",
    "#strip the 0 in material reference\n",
    "df['material_ref'] = df['material_ref'].str.lstrip('0')\n",
    "\n",
    "#converting to numeric\n",
    "df['quantity tons'] = pd.to_numeric(df['quantity tons'], errors='coerce')\n",
    "df['customer'] = pd.to_numeric(df['customer'], errors='coerce')\n",
    "df['country'] = pd.to_numeric(df['country'], errors='coerce')\n",
    "df['application'] = pd.to_numeric(df['application'], errors='coerce')\n",
    "df['thickness'] = pd.to_numeric(df['thickness'], errors='coerce')\n",
    "df['width'] = pd.to_numeric(df['width'], errors='coerce')\n",
    "df['product_ref'] = pd.to_numeric(df['product_ref'], errors='coerce')\n",
    "df['selling_price'] = pd.to_numeric(df['selling_price'], errors='coerce')"
   ]
  },
  {
   "cell_type": "code",
   "execution_count": 43,
   "metadata": {},
   "outputs": [],
   "source": [
    "df.dropna(inplace=True)"
   ]
  },
  {
   "cell_type": "code",
   "execution_count": 44,
   "metadata": {
    "scrolled": true
   },
   "outputs": [
    {
     "data": {
      "text/plain": [
       "id               0\n",
       "item_date        0\n",
       "quantity tons    0\n",
       "customer         0\n",
       "country          0\n",
       "status           0\n",
       "item type        0\n",
       "application      0\n",
       "thickness        0\n",
       "width            0\n",
       "material_ref     0\n",
       "product_ref      0\n",
       "delivery date    0\n",
       "selling_price    0\n",
       "dtype: int64"
      ]
     },
     "execution_count": 44,
     "metadata": {},
     "output_type": "execute_result"
    }
   ],
   "source": [
    "df.isna().sum()"
   ]
  },
  {
   "cell_type": "markdown",
   "metadata": {
    "id": "zv4ScSWn1Xjj"
   },
   "source": [
    "## filling NaN values using fillna"
   ]
  },
  {
   "cell_type": "code",
   "execution_count": 45,
   "metadata": {
    "colab": {
     "base_uri": "https://localhost:8080/"
    },
    "id": "8K-h3whsI6F_",
    "outputId": "39a7310d-3717-427a-f467-73b690e481b2"
   },
   "outputs": [
    {
     "data": {
      "text/plain": [
       "(181631, 14)"
      ]
     },
     "execution_count": 45,
     "metadata": {},
     "output_type": "execute_result"
    }
   ],
   "source": [
    "df.shape"
   ]
  },
  {
   "cell_type": "code",
   "execution_count": 46,
   "metadata": {
    "colab": {
     "base_uri": "https://localhost:8080/"
    },
    "id": "wJqk-H932m-G",
    "outputId": "1afe3d51-cdf7-4729-b8aa-418c3e291102"
   },
   "outputs": [
    {
     "data": {
      "text/plain": [
       "id               181631\n",
       "item_date           250\n",
       "quantity tons    181631\n",
       "customer           1167\n",
       "country              17\n",
       "status                9\n",
       "item type             7\n",
       "application          30\n",
       "thickness           594\n",
       "width              1386\n",
       "material_ref      16563\n",
       "product_ref          33\n",
       "delivery date        26\n",
       "selling_price      9795\n",
       "dtype: int64"
      ]
     },
     "execution_count": 46,
     "metadata": {},
     "output_type": "execute_result"
    }
   ],
   "source": [
    "df.nunique()"
   ]
  },
  {
   "cell_type": "code",
   "execution_count": 48,
   "metadata": {
    "colab": {
     "base_uri": "https://localhost:8080/",
     "height": 206
    },
    "id": "OZIqAffZE9wp",
    "outputId": "e6c1b5fc-37e4-4b4b-c7df-180206d2c80e"
   },
   "outputs": [
    {
     "data": {
      "text/html": [
       "<div>\n",
       "<style scoped>\n",
       "    .dataframe tbody tr th:only-of-type {\n",
       "        vertical-align: middle;\n",
       "    }\n",
       "\n",
       "    .dataframe tbody tr th {\n",
       "        vertical-align: top;\n",
       "    }\n",
       "\n",
       "    .dataframe thead th {\n",
       "        text-align: right;\n",
       "    }\n",
       "</style>\n",
       "<table border=\"1\" class=\"dataframe\">\n",
       "  <thead>\n",
       "    <tr style=\"text-align: right;\">\n",
       "      <th></th>\n",
       "      <th>id</th>\n",
       "      <th>item_date</th>\n",
       "      <th>quantity tons</th>\n",
       "      <th>customer</th>\n",
       "      <th>country</th>\n",
       "      <th>status</th>\n",
       "      <th>item type</th>\n",
       "      <th>application</th>\n",
       "      <th>thickness</th>\n",
       "      <th>width</th>\n",
       "      <th>material_ref</th>\n",
       "      <th>product_ref</th>\n",
       "      <th>delivery date</th>\n",
       "      <th>selling_price</th>\n",
       "    </tr>\n",
       "  </thead>\n",
       "  <tbody>\n",
       "    <tr>\n",
       "      <th>0</th>\n",
       "      <td>EC06F063-9DF0-440C-8764-0B0C05A4F6AE</td>\n",
       "      <td>2021-04-01</td>\n",
       "      <td>54.151139</td>\n",
       "      <td>30156308.0</td>\n",
       "      <td>28.0</td>\n",
       "      <td>Won</td>\n",
       "      <td>W</td>\n",
       "      <td>10.0</td>\n",
       "      <td>2.00</td>\n",
       "      <td>1500.0</td>\n",
       "      <td>DEQ1 S460MC</td>\n",
       "      <td>1670798778</td>\n",
       "      <td>2021-07-01</td>\n",
       "      <td>854.00</td>\n",
       "    </tr>\n",
       "    <tr>\n",
       "      <th>1</th>\n",
       "      <td>4E5F4B3D-DDDF-499D-AFDE-A3227EC49425</td>\n",
       "      <td>2021-04-01</td>\n",
       "      <td>768.024839</td>\n",
       "      <td>30202938.0</td>\n",
       "      <td>25.0</td>\n",
       "      <td>Won</td>\n",
       "      <td>W</td>\n",
       "      <td>41.0</td>\n",
       "      <td>0.80</td>\n",
       "      <td>1210.0</td>\n",
       "      <td>104991</td>\n",
       "      <td>1668701718</td>\n",
       "      <td>2021-04-01</td>\n",
       "      <td>1047.00</td>\n",
       "    </tr>\n",
       "    <tr>\n",
       "      <th>2</th>\n",
       "      <td>E140FF1B-2407-4C02-A0DD-780A093B1158</td>\n",
       "      <td>2021-04-01</td>\n",
       "      <td>386.127949</td>\n",
       "      <td>30153963.0</td>\n",
       "      <td>30.0</td>\n",
       "      <td>Won</td>\n",
       "      <td>WI</td>\n",
       "      <td>28.0</td>\n",
       "      <td>0.38</td>\n",
       "      <td>952.0</td>\n",
       "      <td>S0380700</td>\n",
       "      <td>628377</td>\n",
       "      <td>2021-01-01</td>\n",
       "      <td>644.33</td>\n",
       "    </tr>\n",
       "    <tr>\n",
       "      <th>3</th>\n",
       "      <td>F8D507A0-9C62-4EFE-831E-33E1DA53BB50</td>\n",
       "      <td>2021-04-01</td>\n",
       "      <td>202.411065</td>\n",
       "      <td>30349574.0</td>\n",
       "      <td>32.0</td>\n",
       "      <td>Won</td>\n",
       "      <td>S</td>\n",
       "      <td>59.0</td>\n",
       "      <td>2.30</td>\n",
       "      <td>1317.0</td>\n",
       "      <td>DX51D+ZM310MAO 2.3X1317</td>\n",
       "      <td>1668701718</td>\n",
       "      <td>2021-01-01</td>\n",
       "      <td>768.00</td>\n",
       "    </tr>\n",
       "    <tr>\n",
       "      <th>4</th>\n",
       "      <td>4E1C4E78-152B-430A-8094-ADD889C9D0AD</td>\n",
       "      <td>2021-04-01</td>\n",
       "      <td>785.526262</td>\n",
       "      <td>30211560.0</td>\n",
       "      <td>28.0</td>\n",
       "      <td>Won</td>\n",
       "      <td>W</td>\n",
       "      <td>10.0</td>\n",
       "      <td>4.00</td>\n",
       "      <td>2000.0</td>\n",
       "      <td>2_S275JR+AR-CL1</td>\n",
       "      <td>640665</td>\n",
       "      <td>2021-03-01</td>\n",
       "      <td>577.00</td>\n",
       "    </tr>\n",
       "  </tbody>\n",
       "</table>\n",
       "</div>"
      ],
      "text/plain": [
       "                                     id   item_date  quantity tons  \\\n",
       "0  EC06F063-9DF0-440C-8764-0B0C05A4F6AE  2021-04-01      54.151139   \n",
       "1  4E5F4B3D-DDDF-499D-AFDE-A3227EC49425  2021-04-01     768.024839   \n",
       "2  E140FF1B-2407-4C02-A0DD-780A093B1158  2021-04-01     386.127949   \n",
       "3  F8D507A0-9C62-4EFE-831E-33E1DA53BB50  2021-04-01     202.411065   \n",
       "4  4E1C4E78-152B-430A-8094-ADD889C9D0AD  2021-04-01     785.526262   \n",
       "\n",
       "     customer  country status item type  application  thickness   width  \\\n",
       "0  30156308.0     28.0    Won         W         10.0       2.00  1500.0   \n",
       "1  30202938.0     25.0    Won         W         41.0       0.80  1210.0   \n",
       "2  30153963.0     30.0    Won        WI         28.0       0.38   952.0   \n",
       "3  30349574.0     32.0    Won         S         59.0       2.30  1317.0   \n",
       "4  30211560.0     28.0    Won         W         10.0       4.00  2000.0   \n",
       "\n",
       "              material_ref  product_ref delivery date  selling_price  \n",
       "0              DEQ1 S460MC   1670798778    2021-07-01         854.00  \n",
       "1                   104991   1668701718    2021-04-01        1047.00  \n",
       "2                 S0380700       628377    2021-01-01         644.33  \n",
       "3  DX51D+ZM310MAO 2.3X1317   1668701718    2021-01-01         768.00  \n",
       "4          2_S275JR+AR-CL1       640665    2021-03-01         577.00  "
      ]
     },
     "execution_count": 48,
     "metadata": {},
     "output_type": "execute_result"
    }
   ],
   "source": [
    "df.head()"
   ]
  },
  {
   "cell_type": "markdown",
   "metadata": {
    "id": "4aSAx-TUeP1H"
   },
   "source": [
    "# Finding and treating outliers and skewness in the dataset"
   ]
  },
  {
   "cell_type": "code",
   "execution_count": 49,
   "metadata": {
    "colab": {
     "base_uri": "https://localhost:8080/",
     "height": 710
    },
    "id": "j88KkKe5gB2F",
    "outputId": "31e93a34-97d3-47d6-d6fa-43e79860517b"
   },
   "outputs": [
    {
     "data": {
      "text/plain": [
       "<function matplotlib.pyplot.show(close=None, block=None)>"
      ]
     },
     "execution_count": 49,
     "metadata": {},
     "output_type": "execute_result"
    },
    {
     "data": {
      "image/png": "[encoded data removed]",
      "text/plain": [
       "<Figure size 1440x576 with 10 Axes>"
      ]
     },
     "metadata": {
      "needs_background": "light"
     },
     "output_type": "display_data"
    }
   ],
   "source": [
    "df.plot(kind='box',subplots=True,layout=(2,5),figsize=(20,8))\n",
    "plt.show"
   ]
  },
  {
   "cell_type": "code",
   "execution_count": 50,
   "metadata": {
    "colab": {
     "base_uri": "https://localhost:8080/"
    },
    "id": "wuCuKwi5kAhm",
    "outputId": "7ed95e1e-4e93-4b01-cbb8-eb88122f9069"
   },
   "outputs": [
    {
     "data": {
      "text/plain": [
       "quantity tons    424.641723\n",
       "customer        -149.089203\n",
       "country            0.753584\n",
       "application        0.724324\n",
       "thickness        303.471592\n",
       "width              0.374845\n",
       "product_ref        1.014983\n",
       "selling_price    301.353247\n",
       "dtype: float64"
      ]
     },
     "execution_count": 50,
     "metadata": {},
     "output_type": "execute_result"
    }
   ],
   "source": [
    "#skewness\n",
    "df.skew()"
   ]
  },
  {
   "cell_type": "markdown",
   "metadata": {},
   "source": [
    "# Five number Summary for detecting Outliers"
   ]
  },
  {
   "cell_type": "markdown",
   "metadata": {
    "id": "He5plx3nkikO"
   },
   "source": [
    "Finding the Min and Max boundary with IQR\n",
    "\n",
    "Calculate the Interquartile Range IQR = Q3 — Q1\n",
    "\n",
    "Q1= 0.25 quantile, \n",
    "Q3 = 0.75 quantile\n",
    "\n",
    "Min or lower boundary = Q1–1.5 * IQR and getting Max or upper boundary = Q3 + 1.5 * IQR."
   ]
  },
  {
   "cell_type": "code",
   "execution_count": 12,
   "metadata": {
    "colab": {
     "base_uri": "https://localhost:8080/"
    },
    "id": "bHr6dnYBkv5a",
    "outputId": "3ab16575-4b1c-4452-edcc-10a1736f24c2"
   },
   "outputs": [
    {
     "name": "stdout",
     "output_type": "stream",
     "text": [
      "\n",
      " quantity tons  lower limit= -73.31517328000001  upper limit= 151.44608370000003\n",
      "\n",
      " thickness  lower limit= -2.75  upper limit= 6.449999999999999\n",
      "\n",
      " width  lower limit= 700.0  upper limit= 1980.0\n",
      "\n",
      " selling_price  lower limit= 243.0  upper limit= 1379.0\n"
     ]
    }
   ],
   "source": [
    "# Calculating Min and max boundaries\n",
    "\n",
    "update_columns=['quantity tons','thickness','width','selling_price']\n",
    "\n",
    "for i in update_columns:\n",
    "  Q1=df[i].quantile(0.25)\n",
    "  Q3=df[i].quantile(0.75)\n",
    "  IQR=Q3-Q1\n",
    "  print('\\n',i,' lower limit=',Q1-1.5 * IQR,' upper limit=',Q3+1.5 * IQR)"
   ]
  },
  {
   "cell_type": "code",
   "execution_count": 51,
   "metadata": {
    "colab": {
     "base_uri": "https://localhost:8080/"
    },
    "id": "Sma0Ksc9dSTU",
    "outputId": "e2728436-85e0-47d3-a0cf-ad7d8e9b0a0a"
   },
   "outputs": [
    {
     "name": "stdout",
     "output_type": "stream",
     "text": [
      "\n",
      " quantity tons  lower limit= 2.891169122  upper limit= 309.4858216\n",
      "\n",
      " thickness  lower limit= 0.45  upper limit= 8.0\n",
      "\n",
      " width  lower limit= 932.0  upper limit= 1950.0\n",
      "\n",
      " selling_price  lower limit= 521.0  upper limit= 1182.0\n"
     ]
    }
   ],
   "source": [
    "update_columns=['quantity tons','thickness','width','selling_price']\n",
    "\n",
    "for i in update_columns:\n",
    "  Q1=df[i].quantile(0.05)\n",
    "  Q3=df[i].quantile(0.95)\n",
    "  print('\\n',i,' lower limit=',Q1,' upper limit=',Q3)"
   ]
  },
  {
   "cell_type": "code",
   "execution_count": null,
   "metadata": {},
   "outputs": [],
   "source": []
  },
  {
   "cell_type": "markdown",
   "metadata": {},
   "source": [
    "# Winsorize\n",
    "The winsorize module in Python is used to limit the extreme values in a dataset, or to Winsorize the dataset. \n",
    "This is done by replacing the extreme values with the values at a certain percentile of the dataset. \n",
    "\n",
    "For example, if you want to Winsorize a dataset at the 95th percentile, then all values above the 95th percentile will be replaced with the value at the 95th percentile. This is done to reduce the influence of outliers on the dataset."
   ]
  },
  {
   "cell_type": "code",
   "execution_count": 52,
   "metadata": {
    "id": "0sUdd4WBdFtm"
   },
   "outputs": [],
   "source": [
    "from scipy.stats.mstats import winsorize"
   ]
  },
  {
   "cell_type": "code",
   "execution_count": 53,
   "metadata": {
    "colab": {
     "base_uri": "https://localhost:8080/",
     "height": 710
    },
    "id": "cjd230EZe8aN",
    "outputId": "ecf47d4a-40c1-4730-e2e8-a1a1d464a105"
   },
   "outputs": [
    {
     "data": {
      "text/plain": [
       "<function matplotlib.pyplot.show(close=None, block=None)>"
      ]
     },
     "execution_count": 53,
     "metadata": {},
     "output_type": "execute_result"
    },
    {
     "data": {
      "image/png": "[encoded data removed]",
      "text/plain": [
       "<Figure size 1440x576 with 10 Axes>"
      ]
     },
     "metadata": {
      "needs_background": "light"
     },
     "output_type": "display_data"
    }
   ],
   "source": [
    "update_columns=['quantity tons','thickness','width','selling_price']\n",
    "\n",
    "#Now, we winsorize the clumn data by 10% i.e. we winsorize 5% of the highest values and 5% of the lowest value of the array:\n",
    "for i in update_columns:\n",
    "  df[i]=winsorize(df[i],(0.05,0.05))\n",
    "\n",
    "df.plot(kind='box',subplots=True,layout=(2,5),figsize=(20,8))\n",
    "plt.show"
   ]
  },
  {
   "cell_type": "code",
   "execution_count": 16,
   "metadata": {
    "colab": {
     "base_uri": "https://localhost:8080/",
     "height": 717
    },
    "id": "4Li0Up3ysyNW",
    "outputId": "059f2aa8-87a4-4fcf-8cb5-28b3e5a87b07"
   },
   "outputs": [
    {
     "data": {
      "image/png": "[encoded data removed]",
      "text/plain": [
       "<Figure size 1440x576 with 10 Axes>"
      ]
     },
     "metadata": {
      "needs_background": "light"
     },
     "output_type": "display_data"
    }
   ],
   "source": [
    "df.hist(layout=(2,5),figsize=(20,8))\n",
    "plt.show()"
   ]
  },
  {
   "cell_type": "code",
   "execution_count": 54,
   "metadata": {
    "colab": {
     "base_uri": "https://localhost:8080/"
    },
    "id": "tfAMpluwsvqq",
    "outputId": "3bfbf4be-d358-4d36-f618-d76b2a010649"
   },
   "outputs": [
    {
     "data": {
      "text/plain": [
       "quantity tons      2.070813\n",
       "customer        -149.089203\n",
       "country            0.753584\n",
       "application        0.724324\n",
       "thickness          1.383609\n",
       "width              0.852285\n",
       "product_ref        1.014983\n",
       "selling_price      0.241438\n",
       "dtype: float64"
      ]
     },
     "execution_count": 54,
     "metadata": {},
     "output_type": "execute_result"
    }
   ],
   "source": [
    "df.skew()"
   ]
  },
  {
   "cell_type": "code",
   "execution_count": 55,
   "metadata": {
    "colab": {
     "base_uri": "https://localhost:8080/",
     "height": 485
    },
    "id": "AgGEWAfDfHXn",
    "outputId": "e6a0d69b-9626-4066-807a-d6ac8e96b9a7",
    "scrolled": true
   },
   "outputs": [
    {
     "data": {
      "text/html": [
       "<div>\n",
       "<style scoped>\n",
       "    .dataframe tbody tr th:only-of-type {\n",
       "        vertical-align: middle;\n",
       "    }\n",
       "\n",
       "    .dataframe tbody tr th {\n",
       "        vertical-align: top;\n",
       "    }\n",
       "\n",
       "    .dataframe thead th {\n",
       "        text-align: right;\n",
       "    }\n",
       "</style>\n",
       "<table border=\"1\" class=\"dataframe\">\n",
       "  <thead>\n",
       "    <tr style=\"text-align: right;\">\n",
       "      <th></th>\n",
       "      <th>quantity tons</th>\n",
       "      <th>customer</th>\n",
       "      <th>country</th>\n",
       "      <th>application</th>\n",
       "      <th>thickness</th>\n",
       "      <th>width</th>\n",
       "      <th>product_ref</th>\n",
       "      <th>selling_price</th>\n",
       "    </tr>\n",
       "  </thead>\n",
       "  <tbody>\n",
       "    <tr>\n",
       "      <th>count</th>\n",
       "      <td>181631.000000</td>\n",
       "      <td>1.816310e+05</td>\n",
       "      <td>181631.000000</td>\n",
       "      <td>181631.000000</td>\n",
       "      <td>181631.000000</td>\n",
       "      <td>181631.000000</td>\n",
       "      <td>1.816310e+05</td>\n",
       "      <td>181631.000000</td>\n",
       "    </tr>\n",
       "    <tr>\n",
       "      <th>mean</th>\n",
       "      <td>61.171460</td>\n",
       "      <td>3.023251e+07</td>\n",
       "      <td>44.893201</td>\n",
       "      <td>25.615974</td>\n",
       "      <td>2.359188</td>\n",
       "      <td>1300.925839</td>\n",
       "      <td>4.740398e+08</td>\n",
       "      <td>820.212440</td>\n",
       "    </tr>\n",
       "    <tr>\n",
       "      <th>std</th>\n",
       "      <td>78.968123</td>\n",
       "      <td>1.005626e+05</td>\n",
       "      <td>24.404303</td>\n",
       "      <td>17.753821</td>\n",
       "      <td>2.158919</td>\n",
       "      <td>234.748734</td>\n",
       "      <td>7.175426e+08</td>\n",
       "      <td>185.449252</td>\n",
       "    </tr>\n",
       "    <tr>\n",
       "      <th>min</th>\n",
       "      <td>2.891151</td>\n",
       "      <td>1.245800e+04</td>\n",
       "      <td>25.000000</td>\n",
       "      <td>2.000000</td>\n",
       "      <td>0.450000</td>\n",
       "      <td>932.000000</td>\n",
       "      <td>6.117280e+05</td>\n",
       "      <td>521.000000</td>\n",
       "    </tr>\n",
       "    <tr>\n",
       "      <th>25%</th>\n",
       "      <td>10.968015</td>\n",
       "      <td>3.019688e+07</td>\n",
       "      <td>26.000000</td>\n",
       "      <td>10.000000</td>\n",
       "      <td>0.700000</td>\n",
       "      <td>1180.000000</td>\n",
       "      <td>6.119930e+05</td>\n",
       "      <td>669.000000</td>\n",
       "    </tr>\n",
       "    <tr>\n",
       "      <th>50%</th>\n",
       "      <td>30.363953</td>\n",
       "      <td>3.020524e+07</td>\n",
       "      <td>30.000000</td>\n",
       "      <td>15.000000</td>\n",
       "      <td>1.500000</td>\n",
       "      <td>1250.000000</td>\n",
       "      <td>6.406650e+05</td>\n",
       "      <td>812.000000</td>\n",
       "    </tr>\n",
       "    <tr>\n",
       "      <th>75%</th>\n",
       "      <td>67.161869</td>\n",
       "      <td>3.028042e+07</td>\n",
       "      <td>78.000000</td>\n",
       "      <td>41.000000</td>\n",
       "      <td>3.000000</td>\n",
       "      <td>1500.000000</td>\n",
       "      <td>1.332077e+09</td>\n",
       "      <td>953.000000</td>\n",
       "    </tr>\n",
       "    <tr>\n",
       "      <th>max</th>\n",
       "      <td>309.486196</td>\n",
       "      <td>3.040818e+07</td>\n",
       "      <td>113.000000</td>\n",
       "      <td>99.000000</td>\n",
       "      <td>8.000000</td>\n",
       "      <td>1950.000000</td>\n",
       "      <td>1.722208e+09</td>\n",
       "      <td>1182.000000</td>\n",
       "    </tr>\n",
       "  </tbody>\n",
       "</table>\n",
       "</div>"
      ],
      "text/plain": [
       "       quantity tons      customer        country    application  \\\n",
       "count  181631.000000  1.816310e+05  181631.000000  181631.000000   \n",
       "mean       61.171460  3.023251e+07      44.893201      25.615974   \n",
       "std        78.968123  1.005626e+05      24.404303      17.753821   \n",
       "min         2.891151  1.245800e+04      25.000000       2.000000   \n",
       "25%        10.968015  3.019688e+07      26.000000      10.000000   \n",
       "50%        30.363953  3.020524e+07      30.000000      15.000000   \n",
       "75%        67.161869  3.028042e+07      78.000000      41.000000   \n",
       "max       309.486196  3.040818e+07     113.000000      99.000000   \n",
       "\n",
       "           thickness          width   product_ref  selling_price  \n",
       "count  181631.000000  181631.000000  1.816310e+05  181631.000000  \n",
       "mean        2.359188    1300.925839  4.740398e+08     820.212440  \n",
       "std         2.158919     234.748734  7.175426e+08     185.449252  \n",
       "min         0.450000     932.000000  6.117280e+05     521.000000  \n",
       "25%         0.700000    1180.000000  6.119930e+05     669.000000  \n",
       "50%         1.500000    1250.000000  6.406650e+05     812.000000  \n",
       "75%         3.000000    1500.000000  1.332077e+09     953.000000  \n",
       "max         8.000000    1950.000000  1.722208e+09    1182.000000  "
      ]
     },
     "execution_count": 55,
     "metadata": {},
     "output_type": "execute_result"
    }
   ],
   "source": [
    "df.describe()"
   ]
  },
  {
   "cell_type": "markdown",
   "metadata": {
    "id": "kWFX9iuT23A2"
   },
   "source": [
    "## **Feature Engineering**"
   ]
  },
  {
   "cell_type": "markdown",
   "metadata": {
    "id": "F2kLcVpA28fL"
   },
   "source": [
    " From the columns order date and delivery date, we're creating a new feature \"delivery_period\" for calculating the number of days taken for delivering the product."
   ]
  },
  {
   "cell_type": "code",
   "execution_count": 57,
   "metadata": {
    "colab": {
     "base_uri": "https://localhost:8080/",
     "height": 206
    },
    "id": "UM9S_AJT22Fy",
    "outputId": "7025a2f2-2661-4429-f6d7-390f3ef10d39"
   },
   "outputs": [
    {
     "data": {
      "text/html": [
       "<div>\n",
       "<style scoped>\n",
       "    .dataframe tbody tr th:only-of-type {\n",
       "        vertical-align: middle;\n",
       "    }\n",
       "\n",
       "    .dataframe tbody tr th {\n",
       "        vertical-align: top;\n",
       "    }\n",
       "\n",
       "    .dataframe thead th {\n",
       "        text-align: right;\n",
       "    }\n",
       "</style>\n",
       "<table border=\"1\" class=\"dataframe\">\n",
       "  <thead>\n",
       "    <tr style=\"text-align: right;\">\n",
       "      <th></th>\n",
       "      <th>id</th>\n",
       "      <th>item_date</th>\n",
       "      <th>quantity tons</th>\n",
       "      <th>customer</th>\n",
       "      <th>country</th>\n",
       "      <th>status</th>\n",
       "      <th>item type</th>\n",
       "      <th>application</th>\n",
       "      <th>thickness</th>\n",
       "      <th>width</th>\n",
       "      <th>material_ref</th>\n",
       "      <th>product_ref</th>\n",
       "      <th>delivery date</th>\n",
       "      <th>selling_price</th>\n",
       "      <th>delivery_period</th>\n",
       "    </tr>\n",
       "  </thead>\n",
       "  <tbody>\n",
       "    <tr>\n",
       "      <th>0</th>\n",
       "      <td>EC06F063-9DF0-440C-8764-0B0C05A4F6AE</td>\n",
       "      <td>2021-04-01</td>\n",
       "      <td>54.151139</td>\n",
       "      <td>30156308.0</td>\n",
       "      <td>28.0</td>\n",
       "      <td>Won</td>\n",
       "      <td>W</td>\n",
       "      <td>10.0</td>\n",
       "      <td>2.00</td>\n",
       "      <td>1500.0</td>\n",
       "      <td>DEQ1 S460MC</td>\n",
       "      <td>1670798778</td>\n",
       "      <td>2021-07-01</td>\n",
       "      <td>854.00</td>\n",
       "      <td>91</td>\n",
       "    </tr>\n",
       "    <tr>\n",
       "      <th>1</th>\n",
       "      <td>4E5F4B3D-DDDF-499D-AFDE-A3227EC49425</td>\n",
       "      <td>2021-04-01</td>\n",
       "      <td>309.486196</td>\n",
       "      <td>30202938.0</td>\n",
       "      <td>25.0</td>\n",
       "      <td>Won</td>\n",
       "      <td>W</td>\n",
       "      <td>41.0</td>\n",
       "      <td>0.80</td>\n",
       "      <td>1210.0</td>\n",
       "      <td>104991</td>\n",
       "      <td>1668701718</td>\n",
       "      <td>2021-04-01</td>\n",
       "      <td>1047.00</td>\n",
       "      <td>0</td>\n",
       "    </tr>\n",
       "    <tr>\n",
       "      <th>2</th>\n",
       "      <td>E140FF1B-2407-4C02-A0DD-780A093B1158</td>\n",
       "      <td>2021-04-01</td>\n",
       "      <td>309.486196</td>\n",
       "      <td>30153963.0</td>\n",
       "      <td>30.0</td>\n",
       "      <td>Won</td>\n",
       "      <td>WI</td>\n",
       "      <td>28.0</td>\n",
       "      <td>0.45</td>\n",
       "      <td>952.0</td>\n",
       "      <td>S0380700</td>\n",
       "      <td>628377</td>\n",
       "      <td>2021-01-01</td>\n",
       "      <td>644.33</td>\n",
       "      <td>90</td>\n",
       "    </tr>\n",
       "    <tr>\n",
       "      <th>3</th>\n",
       "      <td>F8D507A0-9C62-4EFE-831E-33E1DA53BB50</td>\n",
       "      <td>2021-04-01</td>\n",
       "      <td>202.411065</td>\n",
       "      <td>30349574.0</td>\n",
       "      <td>32.0</td>\n",
       "      <td>Won</td>\n",
       "      <td>S</td>\n",
       "      <td>59.0</td>\n",
       "      <td>2.30</td>\n",
       "      <td>1317.0</td>\n",
       "      <td>DX51D+ZM310MAO 2.3X1317</td>\n",
       "      <td>1668701718</td>\n",
       "      <td>2021-01-01</td>\n",
       "      <td>768.00</td>\n",
       "      <td>90</td>\n",
       "    </tr>\n",
       "    <tr>\n",
       "      <th>4</th>\n",
       "      <td>4E1C4E78-152B-430A-8094-ADD889C9D0AD</td>\n",
       "      <td>2021-04-01</td>\n",
       "      <td>309.486196</td>\n",
       "      <td>30211560.0</td>\n",
       "      <td>28.0</td>\n",
       "      <td>Won</td>\n",
       "      <td>W</td>\n",
       "      <td>10.0</td>\n",
       "      <td>4.00</td>\n",
       "      <td>1950.0</td>\n",
       "      <td>2_S275JR+AR-CL1</td>\n",
       "      <td>640665</td>\n",
       "      <td>2021-03-01</td>\n",
       "      <td>577.00</td>\n",
       "      <td>31</td>\n",
       "    </tr>\n",
       "  </tbody>\n",
       "</table>\n",
       "</div>"
      ],
      "text/plain": [
       "                                     id   item_date  quantity tons  \\\n",
       "0  EC06F063-9DF0-440C-8764-0B0C05A4F6AE  2021-04-01      54.151139   \n",
       "1  4E5F4B3D-DDDF-499D-AFDE-A3227EC49425  2021-04-01     309.486196   \n",
       "2  E140FF1B-2407-4C02-A0DD-780A093B1158  2021-04-01     309.486196   \n",
       "3  F8D507A0-9C62-4EFE-831E-33E1DA53BB50  2021-04-01     202.411065   \n",
       "4  4E1C4E78-152B-430A-8094-ADD889C9D0AD  2021-04-01     309.486196   \n",
       "\n",
       "     customer  country status item type  application  thickness   width  \\\n",
       "0  30156308.0     28.0    Won         W         10.0       2.00  1500.0   \n",
       "1  30202938.0     25.0    Won         W         41.0       0.80  1210.0   \n",
       "2  30153963.0     30.0    Won        WI         28.0       0.45   952.0   \n",
       "3  30349574.0     32.0    Won         S         59.0       2.30  1317.0   \n",
       "4  30211560.0     28.0    Won         W         10.0       4.00  1950.0   \n",
       "\n",
       "              material_ref  product_ref delivery date  selling_price  \\\n",
       "0              DEQ1 S460MC   1670798778    2021-07-01         854.00   \n",
       "1                   104991   1668701718    2021-04-01        1047.00   \n",
       "2                 S0380700       628377    2021-01-01         644.33   \n",
       "3  DX51D+ZM310MAO 2.3X1317   1668701718    2021-01-01         768.00   \n",
       "4          2_S275JR+AR-CL1       640665    2021-03-01         577.00   \n",
       "\n",
       "   delivery_period  \n",
       "0               91  \n",
       "1                0  \n",
       "2               90  \n",
       "3               90  \n",
       "4               31  "
      ]
     },
     "execution_count": 57,
     "metadata": {},
     "output_type": "execute_result"
    }
   ],
   "source": [
    "df['delivery_period']=(df['item_date']-df['delivery date']).abs().dt.days\n",
    "df.head()"
   ]
  },
  {
   "cell_type": "code",
   "execution_count": 68,
   "metadata": {},
   "outputs": [
    {
     "name": "stdout",
     "output_type": "stream",
     "text": [
      "country\n",
      "[ 28.  25.  30.  32.  38.  78.  27.  77. 113.  79.  26.  39.  40.  84.\n",
      "  80. 107.  89.]\n",
      "Labels:  [ 3  0  4  5  6 10  2  9 16 11  1  7  8 13 12 15 14]\n",
      "\n",
      "\n",
      "status\n",
      "['Won' 'Draft' 'To be approved' 'Lost' 'Not lost for AM' 'Wonderful'\n",
      " 'Revised' 'Offered' 'Offerable']\n",
      "Labels:  [7 0 6 1 2 8 5 4 3]\n",
      "\n",
      "\n",
      "customer\n",
      "[30156308. 30202938. 30153963. ... 30349515. 30284694. 30161559.]\n",
      "Labels:  [ 51 288  39 ... 952 687  97]\n",
      "\n",
      "\n",
      "item type\n",
      "['W' 'WI' 'S' 'Others' 'PL' 'IPL' 'SLAWR']\n",
      "Labels:  [5 6 3 1 2 0 4]\n",
      "\n",
      "\n",
      "application\n",
      "[10. 41. 28. 59. 15.  4. 38. 56. 42. 26. 27. 19. 20. 66. 29. 22. 40. 25.\n",
      " 67. 79.  3. 99.  2.  5. 39. 69. 70. 65. 58. 68.]\n",
      "Labels:  [ 4 17 12 21  5  2 14 19 18 10 11  6  7 23 13  8 16  9 24 28  1 29  0  3\n",
      " 15 26 27 22 20 25]\n",
      "\n",
      "\n",
      "product_ref\n",
      "[1670798778 1668701718     628377     640665     611993 1668701376\n",
      "  164141591 1671863738 1332077137     640405 1693867550 1665572374\n",
      " 1282007633 1668701698     628117 1690738206     628112     640400\n",
      " 1671876026  164336407  164337175 1668701725 1665572032     611728\n",
      " 1721130331 1693867563     611733 1690738219 1722207579  929423819\n",
      " 1665584320 1665584662 1665584642]\n",
      "Labels:  [24 22  5  8  2 20  9 25 14  7 29 16 13 21  4 27  3  6 26 10 11 23 15  0\n",
      " 31 30  1 28 32 12 17 19 18]\n",
      "\n",
      "\n"
     ]
    }
   ],
   "source": [
    "from sklearn.preprocessing import LabelEncoder\n",
    "\n",
    "cat_col=['country','status','customer','item type','application','product_ref']\n",
    "le = LabelEncoder()\n",
    "\n",
    "for i in cat_col:\n",
    "    print(i)\n",
    "    print( df[i].unique())\n",
    "    df[i] = le.fit_transform(df[i])\n",
    "    print(\"Labels: \",df[i].unique())\n",
    "    print('\\n')"
   ]
  },
  {
   "cell_type": "markdown",
   "metadata": {
    "id": "hDgx0Inkt3vy"
   },
   "source": [
    "# Checking Correlation between the variables "
   ]
  },
  {
   "cell_type": "markdown",
   "metadata": {
    "id": "Rq9FSoiLPG6b"
   },
   "source": [
    "## Regression Model"
   ]
  },
  {
   "cell_type": "markdown",
   "metadata": {
    "id": "UIGmdQKMuEP-"
   },
   "source": [
    "Checking for best accuracy models for selling price prediction."
   ]
  },
  {
   "cell_type": "code",
   "execution_count": 69,
   "metadata": {
    "colab": {
     "base_uri": "https://localhost:8080/",
     "height": 586
    },
    "id": "XTMf4DgxsTx6",
    "outputId": "58489140-31f6-45ba-ebde-2d902b1261f3"
   },
   "outputs": [
    {
     "data": {
      "image/png": "[encoded data removed]",
      "text/plain": [
       "<Figure size 720x360 with 2 Axes>"
      ]
     },
     "metadata": {
      "needs_background": "light"
     },
     "output_type": "display_data"
    }
   ],
   "source": [
    "#understanding correlation with feautures and target\n",
    "plt.figure(figsize=(10,5))\n",
    "sns.heatmap(df.iloc[:,2: ].corr(),  annot=True,cmap=\"Greens\")\n",
    "plt.show()"
   ]
  },
  {
   "cell_type": "markdown",
   "metadata": {},
   "source": [
    "# Observation\n",
    "\n",
    "The Width and thickness are 43% postively correlated So we can use any 1 for our experimentation\n",
    "\n",
    "Item type and Status is 24% postively correlated\n",
    "\n",
    "Selling price and application is 18% postively correlated\n",
    "\n",
    "The delivery period we calculated is 30% positively correlated to the target variable Selling price\n",
    "\n",
    "Also the target variable selling price is 37% negatively correlated to Thickness "
   ]
  },
  {
   "cell_type": "code",
   "execution_count": 70,
   "metadata": {},
   "outputs": [],
   "source": [
    "df.dropna(inplace=True)"
   ]
  },
  {
   "cell_type": "code",
   "execution_count": 84,
   "metadata": {},
   "outputs": [
    {
     "data": {
      "text/html": [
       "<div>\n",
       "<style scoped>\n",
       "    .dataframe tbody tr th:only-of-type {\n",
       "        vertical-align: middle;\n",
       "    }\n",
       "\n",
       "    .dataframe tbody tr th {\n",
       "        vertical-align: top;\n",
       "    }\n",
       "\n",
       "    .dataframe thead th {\n",
       "        text-align: right;\n",
       "    }\n",
       "</style>\n",
       "<table border=\"1\" class=\"dataframe\">\n",
       "  <thead>\n",
       "    <tr style=\"text-align: right;\">\n",
       "      <th></th>\n",
       "      <th>id</th>\n",
       "      <th>item_date</th>\n",
       "      <th>quantity tons</th>\n",
       "      <th>customer</th>\n",
       "      <th>country</th>\n",
       "      <th>status</th>\n",
       "      <th>item type</th>\n",
       "      <th>application</th>\n",
       "      <th>thickness</th>\n",
       "      <th>width</th>\n",
       "      <th>material_ref</th>\n",
       "      <th>product_ref</th>\n",
       "      <th>delivery date</th>\n",
       "      <th>selling_price</th>\n",
       "      <th>delivery_period</th>\n",
       "    </tr>\n",
       "  </thead>\n",
       "  <tbody>\n",
       "    <tr>\n",
       "      <th>0</th>\n",
       "      <td>EC06F063-9DF0-440C-8764-0B0C05A4F6AE</td>\n",
       "      <td>2021-04-01</td>\n",
       "      <td>54.151139</td>\n",
       "      <td>51</td>\n",
       "      <td>3</td>\n",
       "      <td>7</td>\n",
       "      <td>5</td>\n",
       "      <td>4</td>\n",
       "      <td>2.0</td>\n",
       "      <td>1500.0</td>\n",
       "      <td>DEQ1 S460MC</td>\n",
       "      <td>24</td>\n",
       "      <td>2021-07-01</td>\n",
       "      <td>854.0</td>\n",
       "      <td>91</td>\n",
       "    </tr>\n",
       "    <tr>\n",
       "      <th>1</th>\n",
       "      <td>4E5F4B3D-DDDF-499D-AFDE-A3227EC49425</td>\n",
       "      <td>2021-04-01</td>\n",
       "      <td>309.486196</td>\n",
       "      <td>288</td>\n",
       "      <td>0</td>\n",
       "      <td>7</td>\n",
       "      <td>5</td>\n",
       "      <td>17</td>\n",
       "      <td>0.8</td>\n",
       "      <td>1210.0</td>\n",
       "      <td>104991</td>\n",
       "      <td>22</td>\n",
       "      <td>2021-04-01</td>\n",
       "      <td>1047.0</td>\n",
       "      <td>0</td>\n",
       "    </tr>\n",
       "  </tbody>\n",
       "</table>\n",
       "</div>"
      ],
      "text/plain": [
       "                                     id   item_date  quantity tons  customer  \\\n",
       "0  EC06F063-9DF0-440C-8764-0B0C05A4F6AE  2021-04-01      54.151139        51   \n",
       "1  4E5F4B3D-DDDF-499D-AFDE-A3227EC49425  2021-04-01     309.486196       288   \n",
       "\n",
       "   country  status  item type  application  thickness   width material_ref  \\\n",
       "0        3       7          5            4        2.0  1500.0  DEQ1 S460MC   \n",
       "1        0       7          5           17        0.8  1210.0       104991   \n",
       "\n",
       "   product_ref delivery date  selling_price  delivery_period  \n",
       "0           24    2021-07-01          854.0               91  \n",
       "1           22    2021-04-01         1047.0                0  "
      ]
     },
     "execution_count": 84,
     "metadata": {},
     "output_type": "execute_result"
    }
   ],
   "source": [
    "df.head(2)"
   ]
  },
  {
   "cell_type": "code",
   "execution_count": 87,
   "metadata": {
    "id": "VHyV1gf82pgZ"
   },
   "outputs": [],
   "source": [
    "from sklearn.model_selection import train_test_split\n",
    "\n",
    "x=df[['quantity tons','item type','country','application','thickness','width', 'product_ref','delivery_period']].values\n",
    "y=df[['selling_price']].values"
   ]
  },
  {
   "cell_type": "markdown",
   "metadata": {},
   "source": [
    "# Standarizing regression data \n"
   ]
  },
  {
   "cell_type": "code",
   "execution_count": 88,
   "metadata": {
    "id": "f_bm3WGC_DKi"
   },
   "outputs": [],
   "source": [
    "\n",
    "# standard scaler -> StandardScaler() - -1 to 1 or MinMaxScaler() - 0 to 1\n",
    "\n",
    "from sklearn.preprocessing import StandardScaler\n",
    "\n",
    "# fit scaler on training data\n",
    "scaler = StandardScaler().fit(x) \n",
    "\n",
    "#saving pickle file for scaling\n",
    "pickle.dump(scaler, open('Regression_scaling.pkl', 'wb'))\n",
    "\n",
    "# transform training data\n",
    "x = scaler.transform(x)\n",
    "\n",
    "#spliting train and test\n",
    "X_train, X_test, Y_train, Y_test = train_test_split(x,y,test_size=0.2, random_state= 42)\n"
   ]
  },
  {
   "cell_type": "markdown",
   "metadata": {},
   "source": [
    "# Model Selection and Training"
   ]
  },
  {
   "cell_type": "code",
   "execution_count": 73,
   "metadata": {
    "id": "_K2SwtgIF4g7"
   },
   "outputs": [],
   "source": [
    "from sklearn.linear_model import LinearRegression\n",
    "from sklearn.linear_model import ElasticNet\n",
    "from sklearn.linear_model import LassoLars\n",
    "from sklearn.model_selection import GridSearchCV\n",
    "from sklearn import neighbors\n",
    "from sklearn.tree import DecisionTreeRegressor\n",
    "from sklearn.ensemble import RandomForestRegressor\n",
    "\n",
    "\n",
    "from sklearn.metrics import mean_squared_error, mean_absolute_error, r2_score"
   ]
  },
  {
   "cell_type": "code",
   "execution_count": 75,
   "metadata": {
    "id": "ED0r5SLZF4Ev"
   },
   "outputs": [],
   "source": [
    "lis=[LinearRegression(),ElasticNet(),LassoLars(),DecisionTreeRegressor(), RandomForestRegressor()]\n",
    "\n",
    "models=['LinearRegression','ElasticNet','LassoLars', 'DTR', 'RFR']\n",
    "score=[]\n",
    "\n",
    "for i in lis:\n",
    "  i.fit(X_train, Y_train)\n",
    "\n",
    "  Y_pred=i.predict(X_test)\n",
    "    \n",
    "  score.append( r2_score(Y_test, Y_pred))"
   ]
  },
  {
   "cell_type": "code",
   "execution_count": 76,
   "metadata": {},
   "outputs": [
    {
     "data": {
      "text/plain": [
       "[0.3060426205746406,\n",
       " 0.27047813351864347,\n",
       " 0.3056736140744696,\n",
       " 0.75585962860378,\n",
       " 0.8620004260192404]"
      ]
     },
     "execution_count": 76,
     "metadata": {},
     "output_type": "execute_result"
    }
   ],
   "source": [
    "score"
   ]
  },
  {
   "cell_type": "code",
   "execution_count": 77,
   "metadata": {
    "colab": {
     "base_uri": "https://localhost:8080/"
    },
    "id": "b4vrE8phjAxY",
    "outputId": "7d7ce17b-ea36-41f3-c103-46131c97211c"
   },
   "outputs": [
    {
     "name": "stdout",
     "output_type": "stream",
     "text": [
      "Wall time: 7min 43s\n",
      "Compiler : 143 ms\n",
      "Parser   : 684 ms\n"
     ]
    },
    {
     "data": {
      "text/plain": [
       "{'n_neighbors': 4}"
      ]
     },
     "execution_count": 77,
     "metadata": {},
     "output_type": "execute_result"
    }
   ],
   "source": [
    "%%time\n",
    "\n",
    "from sklearn.model_selection import GridSearchCV\n",
    "from sklearn import neighbors\n",
    "\n",
    "params = {'n_neighbors':[2,3,4,5,6,7,8,9]}\n",
    "\n",
    "knn = neighbors.KNeighborsRegressor()\n",
    "\n",
    "model = GridSearchCV(knn, params, cv=5)\n",
    "model.fit(X_train,Y_train)\n",
    "model.best_params_"
   ]
  },
  {
   "cell_type": "code",
   "execution_count": 78,
   "metadata": {
    "colab": {
     "base_uri": "https://localhost:8080/"
    },
    "id": "gCzf3efYcJV8",
    "outputId": "d38ca658-3240-4aa8-cd08-89e35403f8cb"
   },
   "outputs": [
    {
     "name": "stdout",
     "output_type": "stream",
     "text": [
      "Mean squared error:  9884.292949543498\n",
      "Mean absolute error:  65.57572751213515\n",
      "R2 Score:  0.7139849459037642\n",
      "Wall time: 10.4 s\n"
     ]
    }
   ],
   "source": [
    "%%time\n",
    "\n",
    "#KNN\n",
    "from sklearn import neighbors\n",
    "model = neighbors.KNeighborsRegressor(n_neighbors = 3)\n",
    "\n",
    "model.fit(X_train, Y_train)  #fit the model\n",
    "Y_pred=model.predict(X_test)\n",
    "\n",
    "print('Mean squared error: ', mean_squared_error(Y_test, Y_pred))\n",
    "print('Mean absolute error: ', mean_absolute_error(Y_test, Y_pred))\n",
    "print('R2 Score: ', r2_score(Y_test, Y_pred))\n",
    "models.append('KNeighborsRegressor')\n",
    "score.append(r2_score(Y_test, Y_pred))"
   ]
  },
  {
   "cell_type": "code",
   "execution_count": 79,
   "metadata": {
    "colab": {
     "base_uri": "https://localhost:8080/"
    },
    "id": "50kSxR21YmbE",
    "outputId": "8eb6693e-6d1f-4f43-b3d6-fa0d1947a4ff"
   },
   "outputs": [
    {
     "name": "stdout",
     "output_type": "stream",
     "text": [
      "Feature:,Score:  ('quantity tons', 0.09133685850390849)\n",
      "Feature:,Score:  ('customer', 0.026717700047011312)\n",
      "Feature:,Score:  ('item type', 0.09103217558223202)\n",
      "Feature:,Score:  ('country', 0.03955559930179045)\n",
      "Feature:,Score:  ('application', 0.05757155704720465)\n",
      "Feature:,Score:  ('thickness', 0.03466219511659971)\n",
      "Feature:,Score:  ('width', 0.34016283990121127)\n",
      "Feature:,Score:  ('product_ref', 0.3189610745000421)\n",
      "Mean squared error:  8527.331440283395\n",
      "Mean absolute error:  47.668735192924046\n",
      "R2 Score:  0.7532504170364731\n",
      "Wall time: 4.35 s\n",
      "Parser   : 129 ms\n"
     ]
    }
   ],
   "source": [
    "%%time\n",
    "\n",
    "#DecisionTreeRegressor\n",
    "from sklearn.tree import DecisionTreeRegressor\n",
    "\n",
    "model = DecisionTreeRegressor(random_state=42)\n",
    "model.fit(X_train, Y_train)\n",
    "\n",
    "Y_pred=model.predict(X_test)\n",
    "score.append(r2_score(Y_test, Y_pred))\n",
    "\n",
    "importances=model.feature_importances_\n",
    "\n",
    "for i,v in zip(['quantity tons','customer','item type','country','application','thickness','width', 'product_ref','delivery_period'], \n",
    "               importances):\n",
    "  print('Feature:'',Score: ',(i,v))\n",
    "\n",
    "\n",
    "from sklearn.metrics import mean_squared_error, mean_absolute_error, r2_score\n",
    "\n",
    "print('Mean squared error: ', mean_squared_error(Y_test, Y_pred))\n",
    "print('Mean absolute error: ', mean_absolute_error(Y_test, Y_pred))\n",
    "print('R2 Score: ', r2_score(Y_test, Y_pred))\n",
    "models.append('DecisionTreeRegressor')\n",
    "score.append(r2_score(Y_test, Y_pred))"
   ]
  },
  {
   "cell_type": "markdown",
   "metadata": {},
   "source": [
    "# Random Forest Regressor"
   ]
  },
  {
   "cell_type": "code",
   "execution_count": 91,
   "metadata": {},
   "outputs": [
    {
     "name": "stdout",
     "output_type": "stream",
     "text": [
      "Mean squared error:  5235.137846445758\n",
      "Mean absolute error:  43.461938594629366\n",
      "R2 Score:  0.8485143811503899\n",
      "Wall time: 36.3 s\n",
      "Parser   : 312 ms\n"
     ]
    }
   ],
   "source": [
    "%%time\n",
    "\n",
    "from sklearn.ensemble import RandomForestRegressor\n",
    "\n",
    "\n",
    "\n",
    "\n",
    "model= RandomForestRegressor(n_estimators=10)\n",
    "\n",
    "model.fit(X_train,Y_train)\n",
    "\n",
    "Y_pred= model.predict(X_test)\n",
    "\n",
    "from sklearn.metrics import mean_squared_error, mean_absolute_error, r2_score\n",
    "\n",
    "print('Mean squared error: ', mean_squared_error(Y_test, Y_pred))\n",
    "print('Mean absolute error: ', mean_absolute_error(Y_test, Y_pred))\n",
    "print('R2 Score: ', r2_score(Y_test, Y_pred))\n",
    "\n",
    "models.append('RandomForestRegressor')\n",
    "score.append(r2_score(Y_test, Y_pred))\n"
   ]
  },
  {
   "cell_type": "code",
   "execution_count": 81,
   "metadata": {
    "colab": {
     "base_uri": "https://localhost:8080/"
    },
    "id": "bCC0oceqdeNd",
    "outputId": "93f64c74-e1e9-475c-a9d0-b766a136babb"
   },
   "outputs": [
    {
     "name": "stdout",
     "output_type": "stream",
     "text": [
      "Mean squared error:  4732.4036233689885\n",
      "Mean absolute error:  39.900618789930306\n",
      "R2 Score:  0.8630616590126847\n",
      "Wall time: 22min 24s\n"
     ]
    }
   ],
   "source": [
    "%%time\n",
    "\n",
    "#ExtraTreesRegressor\n",
    "from sklearn.ensemble import ExtraTreesRegressor\n",
    "model = ExtraTreesRegressor(n_estimators=100, criterion='friedman_mse', max_depth=None, min_samples_split=2, \n",
    "                            min_samples_leaf=1, min_weight_fraction_leaf=0.0, max_features=10, max_leaf_nodes=None, \n",
    "                            min_impurity_decrease=0.0, bootstrap=False, oob_score=False, n_jobs=4, random_state=53, \n",
    "                            verbose=0, warm_start=False, ccp_alpha=0.0, max_samples=None).fit(X_train, Y_train)\n",
    "Y_pred=model.predict(X_test)\n",
    "\n",
    "from sklearn.metrics import mean_squared_error, mean_absolute_error, r2_score\n",
    "\n",
    "print('Mean squared error: ', mean_squared_error(Y_test, Y_pred))\n",
    "print('Mean absolute error: ', mean_absolute_error(Y_test, Y_pred))\n",
    "print('R2 Score: ', r2_score(Y_test, Y_pred))\n",
    "models.append('ExtraTreesRegressor')\n",
    "score.append(r2_score(Y_test, Y_pred))"
   ]
  },
  {
   "cell_type": "markdown",
   "metadata": {},
   "source": [
    "# Visualizing the scores"
   ]
  },
  {
   "cell_type": "code",
   "execution_count": null,
   "metadata": {
    "colab": {
     "base_uri": "https://localhost:8080/",
     "height": 472
    },
    "id": "r85BEq-lI94U",
    "outputId": "977988ae-81b2-466d-ee83-3b782eef9976"
   },
   "outputs": [],
   "source": [
    "plt.bar(models, score,\n",
    "         color = \"red\")\n",
    " \n",
    "plt.xlabel(\"Score\")\n",
    "plt.ylabel(\"Models\")\n",
    "plt.title(\"Scores of Regression models\")\n",
    "plt.show()"
   ]
  },
  {
   "cell_type": "code",
   "execution_count": null,
   "metadata": {},
   "outputs": [],
   "source": []
  },
  {
   "cell_type": "markdown",
   "metadata": {
    "id": "Ansej2a-X0Go"
   },
   "source": [
    "# Observation\n",
    "\n",
    "From this dataset, \" ExtraTreesRegressor \" gives the best score. Hence considering it as a best model"
   ]
  },
  {
   "cell_type": "code",
   "execution_count": null,
   "metadata": {},
   "outputs": [],
   "source": []
  },
  {
   "cell_type": "markdown",
   "metadata": {},
   "source": [
    "# Pickle file\n",
    "\n",
    "The pickle module in Python is used to serialize and deserialize a Python object structure. \n",
    "\n",
    "This means that you can convert a Python object into a byte stream that can be stored in a file, transmitted over a network, or saved to a database. \n",
    "\n",
    "When you need to use the object again, you can deserialize it back into a Python object.\n",
    "\n",
    "Pickle is often used to save machine learning models, as it is a very efficient way to store and transmit large amounts of data. \n",
    "\n",
    "It can also be used to save other types of objects, such as dictionaries, lists, and functions."
   ]
  },
  {
   "cell_type": "code",
   "execution_count": 92,
   "metadata": {
    "id": "tQpIPzomY8iC"
   },
   "outputs": [],
   "source": [
    "#creating pickle files to save the trained models in a file\n",
    "\n",
    "model = ExtraTreesRegressor(n_estimators=100, criterion='friedman_mse', max_depth=None, min_samples_split=2, \n",
    "                            min_samples_leaf=1, min_weight_fraction_leaf=0.0, max_features=10, max_leaf_nodes=None, \n",
    "                            min_impurity_decrease=0.0, bootstrap=False, oob_score=False, n_jobs=4, random_state=53, \n",
    "                            verbose=0, warm_start=False, ccp_alpha=0.0, max_samples=None).fit(X_train, Y_train)\n",
    "\n",
    "model.fit(X_train, Y_train)                          \n",
    "\n",
    "pickle.dump(model, open('Regression_Model.pkl', 'wb'))"
   ]
  },
  {
   "cell_type": "code",
   "execution_count": null,
   "metadata": {},
   "outputs": [],
   "source": []
  },
  {
   "cell_type": "markdown",
   "metadata": {
    "id": "OWxrWdTeO3uK"
   },
   "source": [
    "# Classification Model"
   ]
  },
  {
   "cell_type": "markdown",
   "metadata": {
    "id": "Vbm9m_2bX-UN"
   },
   "source": [
    "From the given Problem Statement filtering data points ignoring other statuses only keeping  WON & LOST STATUS values, \n",
    "\n",
    " WON status is considered as Success and LOST status is considered as Failure."
   ]
  },
  {
   "cell_type": "markdown",
   "metadata": {
    "colab": {
     "base_uri": "https://localhost:8080/"
    },
    "id": "yvZMbXe3eDQA",
    "outputId": "6033d15e-9240-41f0-bbd6-7deb54caaffc"
   },
   "source": [
    "from sklearn.preprocessing import LabelEncoder\n",
    "\n",
    "cat_col=['country','status','customer','item type','application','product_ref'] \n",
    "\n",
    "le = LabelEncoder()\n",
    "\n",
    "for i in cat_col:\n",
    "  print(i)\n",
    "  print(df[i].unique())\n",
    "  df[i] = le.fit_transform(df[i])\n",
    "  print(df[i].unique())\n",
    "  print('\\n')"
   ]
  },
  {
   "cell_type": "code",
   "execution_count": 93,
   "metadata": {
    "colab": {
     "base_uri": "https://localhost:8080/",
     "height": 206
    },
    "id": "yxtTcyGYim_4",
    "outputId": "fa83b8cf-bdaa-4855-fc9f-c4be7eef1f5b"
   },
   "outputs": [
    {
     "data": {
      "text/html": [
       "<div>\n",
       "<style scoped>\n",
       "    .dataframe tbody tr th:only-of-type {\n",
       "        vertical-align: middle;\n",
       "    }\n",
       "\n",
       "    .dataframe tbody tr th {\n",
       "        vertical-align: top;\n",
       "    }\n",
       "\n",
       "    .dataframe thead th {\n",
       "        text-align: right;\n",
       "    }\n",
       "</style>\n",
       "<table border=\"1\" class=\"dataframe\">\n",
       "  <thead>\n",
       "    <tr style=\"text-align: right;\">\n",
       "      <th></th>\n",
       "      <th>id</th>\n",
       "      <th>item_date</th>\n",
       "      <th>quantity tons</th>\n",
       "      <th>customer</th>\n",
       "      <th>country</th>\n",
       "      <th>status</th>\n",
       "      <th>item type</th>\n",
       "      <th>application</th>\n",
       "      <th>thickness</th>\n",
       "      <th>width</th>\n",
       "      <th>material_ref</th>\n",
       "      <th>product_ref</th>\n",
       "      <th>delivery date</th>\n",
       "      <th>selling_price</th>\n",
       "      <th>delivery_period</th>\n",
       "    </tr>\n",
       "  </thead>\n",
       "  <tbody>\n",
       "    <tr>\n",
       "      <th>0</th>\n",
       "      <td>EC06F063-9DF0-440C-8764-0B0C05A4F6AE</td>\n",
       "      <td>2021-04-01</td>\n",
       "      <td>54.151139</td>\n",
       "      <td>51</td>\n",
       "      <td>3</td>\n",
       "      <td>7</td>\n",
       "      <td>5</td>\n",
       "      <td>4</td>\n",
       "      <td>2.00</td>\n",
       "      <td>1500.0</td>\n",
       "      <td>DEQ1 S460MC</td>\n",
       "      <td>24</td>\n",
       "      <td>2021-07-01</td>\n",
       "      <td>854.00</td>\n",
       "      <td>91</td>\n",
       "    </tr>\n",
       "    <tr>\n",
       "      <th>1</th>\n",
       "      <td>4E5F4B3D-DDDF-499D-AFDE-A3227EC49425</td>\n",
       "      <td>2021-04-01</td>\n",
       "      <td>309.486196</td>\n",
       "      <td>288</td>\n",
       "      <td>0</td>\n",
       "      <td>7</td>\n",
       "      <td>5</td>\n",
       "      <td>17</td>\n",
       "      <td>0.80</td>\n",
       "      <td>1210.0</td>\n",
       "      <td>104991</td>\n",
       "      <td>22</td>\n",
       "      <td>2021-04-01</td>\n",
       "      <td>1047.00</td>\n",
       "      <td>0</td>\n",
       "    </tr>\n",
       "    <tr>\n",
       "      <th>2</th>\n",
       "      <td>E140FF1B-2407-4C02-A0DD-780A093B1158</td>\n",
       "      <td>2021-04-01</td>\n",
       "      <td>309.486196</td>\n",
       "      <td>39</td>\n",
       "      <td>4</td>\n",
       "      <td>7</td>\n",
       "      <td>6</td>\n",
       "      <td>12</td>\n",
       "      <td>0.45</td>\n",
       "      <td>952.0</td>\n",
       "      <td>S0380700</td>\n",
       "      <td>5</td>\n",
       "      <td>2021-01-01</td>\n",
       "      <td>644.33</td>\n",
       "      <td>90</td>\n",
       "    </tr>\n",
       "    <tr>\n",
       "      <th>3</th>\n",
       "      <td>F8D507A0-9C62-4EFE-831E-33E1DA53BB50</td>\n",
       "      <td>2021-04-01</td>\n",
       "      <td>202.411065</td>\n",
       "      <td>954</td>\n",
       "      <td>5</td>\n",
       "      <td>7</td>\n",
       "      <td>3</td>\n",
       "      <td>21</td>\n",
       "      <td>2.30</td>\n",
       "      <td>1317.0</td>\n",
       "      <td>DX51D+ZM310MAO 2.3X1317</td>\n",
       "      <td>22</td>\n",
       "      <td>2021-01-01</td>\n",
       "      <td>768.00</td>\n",
       "      <td>90</td>\n",
       "    </tr>\n",
       "    <tr>\n",
       "      <th>4</th>\n",
       "      <td>4E1C4E78-152B-430A-8094-ADD889C9D0AD</td>\n",
       "      <td>2021-04-01</td>\n",
       "      <td>309.486196</td>\n",
       "      <td>397</td>\n",
       "      <td>3</td>\n",
       "      <td>7</td>\n",
       "      <td>5</td>\n",
       "      <td>4</td>\n",
       "      <td>4.00</td>\n",
       "      <td>1950.0</td>\n",
       "      <td>2_S275JR+AR-CL1</td>\n",
       "      <td>8</td>\n",
       "      <td>2021-03-01</td>\n",
       "      <td>577.00</td>\n",
       "      <td>31</td>\n",
       "    </tr>\n",
       "  </tbody>\n",
       "</table>\n",
       "</div>"
      ],
      "text/plain": [
       "                                     id   item_date  quantity tons  customer  \\\n",
       "0  EC06F063-9DF0-440C-8764-0B0C05A4F6AE  2021-04-01      54.151139        51   \n",
       "1  4E5F4B3D-DDDF-499D-AFDE-A3227EC49425  2021-04-01     309.486196       288   \n",
       "2  E140FF1B-2407-4C02-A0DD-780A093B1158  2021-04-01     309.486196        39   \n",
       "3  F8D507A0-9C62-4EFE-831E-33E1DA53BB50  2021-04-01     202.411065       954   \n",
       "4  4E1C4E78-152B-430A-8094-ADD889C9D0AD  2021-04-01     309.486196       397   \n",
       "\n",
       "   country  status  item type  application  thickness   width  \\\n",
       "0        3       7          5            4       2.00  1500.0   \n",
       "1        0       7          5           17       0.80  1210.0   \n",
       "2        4       7          6           12       0.45   952.0   \n",
       "3        5       7          3           21       2.30  1317.0   \n",
       "4        3       7          5            4       4.00  1950.0   \n",
       "\n",
       "              material_ref  product_ref delivery date  selling_price  \\\n",
       "0              DEQ1 S460MC           24    2021-07-01         854.00   \n",
       "1                   104991           22    2021-04-01        1047.00   \n",
       "2                 S0380700            5    2021-01-01         644.33   \n",
       "3  DX51D+ZM310MAO 2.3X1317           22    2021-01-01         768.00   \n",
       "4          2_S275JR+AR-CL1            8    2021-03-01         577.00   \n",
       "\n",
       "   delivery_period  \n",
       "0               91  \n",
       "1                0  \n",
       "2               90  \n",
       "3               90  \n",
       "4               31  "
      ]
     },
     "execution_count": 93,
     "metadata": {},
     "output_type": "execute_result"
    }
   ],
   "source": [
    "#  From the encoded Label we get  7 as Won, 1 as Lost\n",
    "cdf=df.loc[df[\"status\"].isin([7,1])] \n",
    "cdf.head()"
   ]
  },
  {
   "cell_type": "code",
   "execution_count": 94,
   "metadata": {
    "colab": {
     "base_uri": "https://localhost:8080/"
    },
    "id": "gazvQ3SVPmpH",
    "outputId": "b07edbca-a99d-42a3-a806-af61e28516b7"
   },
   "outputs": [
    {
     "name": "stdout",
     "output_type": "stream",
     "text": [
      "Original Won lost Labels:  [7 1]\n",
      "Label encoded Labels:  [1 0]\n"
     ]
    }
   ],
   "source": [
    "print(\"Original Won lost Labels: \",cdf['status'].unique())\n",
    "\n",
    "cdf['status'] = le.fit_transform(cdf['status'])\n",
    "print(\"Label encoded Labels: \",cdf['status'].unique())"
   ]
  },
  {
   "cell_type": "code",
   "execution_count": 95,
   "metadata": {},
   "outputs": [
    {
     "data": {
      "text/html": [
       "<div>\n",
       "<style scoped>\n",
       "    .dataframe tbody tr th:only-of-type {\n",
       "        vertical-align: middle;\n",
       "    }\n",
       "\n",
       "    .dataframe tbody tr th {\n",
       "        vertical-align: top;\n",
       "    }\n",
       "\n",
       "    .dataframe thead th {\n",
       "        text-align: right;\n",
       "    }\n",
       "</style>\n",
       "<table border=\"1\" class=\"dataframe\">\n",
       "  <thead>\n",
       "    <tr style=\"text-align: right;\">\n",
       "      <th></th>\n",
       "      <th>id</th>\n",
       "      <th>item_date</th>\n",
       "      <th>quantity tons</th>\n",
       "      <th>customer</th>\n",
       "      <th>country</th>\n",
       "      <th>status</th>\n",
       "      <th>item type</th>\n",
       "      <th>application</th>\n",
       "      <th>thickness</th>\n",
       "      <th>width</th>\n",
       "      <th>material_ref</th>\n",
       "      <th>product_ref</th>\n",
       "      <th>delivery date</th>\n",
       "      <th>selling_price</th>\n",
       "      <th>delivery_period</th>\n",
       "    </tr>\n",
       "  </thead>\n",
       "  <tbody>\n",
       "    <tr>\n",
       "      <th>0</th>\n",
       "      <td>EC06F063-9DF0-440C-8764-0B0C05A4F6AE</td>\n",
       "      <td>2021-04-01</td>\n",
       "      <td>54.151139</td>\n",
       "      <td>51</td>\n",
       "      <td>3</td>\n",
       "      <td>7</td>\n",
       "      <td>5</td>\n",
       "      <td>4</td>\n",
       "      <td>2.0</td>\n",
       "      <td>1500.0</td>\n",
       "      <td>DEQ1 S460MC</td>\n",
       "      <td>24</td>\n",
       "      <td>2021-07-01</td>\n",
       "      <td>854.0</td>\n",
       "      <td>91</td>\n",
       "    </tr>\n",
       "  </tbody>\n",
       "</table>\n",
       "</div>"
      ],
      "text/plain": [
       "                                     id   item_date  quantity tons  customer  \\\n",
       "0  EC06F063-9DF0-440C-8764-0B0C05A4F6AE  2021-04-01      54.151139        51   \n",
       "\n",
       "   country  status  item type  application  thickness   width material_ref  \\\n",
       "0        3       7          5            4        2.0  1500.0  DEQ1 S460MC   \n",
       "\n",
       "   product_ref delivery date  selling_price  delivery_period  \n",
       "0           24    2021-07-01          854.0               91  "
      ]
     },
     "execution_count": 95,
     "metadata": {},
     "output_type": "execute_result"
    }
   ],
   "source": [
    "df.head(1)"
   ]
  },
  {
   "cell_type": "code",
   "execution_count": 96,
   "metadata": {
    "colab": {
     "base_uri": "https://localhost:8080/",
     "height": 586
    },
    "id": "13f_QvPbyqZr",
    "outputId": "9e477260-979b-4a8b-b6b0-87481dda35e8"
   },
   "outputs": [
    {
     "data": {
      "image/png": "[encoded data removed]",
      "text/plain": [
       "<Figure size 720x360 with 2 Axes>"
      ]
     },
     "metadata": {
      "needs_background": "light"
     },
     "output_type": "display_data"
    }
   ],
   "source": [
    "#understanding correlation with feautures and target\n",
    "plt.figure(figsize =(10,5))\n",
    "sns.heatmap(df.iloc[:,2: ].corr())\n",
    "plt.show()"
   ]
  },
  {
   "cell_type": "code",
   "execution_count": 97,
   "metadata": {
    "id": "uWqaoEtvRD1H"
   },
   "outputs": [],
   "source": [
    "from sklearn.model_selection import train_test_split\n",
    "x=cdf[['quantity tons','item type','country','application','thickness','width', 'product_ref','selling_price','delivery_period']].values\n",
    "y=cdf[['status']].values"
   ]
  },
  {
   "cell_type": "code",
   "execution_count": 98,
   "metadata": {
    "colab": {
     "base_uri": "https://localhost:8080/",
     "height": 443
    },
    "id": "C3bOizCyi4D0",
    "outputId": "4220ea63-88fa-4333-91e3-1a25654cd14c"
   },
   "outputs": [
    {
     "data": {
      "text/plain": [
       "<AxesSubplot:>"
      ]
     },
     "execution_count": 98,
     "metadata": {},
     "output_type": "execute_result"
    },
    {
     "data": {
      "image/png": "[encoded data removed]",
      "text/plain": [
       "<Figure size 432x288 with 1 Axes>"
      ]
     },
     "metadata": {
      "needs_background": "light"
     },
     "output_type": "display_data"
    }
   ],
   "source": [
    "cdf['status'].value_counts().plot(kind='bar')"
   ]
  },
  {
   "cell_type": "code",
   "execution_count": 99,
   "metadata": {
    "id": "iuEFqVZjkF0l"
   },
   "outputs": [],
   "source": [
    "#Oversampling using smote(Synthetic Minority Over-sampling TEchnique)\n",
    "#It is a more sophisticated technique than the previous ones. \n",
    "#Random sampling is easy, but the new samples don’t add more information to the machine learning algorithms. SMOTE improves on that.\n",
    "\n",
    "from imblearn.over_sampling import SMOTE\n",
    "smote = SMOTE(random_state=42)\n",
    "x, y = smote.fit_resample(x, y)\n"
   ]
  },
  {
   "cell_type": "markdown",
   "metadata": {},
   "source": [
    "# Standarization categorical  data\n"
   ]
  },
  {
   "cell_type": "code",
   "execution_count": 100,
   "metadata": {
    "id": "YMppwqmORNmm"
   },
   "outputs": [],
   "source": [
    "# standard scaler -> StandardScaler() - -1 to 1 or MinMaxScaler() - 0 to 1\n",
    "\n",
    "from sklearn.preprocessing import StandardScaler\n",
    "\n",
    "# fit scaler on training data\n",
    "scaler = StandardScaler().fit(x)\n",
    "\n",
    "#saving pickle file for scaling\n",
    "pickle.dump(scaler, open('Classification_scaling.pkl', 'wb'))\n",
    "\n",
    "# transform training data\n",
    "x = scaler.transform(x)\n",
    "\n",
    "#spliting train and test\n",
    "X_train, X_test, Y_train, Y_test = train_test_split(x,y,test_size=0.2)"
   ]
  },
  {
   "cell_type": "code",
   "execution_count": 101,
   "metadata": {
    "id": "0_7xp7Nj1kl4"
   },
   "outputs": [],
   "source": [
    "# Empty list to store the Model name s and the Accuracy\n",
    "\n",
    "C_Models=[]\n",
    "Accuracy=[]"
   ]
  },
  {
   "cell_type": "markdown",
   "metadata": {},
   "source": [
    "# Classification model training"
   ]
  },
  {
   "cell_type": "code",
   "execution_count": 102,
   "metadata": {
    "id": "haG1JnWHRocW"
   },
   "outputs": [],
   "source": [
    "from sklearn.tree import DecisionTreeClassifier\n",
    "from sklearn.neighbors import KNeighborsClassifier\n",
    "from sklearn.linear_model import LogisticRegression\n",
    "from sklearn.naive_bayes import GaussianNB\n",
    "from sklearn.ensemble import AdaBoostClassifier\n",
    "from sklearn.ensemble import RandomForestClassifier\n",
    "\n",
    "from sklearn.metrics  import accuracy_score,confusion_matrix, f1_score,roc_auc_score"
   ]
  },
  {
   "cell_type": "code",
   "execution_count": 103,
   "metadata": {
    "colab": {
     "base_uri": "https://localhost:8080/"
    },
    "id": "tcPOElq9MSKF",
    "outputId": "a0699334-ed48-4c30-9cc9-1648c0dc86dc"
   },
   "outputs": [
    {
     "name": "stdout",
     "output_type": "stream",
     "text": [
      "Wall time: 5.55 s\n"
     ]
    },
    {
     "data": {
      "text/plain": [
       "0.6955519158656954"
      ]
     },
     "execution_count": 103,
     "metadata": {},
     "output_type": "execute_result"
    }
   ],
   "source": [
    "%%time\n",
    "\n",
    "#LogisticRegression model\n",
    "model = LogisticRegression()\n",
    "model.fit(X_train, Y_train)\n",
    "\n",
    "# Test the LogisticRegression model\n",
    "Y_pred = model.predict(X_test)\n",
    "\n",
    "# Evaluate the performance of the model\n",
    "acc=accuracy_score(Y_test, Y_pred)\n",
    "C_Models.append('LogisticRegression')\n",
    "\n",
    "Accuracy.append(acc)\n",
    "acc"
   ]
  },
  {
   "cell_type": "code",
   "execution_count": 104,
   "metadata": {
    "colab": {
     "base_uri": "https://localhost:8080/"
    },
    "id": "3MGfiVSCvz2m",
    "outputId": "86c179ca-3986-4e9f-9ac1-79fa9ba7d495"
   },
   "outputs": [
    {
     "data": {
      "text/plain": [
       "{'n_neighbors': 2}"
      ]
     },
     "execution_count": 104,
     "metadata": {},
     "output_type": "execute_result"
    }
   ],
   "source": [
    "from sklearn.model_selection import GridSearchCV\n",
    "from sklearn import neighbors\n",
    "\n",
    "params = {'n_neighbors':[2,3,4,5,6,7,8,9]}\n",
    "\n",
    "knn = neighbors.KNeighborsRegressor()\n",
    "\n",
    "model = GridSearchCV(knn, params, cv=5)\n",
    "model.fit(X_train,Y_train)\n",
    "model.best_params_"
   ]
  },
  {
   "cell_type": "code",
   "execution_count": 105,
   "metadata": {
    "colab": {
     "base_uri": "https://localhost:8080/"
    },
    "id": "C8s1yn6_MSGQ",
    "outputId": "6636f403-afb7-4208-b91e-57ff2b42523c"
   },
   "outputs": [
    {
     "name": "stdout",
     "output_type": "stream",
     "text": [
      "Wall time: 29 s\n"
     ]
    },
    {
     "data": {
      "text/plain": [
       "0.9282574026981596"
      ]
     },
     "execution_count": 105,
     "metadata": {},
     "output_type": "execute_result"
    }
   ],
   "source": [
    "%%time\n",
    "#KNeighborsClassifier model\n",
    "model = KNeighborsClassifier(n_neighbors=3)\n",
    "model.fit(X_train, Y_train)\n",
    "\n",
    "# Test the KNeighborsClassifier model\n",
    "Y_pred = model.predict(X_test)\n",
    "\n",
    "# Evaluate the performance of the model\n",
    "acc=accuracy_score(Y_test, Y_pred)\n",
    "C_Models.append('KNeighborsClassifier')\n",
    "\n",
    "Accuracy.append(acc)\n",
    "acc"
   ]
  },
  {
   "cell_type": "code",
   "execution_count": 106,
   "metadata": {
    "colab": {
     "base_uri": "https://localhost:8080/"
    },
    "id": "CJ5Fipl51AKQ",
    "outputId": "68afea82-79f8-4cf4-d32b-aad0a4f82ec2"
   },
   "outputs": [
    {
     "name": "stdout",
     "output_type": "stream",
     "text": [
      "Wall time: 1min 30s\n"
     ]
    },
    {
     "data": {
      "text/plain": [
       "0.7892978750915909"
      ]
     },
     "execution_count": 106,
     "metadata": {},
     "output_type": "execute_result"
    }
   ],
   "source": [
    "%%time\n",
    "#AdaBoostClassifier model\n",
    "model = AdaBoostClassifier(n_estimators=100)\n",
    "model.fit(X_train, Y_train)\n",
    "\n",
    "# Test the AdaBoostClassifier model\n",
    "Y_pred = model.predict(X_test)\n",
    "\n",
    "# Evaluate the performance of the model\n",
    "acc=accuracy_score(Y_test, Y_pred)\n",
    "C_Models.append('AdaBoostClassifier')\n",
    "\n",
    "Accuracy.append(acc)\n",
    "acc"
   ]
  },
  {
   "cell_type": "code",
   "execution_count": 107,
   "metadata": {
    "colab": {
     "base_uri": "https://localhost:8080/"
    },
    "id": "hazq_89LRxix",
    "outputId": "a43b7be3-5974-4416-f8f6-814bba4be3dc"
   },
   "outputs": [
    {
     "name": "stdout",
     "output_type": "stream",
     "text": [
      "Wall time: 5.93 s\n"
     ]
    },
    {
     "data": {
      "text/plain": [
       "0.9372656351019353"
      ]
     },
     "execution_count": 107,
     "metadata": {},
     "output_type": "execute_result"
    }
   ],
   "source": [
    "%%time\n",
    "#Decision Tree model\n",
    "model = DecisionTreeClassifier(max_depth=18)\n",
    "model.fit(X_train, Y_train)\n",
    "\n",
    "# Test the Decision Tree model\n",
    "Y_pred = model.predict(X_test)\n",
    "\n",
    "# Evaluate the performance of the model\n",
    "acc=accuracy_score(Y_test, Y_pred)\n",
    "C_Models.append('Decision Tree')\n",
    "Accuracy.append(acc)\n",
    "acc"
   ]
  },
  {
   "cell_type": "code",
   "execution_count": 108,
   "metadata": {
    "colab": {
     "base_uri": "https://localhost:8080/"
    },
    "id": "X43w5ByWqRKR",
    "outputId": "79641ee6-1eb4-45ab-d8b2-4a2b856a42b0"
   },
   "outputs": [
    {
     "name": "stdout",
     "output_type": "stream",
     "text": [
      "Wall time: 352 ms\n"
     ]
    },
    {
     "data": {
      "text/plain": [
       "0.6906814361449938"
      ]
     },
     "execution_count": 108,
     "metadata": {},
     "output_type": "execute_result"
    }
   ],
   "source": [
    "%%time\n",
    "#naive_bayes model\n",
    "model = GaussianNB()\n",
    "model.fit(X_train, Y_train)\n",
    "\n",
    "# Test the naive_bayes model\n",
    "Y_pred = model.predict(X_test)\n",
    "\n",
    "# Evaluate the performance of the model\n",
    "acc=accuracy_score(Y_test, Y_pred)\n",
    "C_Models.append('GaussianNB')\n",
    "Accuracy.append(acc)\n",
    "acc"
   ]
  },
  {
   "cell_type": "code",
   "execution_count": 109,
   "metadata": {
    "colab": {
     "base_uri": "https://localhost:8080/"
    },
    "id": "3Qn8XuRKqbzL",
    "outputId": "9964a5f2-7e86-4dd8-966c-a8f9e4b97ca6"
   },
   "outputs": [
    {
     "name": "stdout",
     "output_type": "stream",
     "text": [
      "Wall time: 23.6 s\n"
     ]
    },
    {
     "data": {
      "text/plain": [
       "0.9642256799275893"
      ]
     },
     "execution_count": 109,
     "metadata": {},
     "output_type": "execute_result"
    }
   ],
   "source": [
    "%%time\n",
    "#RandomForestClassifier model\n",
    "model = RandomForestClassifier(n_estimators=10)\n",
    "model.fit(X_train, Y_train)\n",
    "\n",
    "# Test the RandomForestClassifier model\n",
    "Y_pred = model.predict(X_test)\n",
    "\n",
    "# Evaluate the performance of the model\n",
    "acc=accuracy_score(Y_test, Y_pred)\n",
    "C_Models.append('RandomForestClassifier')\n",
    "Accuracy.append(acc)\n",
    "acc"
   ]
  },
  {
   "cell_type": "code",
   "execution_count": 110,
   "metadata": {},
   "outputs": [
    {
     "data": {
      "text/plain": [
       "[0.6955519158656954,\n",
       " 0.9282574026981596,\n",
       " 0.7892978750915909,\n",
       " 0.9372656351019353,\n",
       " 0.6906814361449938,\n",
       " 0.9642256799275893]"
      ]
     },
     "execution_count": 110,
     "metadata": {},
     "output_type": "execute_result"
    }
   ],
   "source": [
    "Accuracy"
   ]
  },
  {
   "cell_type": "markdown",
   "metadata": {},
   "source": [
    "# Visualzing the Accuracy scores"
   ]
  },
  {
   "cell_type": "code",
   "execution_count": 111,
   "metadata": {
    "colab": {
     "base_uri": "https://localhost:8080/",
     "height": 472
    },
    "id": "2KK0X8L_2XpO",
    "outputId": "9e3d0902-0eaa-4e93-fa9d-5bb883b6b602"
   },
   "outputs": [
    {
     "data": {
      "image/png": "[encoded data removed]",
      "text/plain": [
       "<Figure size 432x288 with 1 Axes>"
      ]
     },
     "metadata": {
      "needs_background": "light"
     },
     "output_type": "display_data"
    }
   ],
   "source": [
    "plt.barh(C_Models, Accuracy,\n",
    "        height = 0.1, color = \"red\")\n",
    " \n",
    "plt.xlabel(\"Accuracy\")\n",
    "plt.ylabel(\"C_Models\")\n",
    "plt.title(\"checking accuracy on models\")\n",
    "plt.show()"
   ]
  },
  {
   "cell_type": "markdown",
   "metadata": {
    "id": "JMNqAah1aAtK"
   },
   "source": [
    "# Observation\n",
    "\n",
    "From this dataset, \" RandomForestClassifier \"  model gives the best accuracy, hence considering it as the best-performing model"
   ]
  },
  {
   "cell_type": "code",
   "execution_count": 112,
   "metadata": {
    "id": "IuDeexWmZ_aV"
   },
   "outputs": [],
   "source": [
    "#creating pickle files to save the trained models in a file\n",
    "\n",
    "#RandomForestClassifier model\n",
    "model = RandomForestClassifier(n_estimators=10)\n",
    "model.fit(X_train, Y_train)\n",
    "\n",
    "pickle.dump(model, open('Classification_model.pkl', 'wb'))"
   ]
  },
  {
   "cell_type": "code",
   "execution_count": 113,
   "metadata": {
    "colab": {
     "base_uri": "https://localhost:8080/"
    },
    "id": "P-uJgw60DJOh",
    "outputId": "952c6d8b-d4fd-4edb-8854-92f5e283bf1f"
   },
   "outputs": [
    {
     "name": "stdout",
     "output_type": "stream",
     "text": [
      "confusion_matrix\n",
      " [[22652   571]\n",
      " [  896 22283]]\n",
      "\n",
      "\n",
      "accuracy_score 0.9683849834058876\n",
      "\n",
      "\n",
      "f1_score 0.9681315577954945\n",
      "\n",
      "\n",
      "roc_auc_score 0.9683783135273816\n"
     ]
    }
   ],
   "source": [
    "#metrics\n",
    "Y_pred=model.predict(X_test)\n",
    "\n",
    "print('confusion_matrix\\n',confusion_matrix(Y_test, Y_pred))\n",
    "print('\\n')\n",
    "print('accuracy_score',accuracy_score(Y_test, Y_pred))\n",
    "print('\\n')\n",
    "print('f1_score',f1_score(Y_test, Y_pred))\n",
    "print('\\n')\n",
    "print('roc_auc_score',roc_auc_score(Y_test, Y_pred))"
   ]
  }
 ],
 "metadata": {
  "accelerator": "TPU",
  "colab": {
   "authorship_tag": "ABX9TyM6kurnhjpFiZrvaj6wjQ/+",
   "gpuType": "T4",
   "include_colab_link": true,
   "mount_file_id": "12YqDoOcHmWrkcsm8sG3IWNy8HYtZg0Da",
   "provenance": []
  },
  "gpuClass": "standard",
  "kernelspec": {
   "display_name": "Python 3 (ipykernel)",
   "language": "python",
   "name": "python3"
  },
  "language_info": {
   "codemirror_mode": {
    "name": "ipython",
    "version": 3
   },
   "file_extension": ".py",
   "mimetype": "text/x-python",
   "name": "python",
   "nbconvert_exporter": "python",
   "pygments_lexer": "ipython3",
   "version": "3.9.7"
  }
 },
 "nbformat": 4,
 "nbformat_minor": 1
}
