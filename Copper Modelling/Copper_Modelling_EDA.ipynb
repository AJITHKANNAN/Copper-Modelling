{
 "cells": [
  {
   "cell_type": "code",
   "execution_count": 1,
   "id": "f3789da6",
   "metadata": {},
   "outputs": [],
   "source": [
    "import pandas as pd\n",
    "import numpy as np\n",
    "import matplotlib.pyplot as plt\n",
    "import seaborn as sns\n",
    "import sklearn\n",
    "import pickle\n",
    "import warnings \n",
    "  \n",
    "# Settings the warnings to be ignored \n",
    "warnings.filterwarnings('ignore') "
   ]
  },
  {
   "cell_type": "code",
   "execution_count": 2,
   "id": "8a807b95",
   "metadata": {
    "scrolled": false
   },
   "outputs": [
    {
     "data": {
      "text/html": [
       "<div>\n",
       "<style scoped>\n",
       "    .dataframe tbody tr th:only-of-type {\n",
       "        vertical-align: middle;\n",
       "    }\n",
       "\n",
       "    .dataframe tbody tr th {\n",
       "        vertical-align: top;\n",
       "    }\n",
       "\n",
       "    .dataframe thead th {\n",
       "        text-align: right;\n",
       "    }\n",
       "</style>\n",
       "<table border=\"1\" class=\"dataframe\">\n",
       "  <thead>\n",
       "    <tr style=\"text-align: right;\">\n",
       "      <th></th>\n",
       "      <th>id</th>\n",
       "      <th>item_date</th>\n",
       "      <th>quantity tons</th>\n",
       "      <th>customer</th>\n",
       "      <th>country</th>\n",
       "      <th>status</th>\n",
       "      <th>item type</th>\n",
       "      <th>application</th>\n",
       "      <th>thickness</th>\n",
       "      <th>width</th>\n",
       "      <th>material_ref</th>\n",
       "      <th>product_ref</th>\n",
       "      <th>delivery date</th>\n",
       "      <th>selling_price</th>\n",
       "    </tr>\n",
       "  </thead>\n",
       "  <tbody>\n",
       "    <tr>\n",
       "      <th>0</th>\n",
       "      <td>EC06F063-9DF0-440C-8764-0B0C05A4F6AE</td>\n",
       "      <td>20210401.0</td>\n",
       "      <td>54.151139</td>\n",
       "      <td>30156308.0</td>\n",
       "      <td>28.0</td>\n",
       "      <td>Won</td>\n",
       "      <td>W</td>\n",
       "      <td>10.0</td>\n",
       "      <td>2.0</td>\n",
       "      <td>1500.0</td>\n",
       "      <td>DEQ1 S460MC</td>\n",
       "      <td>1670798778</td>\n",
       "      <td>20210701.0</td>\n",
       "      <td>854.0</td>\n",
       "    </tr>\n",
       "    <tr>\n",
       "      <th>1</th>\n",
       "      <td>4E5F4B3D-DDDF-499D-AFDE-A3227EC49425</td>\n",
       "      <td>20210401.0</td>\n",
       "      <td>768.024839</td>\n",
       "      <td>30202938.0</td>\n",
       "      <td>25.0</td>\n",
       "      <td>Won</td>\n",
       "      <td>W</td>\n",
       "      <td>41.0</td>\n",
       "      <td>0.8</td>\n",
       "      <td>1210.0</td>\n",
       "      <td>0000000000000000000000000000000000104991</td>\n",
       "      <td>1668701718</td>\n",
       "      <td>20210401.0</td>\n",
       "      <td>1047.0</td>\n",
       "    </tr>\n",
       "  </tbody>\n",
       "</table>\n",
       "</div>"
      ],
      "text/plain": [
       "                                     id   item_date quantity tons    customer  \\\n",
       "0  EC06F063-9DF0-440C-8764-0B0C05A4F6AE  20210401.0     54.151139  30156308.0   \n",
       "1  4E5F4B3D-DDDF-499D-AFDE-A3227EC49425  20210401.0    768.024839  30202938.0   \n",
       "\n",
       "   country status item type  application  thickness   width  \\\n",
       "0     28.0    Won         W         10.0        2.0  1500.0   \n",
       "1     25.0    Won         W         41.0        0.8  1210.0   \n",
       "\n",
       "                               material_ref  product_ref  delivery date  \\\n",
       "0                               DEQ1 S460MC   1670798778     20210701.0   \n",
       "1  0000000000000000000000000000000000104991   1668701718     20210401.0   \n",
       "\n",
       "   selling_price  \n",
       "0          854.0  \n",
       "1         1047.0  "
      ]
     },
     "execution_count": 2,
     "metadata": {},
     "output_type": "execute_result"
    }
   ],
   "source": [
    "# Read the CSV file into a pandas dataframe\n",
    "df1 = pd.read_csv(r\"E:\\Copper Modelling\\Copper_dataset.csv\")\n",
    "df1.head(2)"
   ]
  },
  {
   "cell_type": "code",
   "execution_count": 3,
   "id": "da303ac4",
   "metadata": {},
   "outputs": [
    {
     "name": "stdout",
     "output_type": "stream",
     "text": [
      "<class 'pandas.core.frame.DataFrame'>\n",
      "RangeIndex: 181673 entries, 0 to 181672\n",
      "Data columns (total 14 columns):\n",
      " #   Column         Non-Null Count   Dtype  \n",
      "---  ------         --------------   -----  \n",
      " 0   id             181671 non-null  object \n",
      " 1   item_date      181672 non-null  float64\n",
      " 2   quantity tons  181673 non-null  object \n",
      " 3   customer       181672 non-null  float64\n",
      " 4   country        181645 non-null  float64\n",
      " 5   status         181671 non-null  object \n",
      " 6   item type      181673 non-null  object \n",
      " 7   application    181649 non-null  float64\n",
      " 8   thickness      181672 non-null  float64\n",
      " 9   width          181673 non-null  float64\n",
      " 10  material_ref   103754 non-null  object \n",
      " 11  product_ref    181673 non-null  int64  \n",
      " 12  delivery date  181672 non-null  float64\n",
      " 13  selling_price  181672 non-null  float64\n",
      "dtypes: float64(8), int64(1), object(5)\n",
      "memory usage: 19.4+ MB\n"
     ]
    }
   ],
   "source": [
    "df1.info()"
   ]
  },
  {
   "cell_type": "code",
   "execution_count": null,
   "id": "badb94be",
   "metadata": {},
   "outputs": [],
   "source": []
  },
  {
   "cell_type": "code",
   "execution_count": 4,
   "id": "87b566bb",
   "metadata": {},
   "outputs": [],
   "source": [
    "df = df1.drop([\"item_date\",\"delivery date\"], axis =1)"
   ]
  },
  {
   "cell_type": "code",
   "execution_count": 151,
   "id": "81a1f804",
   "metadata": {},
   "outputs": [
    {
     "name": "stdout",
     "output_type": "stream",
     "text": [
      "<class 'pandas.core.frame.DataFrame'>\n",
      "RangeIndex: 181673 entries, 0 to 181672\n",
      "Data columns (total 12 columns):\n",
      " #   Column         Non-Null Count   Dtype  \n",
      "---  ------         --------------   -----  \n",
      " 0   id             181671 non-null  object \n",
      " 1   quantity tons  181673 non-null  object \n",
      " 2   customer       181672 non-null  float64\n",
      " 3   country        181645 non-null  float64\n",
      " 4   status         181671 non-null  object \n",
      " 5   item type      181673 non-null  object \n",
      " 6   application    181649 non-null  float64\n",
      " 7   thickness      181672 non-null  float64\n",
      " 8   width          181673 non-null  float64\n",
      " 9   material_ref   103754 non-null  object \n",
      " 10  product_ref    181673 non-null  int64  \n",
      " 11  selling_price  181672 non-null  float64\n",
      "dtypes: float64(6), int64(1), object(5)\n",
      "memory usage: 16.6+ MB\n"
     ]
    }
   ],
   "source": [
    "df.info()"
   ]
  },
  {
   "cell_type": "code",
   "execution_count": 152,
   "id": "834d5936",
   "metadata": {},
   "outputs": [
    {
     "data": {
      "text/plain": [
       "Index(['id', 'item_date', 'quantity tons', 'customer', 'country', 'status',\n",
       "       'item type', 'application', 'thickness', 'width', 'material_ref',\n",
       "       'product_ref', 'delivery date', 'selling_price'],\n",
       "      dtype='object')"
      ]
     },
     "execution_count": 152,
     "metadata": {},
     "output_type": "execute_result"
    }
   ],
   "source": [
    "df1.columns"
   ]
  },
  {
   "cell_type": "code",
   "execution_count": 5,
   "id": "b9b7369b",
   "metadata": {},
   "outputs": [],
   "source": [
    "df2 = df1.drop(['id',  'quantity tons', 'customer', 'country', 'status',\n",
    "       'item type', 'application', 'thickness', 'width', 'material_ref',\n",
    "       'product_ref',  'selling_price'], axis =1)"
   ]
  },
  {
   "cell_type": "code",
   "execution_count": 154,
   "id": "6576a0d2",
   "metadata": {},
   "outputs": [
    {
     "data": {
      "text/html": [
       "<div>\n",
       "<style scoped>\n",
       "    .dataframe tbody tr th:only-of-type {\n",
       "        vertical-align: middle;\n",
       "    }\n",
       "\n",
       "    .dataframe tbody tr th {\n",
       "        vertical-align: top;\n",
       "    }\n",
       "\n",
       "    .dataframe thead th {\n",
       "        text-align: right;\n",
       "    }\n",
       "</style>\n",
       "<table border=\"1\" class=\"dataframe\">\n",
       "  <thead>\n",
       "    <tr style=\"text-align: right;\">\n",
       "      <th></th>\n",
       "      <th>item_date</th>\n",
       "      <th>delivery date</th>\n",
       "    </tr>\n",
       "  </thead>\n",
       "  <tbody>\n",
       "    <tr>\n",
       "      <th>0</th>\n",
       "      <td>20210401.0</td>\n",
       "      <td>20210701.0</td>\n",
       "    </tr>\n",
       "    <tr>\n",
       "      <th>1</th>\n",
       "      <td>20210401.0</td>\n",
       "      <td>20210401.0</td>\n",
       "    </tr>\n",
       "    <tr>\n",
       "      <th>2</th>\n",
       "      <td>20210401.0</td>\n",
       "      <td>20210101.0</td>\n",
       "    </tr>\n",
       "    <tr>\n",
       "      <th>3</th>\n",
       "      <td>20210401.0</td>\n",
       "      <td>20210101.0</td>\n",
       "    </tr>\n",
       "    <tr>\n",
       "      <th>4</th>\n",
       "      <td>20210401.0</td>\n",
       "      <td>20210301.0</td>\n",
       "    </tr>\n",
       "    <tr>\n",
       "      <th>...</th>\n",
       "      <td>...</td>\n",
       "      <td>...</td>\n",
       "    </tr>\n",
       "    <tr>\n",
       "      <th>181668</th>\n",
       "      <td>20200702.0</td>\n",
       "      <td>20200701.0</td>\n",
       "    </tr>\n",
       "    <tr>\n",
       "      <th>181669</th>\n",
       "      <td>20200702.0</td>\n",
       "      <td>20200701.0</td>\n",
       "    </tr>\n",
       "    <tr>\n",
       "      <th>181670</th>\n",
       "      <td>20200702.0</td>\n",
       "      <td>20200701.0</td>\n",
       "    </tr>\n",
       "    <tr>\n",
       "      <th>181671</th>\n",
       "      <td>20200702.0</td>\n",
       "      <td>20200701.0</td>\n",
       "    </tr>\n",
       "    <tr>\n",
       "      <th>181672</th>\n",
       "      <td>20200702.0</td>\n",
       "      <td>20200701.0</td>\n",
       "    </tr>\n",
       "  </tbody>\n",
       "</table>\n",
       "<p>181673 rows × 2 columns</p>\n",
       "</div>"
      ],
      "text/plain": [
       "         item_date  delivery date\n",
       "0       20210401.0     20210701.0\n",
       "1       20210401.0     20210401.0\n",
       "2       20210401.0     20210101.0\n",
       "3       20210401.0     20210101.0\n",
       "4       20210401.0     20210301.0\n",
       "...            ...            ...\n",
       "181668  20200702.0     20200701.0\n",
       "181669  20200702.0     20200701.0\n",
       "181670  20200702.0     20200701.0\n",
       "181671  20200702.0     20200701.0\n",
       "181672  20200702.0     20200701.0\n",
       "\n",
       "[181673 rows x 2 columns]"
      ]
     },
     "execution_count": 154,
     "metadata": {},
     "output_type": "execute_result"
    }
   ],
   "source": [
    "df2"
   ]
  },
  {
   "cell_type": "markdown",
   "id": "3c4eae87",
   "metadata": {},
   "source": [
    "# Remove unwanted spaces"
   ]
  },
  {
   "cell_type": "code",
   "execution_count": 13,
   "id": "4de679ee",
   "metadata": {},
   "outputs": [],
   "source": [
    "def whitespace_remover(dataframe):\n",
    "   \n",
    "    # iterating over the columns\n",
    "    for i in dataframe.columns:\n",
    "         \n",
    "        # checking datatype of each columns\n",
    "        if dataframe[i].dtype == 'object':\n",
    "             \n",
    "            # applying strip function on column\n",
    "            dataframe[i] = dataframe[i].map(str.strip)\n",
    "            #dataframe[i] = dataframe[i].str.replace(' ', '')\n",
    "        else:\n",
    "             \n",
    "            # if condn. is False then it will do nothing.\n",
    "            pass\n",
    " \n",
    "# applying whitespace_remover function on dataframe\n",
    "#whitespace_remover(df)\n",
    " "
   ]
  },
  {
   "cell_type": "code",
   "execution_count": null,
   "id": "f3b2fdc5",
   "metadata": {},
   "outputs": [],
   "source": []
  },
  {
   "cell_type": "code",
   "execution_count": 14,
   "id": "1c4af973",
   "metadata": {},
   "outputs": [],
   "source": [
    "# pd.concat([df, df1], axis=1, join='inner')\n",
    "\n",
    "df = pd.concat([df, df2], axis = 1)"
   ]
  },
  {
   "cell_type": "code",
   "execution_count": 15,
   "id": "ed0322ed",
   "metadata": {},
   "outputs": [
    {
     "data": {
      "text/html": [
       "<div>\n",
       "<style scoped>\n",
       "    .dataframe tbody tr th:only-of-type {\n",
       "        vertical-align: middle;\n",
       "    }\n",
       "\n",
       "    .dataframe tbody tr th {\n",
       "        vertical-align: top;\n",
       "    }\n",
       "\n",
       "    .dataframe thead th {\n",
       "        text-align: right;\n",
       "    }\n",
       "</style>\n",
       "<table border=\"1\" class=\"dataframe\">\n",
       "  <thead>\n",
       "    <tr style=\"text-align: right;\">\n",
       "      <th></th>\n",
       "      <th>id</th>\n",
       "      <th>quantity tons</th>\n",
       "      <th>customer</th>\n",
       "      <th>country</th>\n",
       "      <th>status</th>\n",
       "      <th>item type</th>\n",
       "      <th>application</th>\n",
       "      <th>thickness</th>\n",
       "      <th>width</th>\n",
       "      <th>material_ref</th>\n",
       "      <th>product_ref</th>\n",
       "      <th>selling_price</th>\n",
       "      <th>item_date</th>\n",
       "      <th>delivery date</th>\n",
       "    </tr>\n",
       "  </thead>\n",
       "  <tbody>\n",
       "    <tr>\n",
       "      <th>0</th>\n",
       "      <td>EC06F063-9DF0-440C-8764-0B0C05A4F6AE</td>\n",
       "      <td>54.151139</td>\n",
       "      <td>30156308.0</td>\n",
       "      <td>28.0</td>\n",
       "      <td>Won</td>\n",
       "      <td>W</td>\n",
       "      <td>10.0</td>\n",
       "      <td>2.00</td>\n",
       "      <td>1500.0</td>\n",
       "      <td>DEQ1 S460MC</td>\n",
       "      <td>1670798778</td>\n",
       "      <td>854.00</td>\n",
       "      <td>20210401.0</td>\n",
       "      <td>20210701.0</td>\n",
       "    </tr>\n",
       "    <tr>\n",
       "      <th>1</th>\n",
       "      <td>4E5F4B3D-DDDF-499D-AFDE-A3227EC49425</td>\n",
       "      <td>768.024839</td>\n",
       "      <td>30202938.0</td>\n",
       "      <td>25.0</td>\n",
       "      <td>Won</td>\n",
       "      <td>W</td>\n",
       "      <td>41.0</td>\n",
       "      <td>0.80</td>\n",
       "      <td>1210.0</td>\n",
       "      <td>0000000000000000000000000000000000104991</td>\n",
       "      <td>1668701718</td>\n",
       "      <td>1047.00</td>\n",
       "      <td>20210401.0</td>\n",
       "      <td>20210401.0</td>\n",
       "    </tr>\n",
       "    <tr>\n",
       "      <th>2</th>\n",
       "      <td>E140FF1B-2407-4C02-A0DD-780A093B1158</td>\n",
       "      <td>386.127949</td>\n",
       "      <td>30153963.0</td>\n",
       "      <td>30.0</td>\n",
       "      <td>Won</td>\n",
       "      <td>WI</td>\n",
       "      <td>28.0</td>\n",
       "      <td>0.38</td>\n",
       "      <td>952.0</td>\n",
       "      <td>S0380700</td>\n",
       "      <td>628377</td>\n",
       "      <td>644.33</td>\n",
       "      <td>20210401.0</td>\n",
       "      <td>20210101.0</td>\n",
       "    </tr>\n",
       "    <tr>\n",
       "      <th>3</th>\n",
       "      <td>F8D507A0-9C62-4EFE-831E-33E1DA53BB50</td>\n",
       "      <td>202.411065</td>\n",
       "      <td>30349574.0</td>\n",
       "      <td>32.0</td>\n",
       "      <td>Won</td>\n",
       "      <td>S</td>\n",
       "      <td>59.0</td>\n",
       "      <td>2.30</td>\n",
       "      <td>1317.0</td>\n",
       "      <td>DX51D+ZM310MAO 2.3X1317</td>\n",
       "      <td>1668701718</td>\n",
       "      <td>768.00</td>\n",
       "      <td>20210401.0</td>\n",
       "      <td>20210101.0</td>\n",
       "    </tr>\n",
       "    <tr>\n",
       "      <th>4</th>\n",
       "      <td>4E1C4E78-152B-430A-8094-ADD889C9D0AD</td>\n",
       "      <td>785.526262</td>\n",
       "      <td>30211560.0</td>\n",
       "      <td>28.0</td>\n",
       "      <td>Won</td>\n",
       "      <td>W</td>\n",
       "      <td>10.0</td>\n",
       "      <td>4.00</td>\n",
       "      <td>2000.0</td>\n",
       "      <td>2_S275JR+AR-CL1</td>\n",
       "      <td>640665</td>\n",
       "      <td>577.00</td>\n",
       "      <td>20210401.0</td>\n",
       "      <td>20210301.0</td>\n",
       "    </tr>\n",
       "    <tr>\n",
       "      <th>...</th>\n",
       "      <td>...</td>\n",
       "      <td>...</td>\n",
       "      <td>...</td>\n",
       "      <td>...</td>\n",
       "      <td>...</td>\n",
       "      <td>...</td>\n",
       "      <td>...</td>\n",
       "      <td>...</td>\n",
       "      <td>...</td>\n",
       "      <td>...</td>\n",
       "      <td>...</td>\n",
       "      <td>...</td>\n",
       "      <td>...</td>\n",
       "      <td>...</td>\n",
       "    </tr>\n",
       "    <tr>\n",
       "      <th>181668</th>\n",
       "      <td>DE633116-D1DF-4846-982E-55EFC3658A76</td>\n",
       "      <td>102.4824216</td>\n",
       "      <td>30200854.0</td>\n",
       "      <td>25.0</td>\n",
       "      <td>Won</td>\n",
       "      <td>W</td>\n",
       "      <td>41.0</td>\n",
       "      <td>0.96</td>\n",
       "      <td>1220.0</td>\n",
       "      <td>0000000000000000000000000000000001000777</td>\n",
       "      <td>164141591</td>\n",
       "      <td>591.00</td>\n",
       "      <td>20200702.0</td>\n",
       "      <td>20200701.0</td>\n",
       "    </tr>\n",
       "    <tr>\n",
       "      <th>181669</th>\n",
       "      <td>A48374B1-E6DB-45F2-889A-1F9C27C099EB</td>\n",
       "      <td>208.0864686</td>\n",
       "      <td>30200854.0</td>\n",
       "      <td>25.0</td>\n",
       "      <td>Won</td>\n",
       "      <td>W</td>\n",
       "      <td>41.0</td>\n",
       "      <td>0.95</td>\n",
       "      <td>1500.0</td>\n",
       "      <td>0000000000000000000000000000000001000227</td>\n",
       "      <td>164141591</td>\n",
       "      <td>589.00</td>\n",
       "      <td>20200702.0</td>\n",
       "      <td>20200701.0</td>\n",
       "    </tr>\n",
       "    <tr>\n",
       "      <th>181670</th>\n",
       "      <td>91643238-5C7B-4237-9A5F-63AE3D35F320</td>\n",
       "      <td>4.235593568</td>\n",
       "      <td>30200854.0</td>\n",
       "      <td>25.0</td>\n",
       "      <td>Won</td>\n",
       "      <td>W</td>\n",
       "      <td>41.0</td>\n",
       "      <td>0.71</td>\n",
       "      <td>1250.0</td>\n",
       "      <td>0000000000000000000000000000000001004216</td>\n",
       "      <td>164141591</td>\n",
       "      <td>619.00</td>\n",
       "      <td>20200702.0</td>\n",
       "      <td>20200701.0</td>\n",
       "    </tr>\n",
       "    <tr>\n",
       "      <th>181671</th>\n",
       "      <td>7AFFD323-01D9-4E15-B80D-7D1B03498FC8</td>\n",
       "      <td>-2000</td>\n",
       "      <td>30200854.0</td>\n",
       "      <td>25.0</td>\n",
       "      <td>Won</td>\n",
       "      <td>W</td>\n",
       "      <td>41.0</td>\n",
       "      <td>0.85</td>\n",
       "      <td>1250.0</td>\n",
       "      <td>0000000000000000000000000000000001001149</td>\n",
       "      <td>164141591</td>\n",
       "      <td>601.00</td>\n",
       "      <td>20200702.0</td>\n",
       "      <td>20200701.0</td>\n",
       "    </tr>\n",
       "    <tr>\n",
       "      <th>181672</th>\n",
       "      <td>AD0CA853-AE3C-4B2F-9FBB-8B0B965F84BC</td>\n",
       "      <td>406.6865384</td>\n",
       "      <td>30200854.0</td>\n",
       "      <td>25.0</td>\n",
       "      <td>Won</td>\n",
       "      <td>W</td>\n",
       "      <td>41.0</td>\n",
       "      <td>0.71</td>\n",
       "      <td>1240.0</td>\n",
       "      <td>0000000000000000000000000000000001005439</td>\n",
       "      <td>164141591</td>\n",
       "      <td>607.00</td>\n",
       "      <td>20200702.0</td>\n",
       "      <td>20200701.0</td>\n",
       "    </tr>\n",
       "  </tbody>\n",
       "</table>\n",
       "<p>181673 rows × 14 columns</p>\n",
       "</div>"
      ],
      "text/plain": [
       "                                          id quantity tons    customer  \\\n",
       "0       EC06F063-9DF0-440C-8764-0B0C05A4F6AE     54.151139  30156308.0   \n",
       "1       4E5F4B3D-DDDF-499D-AFDE-A3227EC49425    768.024839  30202938.0   \n",
       "2       E140FF1B-2407-4C02-A0DD-780A093B1158    386.127949  30153963.0   \n",
       "3       F8D507A0-9C62-4EFE-831E-33E1DA53BB50    202.411065  30349574.0   \n",
       "4       4E1C4E78-152B-430A-8094-ADD889C9D0AD    785.526262  30211560.0   \n",
       "...                                      ...           ...         ...   \n",
       "181668  DE633116-D1DF-4846-982E-55EFC3658A76   102.4824216  30200854.0   \n",
       "181669  A48374B1-E6DB-45F2-889A-1F9C27C099EB   208.0864686  30200854.0   \n",
       "181670  91643238-5C7B-4237-9A5F-63AE3D35F320   4.235593568  30200854.0   \n",
       "181671  7AFFD323-01D9-4E15-B80D-7D1B03498FC8         -2000  30200854.0   \n",
       "181672  AD0CA853-AE3C-4B2F-9FBB-8B0B965F84BC   406.6865384  30200854.0   \n",
       "\n",
       "        country status item type  application  thickness   width  \\\n",
       "0          28.0    Won         W         10.0       2.00  1500.0   \n",
       "1          25.0    Won         W         41.0       0.80  1210.0   \n",
       "2          30.0    Won        WI         28.0       0.38   952.0   \n",
       "3          32.0    Won         S         59.0       2.30  1317.0   \n",
       "4          28.0    Won         W         10.0       4.00  2000.0   \n",
       "...         ...    ...       ...          ...        ...     ...   \n",
       "181668     25.0    Won         W         41.0       0.96  1220.0   \n",
       "181669     25.0    Won         W         41.0       0.95  1500.0   \n",
       "181670     25.0    Won         W         41.0       0.71  1250.0   \n",
       "181671     25.0    Won         W         41.0       0.85  1250.0   \n",
       "181672     25.0    Won         W         41.0       0.71  1240.0   \n",
       "\n",
       "                                    material_ref  product_ref  selling_price  \\\n",
       "0                                    DEQ1 S460MC   1670798778         854.00   \n",
       "1       0000000000000000000000000000000000104991   1668701718        1047.00   \n",
       "2                                       S0380700       628377         644.33   \n",
       "3                        DX51D+ZM310MAO 2.3X1317   1668701718         768.00   \n",
       "4                                2_S275JR+AR-CL1       640665         577.00   \n",
       "...                                          ...          ...            ...   \n",
       "181668  0000000000000000000000000000000001000777    164141591         591.00   \n",
       "181669  0000000000000000000000000000000001000227    164141591         589.00   \n",
       "181670  0000000000000000000000000000000001004216    164141591         619.00   \n",
       "181671  0000000000000000000000000000000001001149    164141591         601.00   \n",
       "181672  0000000000000000000000000000000001005439    164141591         607.00   \n",
       "\n",
       "         item_date  delivery date  \n",
       "0       20210401.0     20210701.0  \n",
       "1       20210401.0     20210401.0  \n",
       "2       20210401.0     20210101.0  \n",
       "3       20210401.0     20210101.0  \n",
       "4       20210401.0     20210301.0  \n",
       "...            ...            ...  \n",
       "181668  20200702.0     20200701.0  \n",
       "181669  20200702.0     20200701.0  \n",
       "181670  20200702.0     20200701.0  \n",
       "181671  20200702.0     20200701.0  \n",
       "181672  20200702.0     20200701.0  \n",
       "\n",
       "[181673 rows x 14 columns]"
      ]
     },
     "execution_count": 15,
     "metadata": {},
     "output_type": "execute_result"
    }
   ],
   "source": [
    "df"
   ]
  },
  {
   "cell_type": "code",
   "execution_count": 103,
   "id": "202f6226",
   "metadata": {},
   "outputs": [
    {
     "data": {
      "text/plain": [
       "(181673, 14)"
      ]
     },
     "execution_count": 103,
     "metadata": {},
     "output_type": "execute_result"
    }
   ],
   "source": [
    "df.shape"
   ]
  },
  {
   "cell_type": "code",
   "execution_count": 16,
   "id": "27e4c9d8",
   "metadata": {},
   "outputs": [
    {
     "data": {
      "text/plain": [
       "id               181671\n",
       "quantity tons    181673\n",
       "customer           1169\n",
       "country              17\n",
       "status                9\n",
       "item type             7\n",
       "application          30\n",
       "thickness           594\n",
       "width              1386\n",
       "material_ref      16563\n",
       "product_ref          33\n",
       "selling_price      9795\n",
       "item_date           252\n",
       "delivery date        28\n",
       "dtype: int64"
      ]
     },
     "execution_count": 16,
     "metadata": {},
     "output_type": "execute_result"
    }
   ],
   "source": [
    "df.nunique()"
   ]
  },
  {
   "cell_type": "markdown",
   "id": "d9614d9e",
   "metadata": {},
   "source": [
    "# Data cleaning and transformation\n",
    "# EDA"
   ]
  },
  {
   "cell_type": "markdown",
   "id": "66763bb4",
   "metadata": {},
   "source": [
    "# Missing values\n"
   ]
  },
  {
   "cell_type": "code",
   "execution_count": 17,
   "id": "6b74357f",
   "metadata": {},
   "outputs": [
    {
     "data": {
      "text/plain": [
       "id                   2\n",
       "quantity tons        0\n",
       "customer             1\n",
       "country             28\n",
       "status               2\n",
       "item type            0\n",
       "application         24\n",
       "thickness            1\n",
       "width                0\n",
       "material_ref     77919\n",
       "product_ref          0\n",
       "selling_price        1\n",
       "item_date            1\n",
       "delivery date        1\n",
       "dtype: int64"
      ]
     },
     "execution_count": 17,
     "metadata": {},
     "output_type": "execute_result"
    }
   ],
   "source": [
    "df.isna().sum()"
   ]
  },
  {
   "cell_type": "code",
   "execution_count": 18,
   "id": "0c685705",
   "metadata": {},
   "outputs": [
    {
     "name": "stdout",
     "output_type": "stream",
     "text": [
      "<class 'pandas.core.frame.DataFrame'>\n",
      "RangeIndex: 181673 entries, 0 to 181672\n",
      "Data columns (total 14 columns):\n",
      " #   Column         Non-Null Count   Dtype  \n",
      "---  ------         --------------   -----  \n",
      " 0   id             181671 non-null  object \n",
      " 1   quantity tons  181673 non-null  object \n",
      " 2   customer       181672 non-null  float64\n",
      " 3   country        181645 non-null  float64\n",
      " 4   status         181671 non-null  object \n",
      " 5   item type      181673 non-null  object \n",
      " 6   application    181649 non-null  float64\n",
      " 7   thickness      181672 non-null  float64\n",
      " 8   width          181673 non-null  float64\n",
      " 9   material_ref   103754 non-null  object \n",
      " 10  product_ref    181673 non-null  int64  \n",
      " 11  selling_price  181672 non-null  float64\n",
      " 12  item_date      181672 non-null  float64\n",
      " 13  delivery date  181672 non-null  float64\n",
      "dtypes: float64(8), int64(1), object(5)\n",
      "memory usage: 19.4+ MB\n"
     ]
    }
   ],
   "source": [
    "df.info()"
   ]
  },
  {
   "cell_type": "markdown",
   "id": "788a6475",
   "metadata": {},
   "source": [
    "# Converting necessary data types and replacing errors with Nan\n",
    "\n",
    "what error ='coerce' do?\n",
    "\n",
    "If the error argument is passed as \"coerce\" , then invalid parsing will be set as NaN"
   ]
  },
  {
   "cell_type": "markdown",
   "id": "196fae7d",
   "metadata": {},
   "source": [
    "1. strip():- This method is used to delete all the leading and trailing characters mentioned in its argument.\n",
    "\n",
    "2. lstrip():- This method is used to delete all the leading characters mentioned in its argument.\n",
    "\n",
    "3. rstrip():- This method is used to delete all the trailing characters mentioned in its argument."
   ]
  },
  {
   "cell_type": "code",
   "execution_count": 19,
   "id": "0fca39e2",
   "metadata": {},
   "outputs": [],
   "source": [
    "#converting date\n",
    "df['item_date'] = pd.to_datetime(df['item_date'], format='%Y%m%d', errors='coerce').dt.date\n",
    "df['delivery date'] = pd.to_datetime(df['delivery date'], format='%Y%m%d', errors='coerce').dt.date\n",
    "\n",
    "#strip the 0 in material reference\n",
    "df['material_ref'] = df['material_ref'].str.lstrip('0')\n",
    "\n",
    "#converting to numeric\n",
    "df['quantity tons'] = pd.to_numeric(df['quantity tons'], errors='coerce')\n",
    "df['customer'] = pd.to_numeric(df['customer'], errors='coerce')\n",
    "df['country'] = pd.to_numeric(df['country'], errors='coerce')\n",
    "df['application'] = pd.to_numeric(df['application'], errors='coerce')\n",
    "df['thickness'] = pd.to_numeric(df['thickness'], errors='coerce')\n",
    "df['width'] = pd.to_numeric(df['width'], errors='coerce')\n",
    "df['product_ref'] = pd.to_numeric(df['product_ref'], errors='coerce')\n",
    "df['selling_price'] = pd.to_numeric(df['selling_price'], errors='coerce')"
   ]
  },
  {
   "cell_type": "code",
   "execution_count": 20,
   "id": "70cb8f19",
   "metadata": {},
   "outputs": [
    {
     "name": "stdout",
     "output_type": "stream",
     "text": [
      "<class 'pandas.core.frame.DataFrame'>\n",
      "RangeIndex: 181673 entries, 0 to 181672\n",
      "Data columns (total 14 columns):\n",
      " #   Column         Non-Null Count   Dtype  \n",
      "---  ------         --------------   -----  \n",
      " 0   id             181671 non-null  object \n",
      " 1   quantity tons  181672 non-null  float64\n",
      " 2   customer       181672 non-null  float64\n",
      " 3   country        181645 non-null  float64\n",
      " 4   status         181671 non-null  object \n",
      " 5   item type      181673 non-null  object \n",
      " 6   application    181649 non-null  float64\n",
      " 7   thickness      181672 non-null  float64\n",
      " 8   width          181673 non-null  float64\n",
      " 9   material_ref   103754 non-null  object \n",
      " 10  product_ref    181673 non-null  int64  \n",
      " 11  selling_price  181672 non-null  float64\n",
      " 12  item_date      181670 non-null  object \n",
      " 13  delivery date  181670 non-null  object \n",
      "dtypes: float64(7), int64(1), object(6)\n",
      "memory usage: 19.4+ MB\n"
     ]
    }
   ],
   "source": [
    "df.info()"
   ]
  },
  {
   "cell_type": "markdown",
   "id": "77421b4a",
   "metadata": {},
   "source": [
    "# Treating missing values"
   ]
  },
  {
   "cell_type": "code",
   "execution_count": 21,
   "id": "73a81516",
   "metadata": {
    "scrolled": true
   },
   "outputs": [
    {
     "data": {
      "text/plain": [
       "id                   2\n",
       "quantity tons        1\n",
       "customer             1\n",
       "country             28\n",
       "status               2\n",
       "item type            0\n",
       "application         24\n",
       "thickness            1\n",
       "width                0\n",
       "material_ref     77919\n",
       "product_ref          0\n",
       "selling_price        1\n",
       "item_date            3\n",
       "delivery date        3\n",
       "dtype: int64"
      ]
     },
     "execution_count": 21,
     "metadata": {},
     "output_type": "execute_result"
    }
   ],
   "source": [
    "df.isna().sum()"
   ]
  },
  {
   "cell_type": "markdown",
   "id": "a16e036f",
   "metadata": {},
   "source": [
    "# # material reference columns has many null values considering it as valid feature, filling the null value with 'unknown'\n"
   ]
  },
  {
   "cell_type": "code",
   "execution_count": 22,
   "id": "59ab419a",
   "metadata": {},
   "outputs": [],
   "source": [
    "# material reference columns has many null values considering it as important, filling the null value with 'unknown'\n",
    "df.material_ref.fillna('unknown', inplace=True)\n",
    "\n",
    "# Since our dataset is huge the null value counts present on other features are less than 1 % hence dropping it\n",
    "df.dropna(inplace=True)"
   ]
  },
  {
   "cell_type": "code",
   "execution_count": 23,
   "id": "666ae1fb",
   "metadata": {},
   "outputs": [
    {
     "name": "stdout",
     "output_type": "stream",
     "text": [
      "After dropping NA:  (181631, 14)\n",
      "\n",
      "\n",
      "id               0\n",
      "quantity tons    0\n",
      "customer         0\n",
      "country          0\n",
      "status           0\n",
      "item type        0\n",
      "application      0\n",
      "thickness        0\n",
      "width            0\n",
      "material_ref     0\n",
      "product_ref      0\n",
      "selling_price    0\n",
      "item_date        0\n",
      "delivery date    0\n",
      "dtype: int64\n"
     ]
    }
   ],
   "source": [
    "print('After dropping NA: ',df.shape)\n",
    "print('\\n')\n",
    "print(df.isna().sum())"
   ]
  },
  {
   "cell_type": "markdown",
   "id": "31c06d87",
   "metadata": {},
   "source": [
    "# Data Visualization"
   ]
  },
  {
   "cell_type": "code",
   "execution_count": 24,
   "id": "3da49595",
   "metadata": {},
   "outputs": [
    {
     "data": {
      "text/html": [
       "<div>\n",
       "<style scoped>\n",
       "    .dataframe tbody tr th:only-of-type {\n",
       "        vertical-align: middle;\n",
       "    }\n",
       "\n",
       "    .dataframe tbody tr th {\n",
       "        vertical-align: top;\n",
       "    }\n",
       "\n",
       "    .dataframe thead th {\n",
       "        text-align: right;\n",
       "    }\n",
       "</style>\n",
       "<table border=\"1\" class=\"dataframe\">\n",
       "  <thead>\n",
       "    <tr style=\"text-align: right;\">\n",
       "      <th></th>\n",
       "      <th>id</th>\n",
       "      <th>quantity tons</th>\n",
       "      <th>customer</th>\n",
       "      <th>country</th>\n",
       "      <th>status</th>\n",
       "      <th>item type</th>\n",
       "      <th>application</th>\n",
       "      <th>thickness</th>\n",
       "      <th>width</th>\n",
       "      <th>material_ref</th>\n",
       "      <th>product_ref</th>\n",
       "      <th>selling_price</th>\n",
       "      <th>item_date</th>\n",
       "      <th>delivery date</th>\n",
       "    </tr>\n",
       "  </thead>\n",
       "  <tbody>\n",
       "    <tr>\n",
       "      <th>0</th>\n",
       "      <td>EC06F063-9DF0-440C-8764-0B0C05A4F6AE</td>\n",
       "      <td>54.151139</td>\n",
       "      <td>30156308.0</td>\n",
       "      <td>28.0</td>\n",
       "      <td>Won</td>\n",
       "      <td>W</td>\n",
       "      <td>10.0</td>\n",
       "      <td>2.00</td>\n",
       "      <td>1500.0</td>\n",
       "      <td>DEQ1 S460MC</td>\n",
       "      <td>1670798778</td>\n",
       "      <td>854.00</td>\n",
       "      <td>2021-04-01</td>\n",
       "      <td>2021-07-01</td>\n",
       "    </tr>\n",
       "    <tr>\n",
       "      <th>1</th>\n",
       "      <td>4E5F4B3D-DDDF-499D-AFDE-A3227EC49425</td>\n",
       "      <td>768.024839</td>\n",
       "      <td>30202938.0</td>\n",
       "      <td>25.0</td>\n",
       "      <td>Won</td>\n",
       "      <td>W</td>\n",
       "      <td>41.0</td>\n",
       "      <td>0.80</td>\n",
       "      <td>1210.0</td>\n",
       "      <td>104991</td>\n",
       "      <td>1668701718</td>\n",
       "      <td>1047.00</td>\n",
       "      <td>2021-04-01</td>\n",
       "      <td>2021-04-01</td>\n",
       "    </tr>\n",
       "    <tr>\n",
       "      <th>2</th>\n",
       "      <td>E140FF1B-2407-4C02-A0DD-780A093B1158</td>\n",
       "      <td>386.127949</td>\n",
       "      <td>30153963.0</td>\n",
       "      <td>30.0</td>\n",
       "      <td>Won</td>\n",
       "      <td>WI</td>\n",
       "      <td>28.0</td>\n",
       "      <td>0.38</td>\n",
       "      <td>952.0</td>\n",
       "      <td>S0380700</td>\n",
       "      <td>628377</td>\n",
       "      <td>644.33</td>\n",
       "      <td>2021-04-01</td>\n",
       "      <td>2021-01-01</td>\n",
       "    </tr>\n",
       "  </tbody>\n",
       "</table>\n",
       "</div>"
      ],
      "text/plain": [
       "                                     id  quantity tons    customer  country  \\\n",
       "0  EC06F063-9DF0-440C-8764-0B0C05A4F6AE      54.151139  30156308.0     28.0   \n",
       "1  4E5F4B3D-DDDF-499D-AFDE-A3227EC49425     768.024839  30202938.0     25.0   \n",
       "2  E140FF1B-2407-4C02-A0DD-780A093B1158     386.127949  30153963.0     30.0   \n",
       "\n",
       "  status item type  application  thickness   width material_ref  product_ref  \\\n",
       "0    Won         W         10.0       2.00  1500.0  DEQ1 S460MC   1670798778   \n",
       "1    Won         W         41.0       0.80  1210.0       104991   1668701718   \n",
       "2    Won        WI         28.0       0.38   952.0     S0380700       628377   \n",
       "\n",
       "   selling_price   item_date delivery date  \n",
       "0         854.00  2021-04-01    2021-07-01  \n",
       "1        1047.00  2021-04-01    2021-04-01  \n",
       "2         644.33  2021-04-01    2021-01-01  "
      ]
     },
     "execution_count": 24,
     "metadata": {},
     "output_type": "execute_result"
    }
   ],
   "source": [
    "df_plot = df.copy()\n",
    "\n",
    "df_plot.head(3)"
   ]
  },
  {
   "cell_type": "code",
   "execution_count": 25,
   "id": "2b3f0d37",
   "metadata": {},
   "outputs": [
    {
     "data": {
      "text/plain": [
       "quantity tons    424.641723\n",
       "customer        -149.089203\n",
       "country            0.753584\n",
       "application        0.724324\n",
       "thickness        303.471592\n",
       "width              0.374845\n",
       "product_ref        1.014983\n",
       "selling_price    301.353247\n",
       "dtype: float64"
      ]
     },
     "execution_count": 25,
     "metadata": {},
     "output_type": "execute_result"
    }
   ],
   "source": [
    "df_plot.skew()"
   ]
  },
  {
   "cell_type": "markdown",
   "id": "9e2deaca",
   "metadata": {},
   "source": [
    "# Finding Skewness "
   ]
  },
  {
   "cell_type": "code",
   "execution_count": 26,
   "id": "2d42993a",
   "metadata": {},
   "outputs": [
    {
     "data": {
      "image/png": "[encoded data removed]",
      "text/plain": [
       "<Figure size 720x360 with 1 Axes>"
      ]
     },
     "metadata": {
      "needs_background": "light"
     },
     "output_type": "display_data"
    }
   ],
   "source": [
    "plt.figure(figsize=(10,5))\n",
    "sns.distplot(df_plot['quantity tons'])\n",
    "plt.show()\n"
   ]
  },
  {
   "cell_type": "code",
   "execution_count": 27,
   "id": "00630f73",
   "metadata": {},
   "outputs": [
    {
     "data": {
      "image/png": "[encoded data removed]",
      "text/plain": [
       "<Figure size 720x360 with 1 Axes>"
      ]
     },
     "metadata": {
      "needs_background": "light"
     },
     "output_type": "display_data"
    }
   ],
   "source": [
    "plt.figure(figsize=(10,5))\n",
    "sns.distplot(df_plot['country'])\n",
    "plt.show()\n"
   ]
  },
  {
   "cell_type": "code",
   "execution_count": 28,
   "id": "6bebf578",
   "metadata": {},
   "outputs": [
    {
     "data": {
      "image/png": "[encoded data removed]",
      "text/plain": [
       "<Figure size 720x360 with 1 Axes>"
      ]
     },
     "metadata": {
      "needs_background": "light"
     },
     "output_type": "display_data"
    }
   ],
   "source": [
    "plt.figure(figsize=(10,5))\n",
    "sns.distplot(df_plot['application'])\n",
    "plt.show()\n",
    "\n"
   ]
  },
  {
   "cell_type": "code",
   "execution_count": 29,
   "id": "18451f70",
   "metadata": {},
   "outputs": [
    {
     "data": {
      "image/png": "[encoded data removed]",
      "text/plain": [
       "<Figure size 720x360 with 1 Axes>"
      ]
     },
     "metadata": {
      "needs_background": "light"
     },
     "output_type": "display_data"
    }
   ],
   "source": [
    "plt.figure(figsize=(10,5))\n",
    "sns.distplot(df_plot['thickness'])\n",
    "plt.show()\n"
   ]
  },
  {
   "cell_type": "code",
   "execution_count": 30,
   "id": "0a35bca9",
   "metadata": {},
   "outputs": [
    {
     "data": {
      "image/png": "[encoded data removed]",
      "text/plain": [
       "<Figure size 720x360 with 1 Axes>"
      ]
     },
     "metadata": {
      "needs_background": "light"
     },
     "output_type": "display_data"
    }
   ],
   "source": [
    "\n",
    "plt.figure(figsize=(10,5))\n",
    "sns.distplot(df_plot['width'])\n",
    "plt.show()\n"
   ]
  },
  {
   "cell_type": "code",
   "execution_count": 31,
   "id": "c0842e73",
   "metadata": {},
   "outputs": [
    {
     "data": {
      "image/png": "[encoded data removed]",
      "text/plain": [
       "<Figure size 720x360 with 1 Axes>"
      ]
     },
     "metadata": {
      "needs_background": "light"
     },
     "output_type": "display_data"
    }
   ],
   "source": [
    "\n",
    "plt.figure(figsize=(10,5))\n",
    "sns.distplot(df_plot['selling_price'])\n",
    "plt.show()"
   ]
  },
  {
   "cell_type": "markdown",
   "id": "8e1ea4a7",
   "metadata": {},
   "source": [
    "# Observation\n",
    "\n",
    "From the above distplot we can see that the features \n",
    "'selling_price' ,'thickness' ,'quantity tons' are skewed"
   ]
  },
  {
   "cell_type": "code",
   "execution_count": 7,
   "id": "48641733",
   "metadata": {},
   "outputs": [],
   "source": [
    "# Finding is there any negative values in the skewed features and replace it with Nan Values"
   ]
  },
  {
   "cell_type": "code",
   "execution_count": 32,
   "id": "cfb449fe",
   "metadata": {},
   "outputs": [
    {
     "name": "stdout",
     "output_type": "stream",
     "text": [
      "7\n",
      "4\n",
      "0\n"
     ]
    }
   ],
   "source": [
    "have_null = df_plot['selling_price'] <= 0\n",
    "print(have_null.sum())\n",
    "df_plot.loc[have_null, 'selling_price'] = np.nan\n",
    "\n",
    "have_null = df_plot['quantity tons'] <= 0\n",
    "print(have_null.sum())\n",
    "df_plot.loc[have_null, 'quantity tons'] = np.nan\n",
    "\n",
    "have_null = df_plot['thickness'] <= 0\n",
    "print(have_null.sum())\n",
    "df_plot.loc[have_null, 'thickness'] = np.nan\n"
   ]
  },
  {
   "cell_type": "code",
   "execution_count": 33,
   "id": "f58a3a17",
   "metadata": {},
   "outputs": [
    {
     "data": {
      "text/plain": [
       "181620"
      ]
     },
     "execution_count": 33,
     "metadata": {},
     "output_type": "execute_result"
    }
   ],
   "source": [
    "df_plot.dropna(inplace=True)\n",
    "len(df_plot)"
   ]
  },
  {
   "cell_type": "markdown",
   "id": "ab91e5f8",
   "metadata": {},
   "source": [
    "# Applying Log on the skewed data"
   ]
  },
  {
   "cell_type": "code",
   "execution_count": 34,
   "id": "ef8051e3",
   "metadata": {},
   "outputs": [
    {
     "data": {
      "image/png": "[encoded data removed]",
      "text/plain": [
       "<Figure size 432x288 with 1 Axes>"
      ]
     },
     "metadata": {
      "needs_background": "light"
     },
     "output_type": "display_data"
    }
   ],
   "source": [
    "df_plot['selling_price_log'] = np.log(df_plot['selling_price'])\n",
    "sns.distplot(df_plot['selling_price_log'])\n",
    "plt.show()\n",
    "\n"
   ]
  },
  {
   "cell_type": "code",
   "execution_count": 35,
   "id": "9e71b212",
   "metadata": {},
   "outputs": [
    {
     "data": {
      "image/png": "[encoded data removed]",
      "text/plain": [
       "<Figure size 432x288 with 1 Axes>"
      ]
     },
     "metadata": {
      "needs_background": "light"
     },
     "output_type": "display_data"
    }
   ],
   "source": [
    "df_plot['quantity tons_log'] = np.log(df_plot['quantity tons'])\n",
    "sns.distplot(df_plot['quantity tons_log'])\n",
    "plt.show()\n",
    "\n"
   ]
  },
  {
   "cell_type": "code",
   "execution_count": 36,
   "id": "9ff0236a",
   "metadata": {},
   "outputs": [
    {
     "data": {
      "image/png": "[encoded data removed]",
      "text/plain": [
       "<Figure size 432x288 with 1 Axes>"
      ]
     },
     "metadata": {
      "needs_background": "light"
     },
     "output_type": "display_data"
    }
   ],
   "source": [
    "df_plot['thickness_log'] = np.log(df_plot['thickness'])\n",
    "sns.distplot(df_plot['thickness_log'])\n",
    "plt.show()"
   ]
  },
  {
   "cell_type": "code",
   "execution_count": 37,
   "id": "e7c2be95",
   "metadata": {},
   "outputs": [
    {
     "data": {
      "text/html": [
       "<div>\n",
       "<style scoped>\n",
       "    .dataframe tbody tr th:only-of-type {\n",
       "        vertical-align: middle;\n",
       "    }\n",
       "\n",
       "    .dataframe tbody tr th {\n",
       "        vertical-align: top;\n",
       "    }\n",
       "\n",
       "    .dataframe thead th {\n",
       "        text-align: right;\n",
       "    }\n",
       "</style>\n",
       "<table border=\"1\" class=\"dataframe\">\n",
       "  <thead>\n",
       "    <tr style=\"text-align: right;\">\n",
       "      <th></th>\n",
       "      <th>id</th>\n",
       "      <th>quantity tons</th>\n",
       "      <th>customer</th>\n",
       "      <th>country</th>\n",
       "      <th>status</th>\n",
       "      <th>item type</th>\n",
       "      <th>application</th>\n",
       "      <th>thickness</th>\n",
       "      <th>width</th>\n",
       "      <th>material_ref</th>\n",
       "      <th>product_ref</th>\n",
       "      <th>selling_price</th>\n",
       "      <th>item_date</th>\n",
       "      <th>delivery date</th>\n",
       "      <th>selling_price_log</th>\n",
       "      <th>quantity tons_log</th>\n",
       "      <th>thickness_log</th>\n",
       "    </tr>\n",
       "  </thead>\n",
       "  <tbody>\n",
       "    <tr>\n",
       "      <th>0</th>\n",
       "      <td>EC06F063-9DF0-440C-8764-0B0C05A4F6AE</td>\n",
       "      <td>54.151139</td>\n",
       "      <td>30156308.0</td>\n",
       "      <td>28.0</td>\n",
       "      <td>Won</td>\n",
       "      <td>W</td>\n",
       "      <td>10.0</td>\n",
       "      <td>2.00</td>\n",
       "      <td>1500.0</td>\n",
       "      <td>DEQ1 S460MC</td>\n",
       "      <td>1670798778</td>\n",
       "      <td>854.00</td>\n",
       "      <td>2021-04-01</td>\n",
       "      <td>2021-07-01</td>\n",
       "      <td>6.749931</td>\n",
       "      <td>3.991779</td>\n",
       "      <td>0.693147</td>\n",
       "    </tr>\n",
       "    <tr>\n",
       "      <th>1</th>\n",
       "      <td>4E5F4B3D-DDDF-499D-AFDE-A3227EC49425</td>\n",
       "      <td>768.024839</td>\n",
       "      <td>30202938.0</td>\n",
       "      <td>25.0</td>\n",
       "      <td>Won</td>\n",
       "      <td>W</td>\n",
       "      <td>41.0</td>\n",
       "      <td>0.80</td>\n",
       "      <td>1210.0</td>\n",
       "      <td>104991</td>\n",
       "      <td>1668701718</td>\n",
       "      <td>1047.00</td>\n",
       "      <td>2021-04-01</td>\n",
       "      <td>2021-04-01</td>\n",
       "      <td>6.953684</td>\n",
       "      <td>6.643822</td>\n",
       "      <td>-0.223144</td>\n",
       "    </tr>\n",
       "    <tr>\n",
       "      <th>2</th>\n",
       "      <td>E140FF1B-2407-4C02-A0DD-780A093B1158</td>\n",
       "      <td>386.127949</td>\n",
       "      <td>30153963.0</td>\n",
       "      <td>30.0</td>\n",
       "      <td>Won</td>\n",
       "      <td>WI</td>\n",
       "      <td>28.0</td>\n",
       "      <td>0.38</td>\n",
       "      <td>952.0</td>\n",
       "      <td>S0380700</td>\n",
       "      <td>628377</td>\n",
       "      <td>644.33</td>\n",
       "      <td>2021-04-01</td>\n",
       "      <td>2021-01-01</td>\n",
       "      <td>6.468211</td>\n",
       "      <td>5.956169</td>\n",
       "      <td>-0.967584</td>\n",
       "    </tr>\n",
       "  </tbody>\n",
       "</table>\n",
       "</div>"
      ],
      "text/plain": [
       "                                     id  quantity tons    customer  country  \\\n",
       "0  EC06F063-9DF0-440C-8764-0B0C05A4F6AE      54.151139  30156308.0     28.0   \n",
       "1  4E5F4B3D-DDDF-499D-AFDE-A3227EC49425     768.024839  30202938.0     25.0   \n",
       "2  E140FF1B-2407-4C02-A0DD-780A093B1158     386.127949  30153963.0     30.0   \n",
       "\n",
       "  status item type  application  thickness   width material_ref  product_ref  \\\n",
       "0    Won         W         10.0       2.00  1500.0  DEQ1 S460MC   1670798778   \n",
       "1    Won         W         41.0       0.80  1210.0       104991   1668701718   \n",
       "2    Won        WI         28.0       0.38   952.0     S0380700       628377   \n",
       "\n",
       "   selling_price   item_date delivery date  selling_price_log  \\\n",
       "0         854.00  2021-04-01    2021-07-01           6.749931   \n",
       "1        1047.00  2021-04-01    2021-04-01           6.953684   \n",
       "2         644.33  2021-04-01    2021-01-01           6.468211   \n",
       "\n",
       "   quantity tons_log  thickness_log  \n",
       "0           3.991779       0.693147  \n",
       "1           6.643822      -0.223144  \n",
       "2           5.956169      -0.967584  "
      ]
     },
     "execution_count": 37,
     "metadata": {},
     "output_type": "execute_result"
    }
   ],
   "source": [
    "# Viewing the new dataset\n",
    "\n",
    "df_plot.head(3)"
   ]
  },
  {
   "cell_type": "code",
   "execution_count": 20,
   "id": "c11c9557",
   "metadata": {},
   "outputs": [
    {
     "data": {
      "text/plain": [
       "Index(['id', 'quantity tons', 'customer', 'country', 'status', 'item type',\n",
       "       'application', 'thickness', 'width', 'material_ref', 'product_ref',\n",
       "       'selling_price', 'item_date', 'delivery date', 'selling_price_log',\n",
       "       'quantity tons_log', 'thickness_log'],\n",
       "      dtype='object')"
      ]
     },
     "execution_count": 20,
     "metadata": {},
     "output_type": "execute_result"
    }
   ],
   "source": [
    "df_plot.columns"
   ]
  },
  {
   "cell_type": "code",
   "execution_count": null,
   "id": "52acd535",
   "metadata": {},
   "outputs": [],
   "source": []
  },
  {
   "cell_type": "code",
   "execution_count": 38,
   "id": "301c326c",
   "metadata": {},
   "outputs": [
    {
     "data": {
      "text/plain": [
       "Index(['id', 'customer', 'country', 'status', 'item type', 'application',\n",
       "       'width', 'material_ref', 'product_ref', 'item_date', 'delivery date',\n",
       "       'selling_price_log', 'quantity tons_log', 'thickness_log'],\n",
       "      dtype='object')"
      ]
     },
     "execution_count": 38,
     "metadata": {},
     "output_type": "execute_result"
    }
   ],
   "source": [
    "active_columns = df_plot.drop(['quantity tons', 'selling_price','thickness' ], axis =1)\n",
    "active_columns.columns"
   ]
  },
  {
   "cell_type": "code",
   "execution_count": 39,
   "id": "31a929b6",
   "metadata": {},
   "outputs": [
    {
     "data": {
      "text/html": [
       "<div>\n",
       "<style scoped>\n",
       "    .dataframe tbody tr th:only-of-type {\n",
       "        vertical-align: middle;\n",
       "    }\n",
       "\n",
       "    .dataframe tbody tr th {\n",
       "        vertical-align: top;\n",
       "    }\n",
       "\n",
       "    .dataframe thead th {\n",
       "        text-align: right;\n",
       "    }\n",
       "</style>\n",
       "<table border=\"1\" class=\"dataframe\">\n",
       "  <thead>\n",
       "    <tr style=\"text-align: right;\">\n",
       "      <th></th>\n",
       "      <th>customer</th>\n",
       "      <th>country</th>\n",
       "      <th>application</th>\n",
       "      <th>width</th>\n",
       "      <th>product_ref</th>\n",
       "      <th>selling_price_log</th>\n",
       "      <th>quantity tons_log</th>\n",
       "      <th>thickness_log</th>\n",
       "    </tr>\n",
       "  </thead>\n",
       "  <tbody>\n",
       "    <tr>\n",
       "      <th>customer</th>\n",
       "      <td>1.000000</td>\n",
       "      <td>0.083574</td>\n",
       "      <td>0.000895</td>\n",
       "      <td>0.050527</td>\n",
       "      <td>-0.032331</td>\n",
       "      <td>0.008731</td>\n",
       "      <td>0.080141</td>\n",
       "      <td>0.079971</td>\n",
       "    </tr>\n",
       "    <tr>\n",
       "      <th>country</th>\n",
       "      <td>0.083574</td>\n",
       "      <td>1.000000</td>\n",
       "      <td>-0.019334</td>\n",
       "      <td>0.055286</td>\n",
       "      <td>-0.147370</td>\n",
       "      <td>-0.029110</td>\n",
       "      <td>-0.088899</td>\n",
       "      <td>-0.065203</td>\n",
       "    </tr>\n",
       "    <tr>\n",
       "      <th>application</th>\n",
       "      <td>0.000895</td>\n",
       "      <td>-0.019334</td>\n",
       "      <td>1.000000</td>\n",
       "      <td>-0.204451</td>\n",
       "      <td>-0.131871</td>\n",
       "      <td>0.022665</td>\n",
       "      <td>0.063991</td>\n",
       "      <td>-0.197563</td>\n",
       "    </tr>\n",
       "    <tr>\n",
       "      <th>width</th>\n",
       "      <td>0.050527</td>\n",
       "      <td>0.055286</td>\n",
       "      <td>-0.204451</td>\n",
       "      <td>1.000000</td>\n",
       "      <td>-0.034428</td>\n",
       "      <td>-0.069453</td>\n",
       "      <td>0.034431</td>\n",
       "      <td>0.387243</td>\n",
       "    </tr>\n",
       "    <tr>\n",
       "      <th>product_ref</th>\n",
       "      <td>-0.032331</td>\n",
       "      <td>-0.147370</td>\n",
       "      <td>-0.131871</td>\n",
       "      <td>-0.034428</td>\n",
       "      <td>1.000000</td>\n",
       "      <td>0.001181</td>\n",
       "      <td>0.064064</td>\n",
       "      <td>0.234330</td>\n",
       "    </tr>\n",
       "    <tr>\n",
       "      <th>selling_price_log</th>\n",
       "      <td>0.008731</td>\n",
       "      <td>-0.029110</td>\n",
       "      <td>0.022665</td>\n",
       "      <td>-0.069453</td>\n",
       "      <td>0.001181</td>\n",
       "      <td>1.000000</td>\n",
       "      <td>0.023898</td>\n",
       "      <td>-0.154999</td>\n",
       "    </tr>\n",
       "    <tr>\n",
       "      <th>quantity tons_log</th>\n",
       "      <td>0.080141</td>\n",
       "      <td>-0.088899</td>\n",
       "      <td>0.063991</td>\n",
       "      <td>0.034431</td>\n",
       "      <td>0.064064</td>\n",
       "      <td>0.023898</td>\n",
       "      <td>1.000000</td>\n",
       "      <td>0.042005</td>\n",
       "    </tr>\n",
       "    <tr>\n",
       "      <th>thickness_log</th>\n",
       "      <td>0.079971</td>\n",
       "      <td>-0.065203</td>\n",
       "      <td>-0.197563</td>\n",
       "      <td>0.387243</td>\n",
       "      <td>0.234330</td>\n",
       "      <td>-0.154999</td>\n",
       "      <td>0.042005</td>\n",
       "      <td>1.000000</td>\n",
       "    </tr>\n",
       "  </tbody>\n",
       "</table>\n",
       "</div>"
      ],
      "text/plain": [
       "                   customer   country  application     width  product_ref  \\\n",
       "customer           1.000000  0.083574     0.000895  0.050527    -0.032331   \n",
       "country            0.083574  1.000000    -0.019334  0.055286    -0.147370   \n",
       "application        0.000895 -0.019334     1.000000 -0.204451    -0.131871   \n",
       "width              0.050527  0.055286    -0.204451  1.000000    -0.034428   \n",
       "product_ref       -0.032331 -0.147370    -0.131871 -0.034428     1.000000   \n",
       "selling_price_log  0.008731 -0.029110     0.022665 -0.069453     0.001181   \n",
       "quantity tons_log  0.080141 -0.088899     0.063991  0.034431     0.064064   \n",
       "thickness_log      0.079971 -0.065203    -0.197563  0.387243     0.234330   \n",
       "\n",
       "                   selling_price_log  quantity tons_log  thickness_log  \n",
       "customer                    0.008731           0.080141       0.079971  \n",
       "country                    -0.029110          -0.088899      -0.065203  \n",
       "application                 0.022665           0.063991      -0.197563  \n",
       "width                      -0.069453           0.034431       0.387243  \n",
       "product_ref                 0.001181           0.064064       0.234330  \n",
       "selling_price_log           1.000000           0.023898      -0.154999  \n",
       "quantity tons_log           0.023898           1.000000       0.042005  \n",
       "thickness_log              -0.154999           0.042005       1.000000  "
      ]
     },
     "execution_count": 39,
     "metadata": {},
     "output_type": "execute_result"
    }
   ],
   "source": [
    "cor= df_plot.drop(['quantity tons', 'selling_price','thickness' ], axis =1).corr()\n",
    "cor"
   ]
  },
  {
   "cell_type": "code",
   "execution_count": 40,
   "id": "e2aeb3e6",
   "metadata": {
    "scrolled": true
   },
   "outputs": [
    {
     "data": {
      "text/plain": [
       "<AxesSubplot:>"
      ]
     },
     "execution_count": 40,
     "metadata": {},
     "output_type": "execute_result"
    },
    {
     "data": {
      "image/png": "[encoded data removed]",
      "text/plain": [
       "<Figure size 720x576 with 2 Axes>"
      ]
     },
     "metadata": {
      "needs_background": "light"
     },
     "output_type": "display_data"
    }
   ],
   "source": [
    "plt.figure(figsize=(10,8))\n",
    "sns.heatmap(cor, annot=True,cmap=\"Greens\")"
   ]
  },
  {
   "cell_type": "markdown",
   "id": "bc98231f",
   "metadata": {},
   "source": [
    "# Observation\n",
    "\n",
    "From the correlation map I can see there is no much correlation between the features\n",
    "\n",
    "1) width and thickness_log are correlated around 39 %\n",
    "\n",
    "2) product_ref and thickness_log are correlated around 23%"
   ]
  },
  {
   "cell_type": "code",
   "execution_count": 41,
   "id": "5825c1ee",
   "metadata": {},
   "outputs": [
    {
     "name": "stdout",
     "output_type": "stream",
     "text": [
      "Categorical:  ['id', 'status', 'item type', 'material_ref', 'item_date', 'delivery date']\n",
      "\n",
      "\n",
      "Numeric:  ['quantity tons', 'customer', 'country', 'application', 'thickness', 'width', 'product_ref', 'selling_price', 'selling_price_log', 'quantity tons_log', 'thickness_log']\n"
     ]
    }
   ],
   "source": [
    "# creating two empty list to store categorical column names and numerical column names respectively\n",
    "categorical_list = []\n",
    "num_list = []\n",
    "\n",
    "\n",
    "# looping on whole dataset for getting list of categorical data column name\n",
    "\n",
    "for i in df_plot.columns:\n",
    "    if df_plot[i].dtype == 'object':\n",
    "        categorical_list.append(i)\n",
    "    elif df_plot[i].dtype in ('int64','float64'):\n",
    "        num_list.append(i)\n",
    "\n",
    "        \n",
    "print(\"Categorical: \",categorical_list)\n",
    "print('\\n')\n",
    "print(\"Numeric: \",num_list)\n"
   ]
  },
  {
   "cell_type": "markdown",
   "id": "15950684",
   "metadata": {},
   "source": [
    "# Scaling and its necessity\n",
    "\n",
    "Scaling. This means that you're transforming your data so that it fits within a specific scale, like 0-100 or 0-1\n",
    "\n",
    "* if the data in any conditions has data points far from each other, scaling is a technique to make them closer to each other or in simpler words, we can say that the scaling is used for making data points generalized so that the distance between them will be lower.\n",
    "\n",
    "* Most of the times, your dataset will contain features highly varying in magnitudes, units and range. \n",
    "* But since, most of the machine learning algorithms use Euclidean distance between two data points in their computations, this is a problem.\n",
    "* If left alone, these algorithms only take in the magnitude of features neglecting the units.\n",
    "* The results would vary greatly between different units, 5kg and 5000gms.\n",
    "* The features with high magnitudes will weigh in a lot more in the distance calculations than features with low magnitudes.\n",
    "* To suppress this effect, we need to bring all features to the same level of magnitudes. This can be achieved by scaling.\n",
    "\n"
   ]
  },
  {
   "cell_type": "code",
   "execution_count": 42,
   "id": "608de3d7",
   "metadata": {},
   "outputs": [
    {
     "data": {
      "text/html": [
       "<div>\n",
       "<style scoped>\n",
       "    .dataframe tbody tr th:only-of-type {\n",
       "        vertical-align: middle;\n",
       "    }\n",
       "\n",
       "    .dataframe tbody tr th {\n",
       "        vertical-align: top;\n",
       "    }\n",
       "\n",
       "    .dataframe thead th {\n",
       "        text-align: right;\n",
       "    }\n",
       "</style>\n",
       "<table border=\"1\" class=\"dataframe\">\n",
       "  <thead>\n",
       "    <tr style=\"text-align: right;\">\n",
       "      <th></th>\n",
       "      <th>id</th>\n",
       "      <th>quantity tons</th>\n",
       "      <th>customer</th>\n",
       "      <th>country</th>\n",
       "      <th>status</th>\n",
       "      <th>item type</th>\n",
       "      <th>application</th>\n",
       "      <th>thickness</th>\n",
       "      <th>width</th>\n",
       "      <th>material_ref</th>\n",
       "      <th>product_ref</th>\n",
       "      <th>selling_price</th>\n",
       "      <th>item_date</th>\n",
       "      <th>delivery date</th>\n",
       "      <th>selling_price_log</th>\n",
       "      <th>quantity tons_log</th>\n",
       "      <th>thickness_log</th>\n",
       "    </tr>\n",
       "  </thead>\n",
       "  <tbody>\n",
       "    <tr>\n",
       "      <th>0</th>\n",
       "      <td>EC06F063-9DF0-440C-8764-0B0C05A4F6AE</td>\n",
       "      <td>54.151139</td>\n",
       "      <td>30156308.0</td>\n",
       "      <td>28.0</td>\n",
       "      <td>Won</td>\n",
       "      <td>W</td>\n",
       "      <td>10.0</td>\n",
       "      <td>2.0</td>\n",
       "      <td>1500.0</td>\n",
       "      <td>DEQ1 S460MC</td>\n",
       "      <td>1670798778</td>\n",
       "      <td>854.0</td>\n",
       "      <td>2021-04-01</td>\n",
       "      <td>2021-07-01</td>\n",
       "      <td>6.749931</td>\n",
       "      <td>3.991779</td>\n",
       "      <td>0.693147</td>\n",
       "    </tr>\n",
       "    <tr>\n",
       "      <th>1</th>\n",
       "      <td>4E5F4B3D-DDDF-499D-AFDE-A3227EC49425</td>\n",
       "      <td>768.024839</td>\n",
       "      <td>30202938.0</td>\n",
       "      <td>25.0</td>\n",
       "      <td>Won</td>\n",
       "      <td>W</td>\n",
       "      <td>41.0</td>\n",
       "      <td>0.8</td>\n",
       "      <td>1210.0</td>\n",
       "      <td>104991</td>\n",
       "      <td>1668701718</td>\n",
       "      <td>1047.0</td>\n",
       "      <td>2021-04-01</td>\n",
       "      <td>2021-04-01</td>\n",
       "      <td>6.953684</td>\n",
       "      <td>6.643822</td>\n",
       "      <td>-0.223144</td>\n",
       "    </tr>\n",
       "  </tbody>\n",
       "</table>\n",
       "</div>"
      ],
      "text/plain": [
       "                                     id  quantity tons    customer  country  \\\n",
       "0  EC06F063-9DF0-440C-8764-0B0C05A4F6AE      54.151139  30156308.0     28.0   \n",
       "1  4E5F4B3D-DDDF-499D-AFDE-A3227EC49425     768.024839  30202938.0     25.0   \n",
       "\n",
       "  status item type  application  thickness   width material_ref  product_ref  \\\n",
       "0    Won         W         10.0        2.0  1500.0  DEQ1 S460MC   1670798778   \n",
       "1    Won         W         41.0        0.8  1210.0       104991   1668701718   \n",
       "\n",
       "   selling_price   item_date delivery date  selling_price_log  \\\n",
       "0          854.0  2021-04-01    2021-07-01           6.749931   \n",
       "1         1047.0  2021-04-01    2021-04-01           6.953684   \n",
       "\n",
       "   quantity tons_log  thickness_log  \n",
       "0           3.991779       0.693147  \n",
       "1           6.643822      -0.223144  "
      ]
     },
     "execution_count": 42,
     "metadata": {},
     "output_type": "execute_result"
    }
   ],
   "source": [
    "data = df_plot.copy()\n",
    "data.head(2)"
   ]
  },
  {
   "cell_type": "code",
   "execution_count": 43,
   "id": "31e499f5",
   "metadata": {},
   "outputs": [
    {
     "name": "stdout",
     "output_type": "stream",
     "text": [
      "country\n",
      "[ 28.  25.  30.  32.  38.  78.  27.  77. 113.  79.  26.  39.  40.  84.\n",
      "  80. 107.  89.]\n",
      "Labels:  [ 3  0  4  5  6 10  2  9 16 11  1  7  8 13 12 15 14]\n",
      "\n",
      "\n",
      "status\n",
      "['Won' 'Draft' 'To be approved' 'Lost' 'Not lost for AM' 'Wonderful'\n",
      " 'Revised' 'Offered' 'Offerable']\n",
      "Labels:  [7 0 6 1 2 8 5 4 3]\n",
      "\n",
      "\n",
      "customer\n",
      "[30156308. 30202938. 30153963. ... 30349515. 30284694. 30161559.]\n",
      "Labels:  [ 51 288  39 ... 952 687  97]\n",
      "\n",
      "\n",
      "item type\n",
      "['W' 'WI' 'S' 'Others' 'PL' 'IPL' 'SLAWR']\n",
      "Labels:  [5 6 3 1 2 0 4]\n",
      "\n",
      "\n",
      "application\n",
      "[10. 41. 28. 59. 15.  4. 38. 56. 42. 26. 27. 19. 20. 66. 29. 22. 40. 25.\n",
      " 67. 79.  3. 99.  2.  5. 39. 69. 70. 65. 58. 68.]\n",
      "Labels:  [ 4 17 12 21  5  2 14 19 18 10 11  6  7 23 13  8 16  9 24 28  1 29  0  3\n",
      " 15 26 27 22 20 25]\n",
      "\n",
      "\n",
      "product_ref\n",
      "[1670798778 1668701718     628377     640665     611993 1668701376\n",
      "  164141591 1671863738 1332077137     640405 1693867550 1665572374\n",
      " 1282007633 1668701698     628117 1690738206     628112     640400\n",
      " 1671876026  164336407  164337175 1668701725 1665572032     611728\n",
      " 1721130331 1693867563     611733 1690738219 1722207579  929423819\n",
      " 1665584320 1665584662 1665584642]\n",
      "Labels:  [24 22  5  8  2 20  9 25 14  7 29 16 13 21  4 27  3  6 26 10 11 23 15  0\n",
      " 31 30  1 28 32 12 17 19 18]\n",
      "\n",
      "\n"
     ]
    }
   ],
   "source": [
    "from sklearn.preprocessing import LabelEncoder\n",
    "\n",
    "cat_col=['country','status','customer','item type','application','product_ref']\n",
    "le = LabelEncoder()\n",
    "\n",
    "for i in cat_col:\n",
    "    print(i)\n",
    "    print( data[i].unique())\n",
    "    data[i] = le.fit_transform(data[i])\n",
    "    print(\"Labels: \",data[i].unique())\n",
    "    print('\\n')"
   ]
  },
  {
   "cell_type": "code",
   "execution_count": null,
   "id": "c6d5ace4",
   "metadata": {},
   "outputs": [],
   "source": []
  },
  {
   "cell_type": "markdown",
   "id": "71d9ac67",
   "metadata": {},
   "source": [
    "# Regression Evaluation metrics"
   ]
  },
  {
   "cell_type": "code",
   "execution_count": 57,
   "id": "7e8bba84",
   "metadata": {},
   "outputs": [],
   "source": [
    "# importing necessary libraries for geting metrics of models\n",
    "import math\n",
    "import sklearn.metrics as metrics\n",
    "from sklearn.metrics import median_absolute_error \n",
    "from sklearn.metrics import mean_absolute_error as mae\n",
    "from sklearn.metrics import r2_score\n",
    "\n",
    "# Function for calculating RMSE \n",
    "def rmse(x,y): \n",
    "    return math.sqrt(((x-y)**2).mean())\n",
    "    \n",
    "\n",
    "# Function for calculating all the relevant metrics \n",
    "def print_score(m):\n",
    "    res = [\n",
    "        rmse(m.predict(X_train),Y_train), \n",
    "        rmse(m.predict(X_test),Y_test), \n",
    "        m.score(X_train, Y_train), \n",
    "        m.score(X_test,Y_test),\n",
    "        median_absolute_error(m.predict(X_train), Y_train), \n",
    "        median_absolute_error(m.predict(X_test),Y_test),\n",
    "        mae(m.predict(X_train), Y_train), \n",
    "        mae(m.predict(X_test),Y_test)\n",
    "    ]\n",
    "    \n",
    "\n",
    "    print(\"RMSE-Train: \" + str(res[0]) + \"\\nRMSE-Test: \" + str(res[1]) + \"\\nScore-Train: \" + str(res[2]) + \n",
    "          \"\\nScore-Test: \" + str(res[3]) + \"\\nMedAE-Train: \" + str(res[4]) + \"\\nMedAE-Test: \" + str(res[5]) + \n",
    "          \"\\nMeanAE-Train: \" + str(res[6]) + \"\\nMeanAE-Test: \" + str(res[7]),'\\n')\n"
   ]
  },
  {
   "cell_type": "markdown",
   "id": "4737e1ab",
   "metadata": {},
   "source": [
    "# One Hot Encoding on relevant categorical variables"
   ]
  },
  {
   "cell_type": "code",
   "execution_count": 116,
   "id": "fb17faa0",
   "metadata": {
    "scrolled": true
   },
   "outputs": [],
   "source": [
    "df_plot.dropna(inplace=True)"
   ]
  },
  {
   "cell_type": "code",
   "execution_count": 119,
   "id": "854c0580",
   "metadata": {},
   "outputs": [],
   "source": [
    "X=df_plot[['quantity tons_log','status','item type','application','thickness_log','width','country','customer','product_ref']]\n",
    "y=df_plot['selling_price_log']\n",
    "\n",
    "# encoding categorical variables\n",
    "ohe = OneHotEncoder(handle_unknown='ignore')\n",
    "ohe.fit(X[['item type']])\n",
    "X_ohe = ohe.fit_transform(X[['item type']]).toarray()\n",
    "\n",
    "ohe2 = OneHotEncoder(handle_unknown='ignore')\n",
    "ohe2.fit(X[['status']])\n",
    "X_be = ohe2.fit_transform(X[['status']]).toarray()\n",
    "\n",
    "# independent features after encoding\n",
    "X = np.concatenate((X[['quantity tons_log', 'application', 'thickness_log', 'width','country','customer','product_ref']].values, X_ohe, X_be), axis=1)\n",
    "scaler = StandardScaler()\n",
    "X = scaler.fit_transform(X)\n",
    "\n",
    "# test and train split\n",
    "X_train, X_test, y_train, y_test = train_test_split(X, y, test_size=0.2, random_state=42)"
   ]
  },
  {
   "cell_type": "code",
   "execution_count": 43,
   "id": "ab2be80e",
   "metadata": {},
   "outputs": [
    {
     "data": {
      "text/plain": [
       "Index(['id', 'item_date', 'quantity tons', 'customer', 'country', 'status',\n",
       "       'item type', 'application', 'thickness', 'width', 'material_ref',\n",
       "       'product_ref', 'delivery date', 'selling_price', 'selling_price_log',\n",
       "       'quantity tons_log', 'thickness_log'],\n",
       "      dtype='object')"
      ]
     },
     "execution_count": 43,
     "metadata": {},
     "output_type": "execute_result"
    }
   ],
   "source": [
    "df_plot.columns"
   ]
  },
  {
   "cell_type": "markdown",
   "id": "b1b1cdf8",
   "metadata": {},
   "source": [
    "# Assigning X and Y for training and testing"
   ]
  },
  {
   "cell_type": "markdown",
   "id": "5ecfad97",
   "metadata": {},
   "source": [
    "# Train test split"
   ]
  },
  {
   "cell_type": "markdown",
   "id": "092f02e8",
   "metadata": {},
   "source": [
    "from sklearn.preprocessing import StandardScaler\n",
    "\n",
    "# fit scaler on training data\n",
    "\n",
    "scaler = StandardScaler()\n",
    "\n",
    "#saving pickle file for scaling\n",
    "\n",
    "pickle.dump(scaler, open('scaling_regression.pkl', 'wb'))\n",
    "\n",
    "# transform training data\n",
    "\n",
    "X = scaler.fit_transform(X)\n",
    "\n",
    "X_train, X_test, Y_train, Y_test = train_test_split(X,y, test_size = 0.2, random_state=42)"
   ]
  },
  {
   "cell_type": "code",
   "execution_count": 113,
   "id": "73ee9372",
   "metadata": {},
   "outputs": [],
   "source": [
    "#importing Sklearn library for spliting train dataset into train and test dataset\n",
    "\n",
    "from sklearn.model_selection import train_test_split\n",
    "X_train, X_test, Y_train, Y_test = train_test_split(X,y.reshape(-1), test_size = 0.2, random_state=42)"
   ]
  },
  {
   "cell_type": "markdown",
   "id": "ff812cbd",
   "metadata": {},
   "source": [
    "# Model Training"
   ]
  },
  {
   "cell_type": "markdown",
   "id": "0b78b1f5",
   "metadata": {},
   "source": [
    "# Regressor\n"
   ]
  },
  {
   "cell_type": "code",
   "execution_count": 120,
   "id": "a8e767e3",
   "metadata": {},
   "outputs": [],
   "source": [
    "from sklearn.metrics import mean_squared_error, mean_absolute_error, r2_score\n",
    "\n",
    "Rgr_models = []\n",
    "\n",
    "score = []"
   ]
  },
  {
   "cell_type": "code",
   "execution_count": 121,
   "id": "c905be66",
   "metadata": {},
   "outputs": [
    {
     "name": "stdout",
     "output_type": "stream",
     "text": [
      "RMSE-Train: 0.21609057247394167\n",
      "RMSE-Test: 157338484137.1591\n",
      "Score-Train: 0.8529225280611665\n",
      "Score-Test: -7.71563045640883e+22\n",
      "MedAE-Train: 0.15546685386016268\n",
      "MedAE-Test: 0.1556639157895825\n",
      "MeanAE-Train: 0.1728540434012626\n",
      "MeanAE-Test: 1160898022.1312504 \n",
      "\n",
      "Wall time: 675 ms\n"
     ]
    }
   ],
   "source": [
    "%%time\n",
    "\n",
    "# Linear Regression\n",
    "\n",
    "from sklearn.linear_model import LinearRegression\n",
    "\n",
    "\n",
    "# Instantiate the model\n",
    "lModel = LinearRegression()\n",
    "\n",
    "# Fit the model to the data\n",
    "lModel.fit(X_train,Y_train)\n",
    "\n",
    "Rgr_models.append(lModel)\n",
    "# print score of the model\n",
    "\n",
    "print_score(lModel)\n",
    "#score.append(r2_score(Y_test, Y_pred))"
   ]
  },
  {
   "cell_type": "markdown",
   "id": "4e3c58cb",
   "metadata": {},
   "source": [
    "# Random Forest Regressor"
   ]
  },
  {
   "cell_type": "code",
   "execution_count": 127,
   "id": "e0d4fafe",
   "metadata": {},
   "outputs": [
    {
     "name": "stdout",
     "output_type": "stream",
     "text": [
      "RMSE-Train: 0.05658591096540393\n",
      "RMSE-Test: 0.14125297314501287\n",
      "Score-Train: 0.9899146461552178\n",
      "Score-Test: 0.9378134174471935\n",
      "MedAE-Train: 0.02796060645851073\n",
      "MedAE-Test: 0.076310835869696\n",
      "MeanAE-Train: 0.038924106029906765\n",
      "MeanAE-Test: 0.1043656551308373 \n",
      "\n",
      "Wall time: 9min 11s\n"
     ]
    }
   ],
   "source": [
    "%%time\n",
    "\n",
    "from sklearn.ensemble import RandomForestRegressor\n",
    "\n",
    "# Instantiate the model\n",
    "rf= RandomForestRegressor()\n",
    "\n",
    "# Fit the model to the data\n",
    "rf.fit(X_train,Y_train)\n",
    "\n",
    "Rgr_models.append(rf)\n",
    "# print score of the model\n",
    "print_score(rf)"
   ]
  },
  {
   "cell_type": "markdown",
   "id": "94e88af9",
   "metadata": {},
   "source": [
    "# Decision Tree Regressor"
   ]
  },
  {
   "cell_type": "code",
   "execution_count": 123,
   "id": "f7af9c83",
   "metadata": {},
   "outputs": [
    {
     "name": "stdout",
     "output_type": "stream",
     "text": [
      "RMSE-Train: 1.532379888579228e-17\n",
      "RMSE-Test: 0.18664152850023297\n",
      "Score-Train: 1.0\n",
      "Score-Test: 0.891427944436094\n",
      "MedAE-Train: 0.0\n",
      "MedAE-Test: 0.06879239934472325\n",
      "MeanAE-Train: 2.7813648067638266e-19\n",
      "MeanAE-Test: 0.12430707697770191 \n",
      "\n",
      "Wall time: 8.11 s\n"
     ]
    }
   ],
   "source": [
    "%%time\n",
    "from sklearn.tree import DecisionTreeRegressor\n",
    "\n",
    "# Instantiate the model\n",
    "DTR = DecisionTreeRegressor()\n",
    "\n",
    "# Instantiate the model\n",
    "DTR.fit(X_train, Y_train)\n",
    "\n",
    "Rgr_models.append(DTR)\n",
    "print_score(DTR)"
   ]
  },
  {
   "cell_type": "markdown",
   "id": "d6a8970e",
   "metadata": {},
   "source": [
    "# Gradient Bossting Regressor"
   ]
  },
  {
   "cell_type": "code",
   "execution_count": 124,
   "id": "9db7d94d",
   "metadata": {},
   "outputs": [
    {
     "name": "stdout",
     "output_type": "stream",
     "text": [
      "RMSE-Train: 0.1864047696852243\n",
      "RMSE-Test: 0.18124396444232896\n",
      "Score-Train: 0.8905568567078357\n",
      "Score-Test: 0.8976168230249889\n",
      "MedAE-Train: 0.1461197029243393\n",
      "MedAE-Test: 0.14640860833932745\n",
      "MeanAE-Train: 0.15386631941503418\n",
      "MeanAE-Test: 0.15372156955017083 \n",
      "\n",
      "Wall time: 1min 51s\n"
     ]
    }
   ],
   "source": [
    "%%time\n",
    "from sklearn.ensemble import GradientBoostingRegressor\n",
    "\n",
    "# Instantiate the model\n",
    "GBR = GradientBoostingRegressor()\n",
    "\n",
    "GBR.fit(X_train,Y_train)\n",
    "\n",
    "Rgr_models.append(GBR)\n",
    "# print score of the model\n",
    "\n",
    "print_score(GBR)"
   ]
  },
  {
   "cell_type": "markdown",
   "id": "1cc19f84",
   "metadata": {},
   "source": [
    "#  ADA Boost Regressor"
   ]
  },
  {
   "cell_type": "code",
   "execution_count": 125,
   "id": "f4bbbae2",
   "metadata": {},
   "outputs": [
    {
     "name": "stdout",
     "output_type": "stream",
     "text": [
      "RMSE-Train: 0.2911845243351031\n",
      "RMSE-Test: 0.2916883874491138\n",
      "Score-Train: 0.7329386158261955\n",
      "Score-Test: 0.7348206055891007\n",
      "MedAE-Train: 0.18467856903138546\n",
      "MedAE-Test: 0.183140905516602\n",
      "MeanAE-Train: 0.21972077688725347\n",
      "MeanAE-Test: 0.21856694804348523 \n",
      "\n",
      "Wall time: 50 s\n"
     ]
    }
   ],
   "source": [
    "%%time\n",
    "from sklearn.ensemble import AdaBoostRegressor\n",
    "\n",
    "\n",
    "# Instantiate the model\n",
    "AdaBoost = AdaBoostRegressor()\n",
    "\n",
    "\n",
    "# Instantiate the model\n",
    "AdaBoost.fit(X_train, Y_train)\n",
    "\n",
    "Rgr_models.append(AdaBoost)\n",
    "# print score of the model\n",
    "print_score(AdaBoost)"
   ]
  },
  {
   "cell_type": "markdown",
   "id": "d595f771",
   "metadata": {},
   "source": [
    "# XGBoost "
   ]
  },
  {
   "cell_type": "code",
   "execution_count": 126,
   "id": "1e40d8ef",
   "metadata": {},
   "outputs": [
    {
     "name": "stdout",
     "output_type": "stream",
     "text": [
      "RMSE-Train: 0.15376271040173736\n",
      "RMSE-Test: 0.15541547373138476\n",
      "Score-Train: 0.9255308206763327\n",
      "Score-Test: 0.9247181975908217\n",
      "MedAE-Train: 0.11340942868540482\n",
      "MedAE-Test: 0.11789489815744014\n",
      "MeanAE-Train: 0.12477789393419084\n",
      "MeanAE-Test: 0.128804673615348 \n",
      "\n",
      "Wall time: 22.6 s\n"
     ]
    }
   ],
   "source": [
    "%%time\n",
    "# Fit a XGB Regressor model to the train dataset\n",
    "\n",
    "# Import XGBRegressor\n",
    "\n",
    "from xgboost import XGBRegressor\n",
    "\n",
    "# Instantiate the model\n",
    "xgbr = XGBRegressor()\n",
    "\n",
    "\n",
    "# Fit the model to the data\n",
    "\n",
    "xgbr.fit(X_train, Y_train)\n",
    "\n",
    "Rgr_models.append(xgbr)\n",
    "\n",
    "# print score of the model\n",
    "\n",
    "print_score(xgbr)"
   ]
  },
  {
   "cell_type": "code",
   "execution_count": null,
   "id": "aa5954cb",
   "metadata": {},
   "outputs": [],
   "source": []
  },
  {
   "cell_type": "code",
   "execution_count": 128,
   "id": "57ec947b",
   "metadata": {},
   "outputs": [
    {
     "data": {
      "text/plain": [
       "[LinearRegression(),\n",
       " DecisionTreeRegressor(),\n",
       " GradientBoostingRegressor(),\n",
       " AdaBoostRegressor(),\n",
       " XGBRegressor(base_score=0.5, booster='gbtree', callbacks=None,\n",
       "              colsample_bylevel=1, colsample_bynode=1, colsample_bytree=1,\n",
       "              early_stopping_rounds=None, enable_categorical=False,\n",
       "              eval_metric=None, feature_types=None, gamma=0, gpu_id=-1,\n",
       "              grow_policy='depthwise', importance_type=None,\n",
       "              interaction_constraints='', learning_rate=0.300000012, max_bin=256,\n",
       "              max_cat_threshold=64, max_cat_to_onehot=4, max_delta_step=0,\n",
       "              max_depth=6, max_leaves=0, min_child_weight=1, missing=nan,\n",
       "              monotone_constraints='()', n_estimators=100, n_jobs=0,\n",
       "              num_parallel_tree=1, predictor='auto', random_state=0, ...),\n",
       " RandomForestRegressor()]"
      ]
     },
     "execution_count": 128,
     "metadata": {},
     "output_type": "execute_result"
    }
   ],
   "source": [
    "Rgr_models"
   ]
  },
  {
   "cell_type": "markdown",
   "id": "ae697896",
   "metadata": {},
   "source": [
    "# Comparing all regressor model"
   ]
  },
  {
   "cell_type": "code",
   "execution_count": 129,
   "id": "35a4914b",
   "metadata": {},
   "outputs": [],
   "source": [
    "def compare_models(models,names,X_train,y_train,X_test,y_test):\n",
    "    # the libraries we need\n",
    "    import sklearn.metrics as metrics\n",
    "    from sklearn.model_selection import train_test_split\n",
    "\n",
    "\n",
    "    # now, create a list with the objects \n",
    "    data = {'Metrics':['rmse','MedAE','MAE','R-Squared']}\n",
    "    \n",
    "    df_train = pd.DataFrame(data)\n",
    "    \n",
    "    df_test = pd.DataFrame(data)\n",
    "    \n",
    "\n",
    "    def rmse(x,y):\n",
    "      return math.sqrt(((x-y)**2).mean())\n",
    "\n",
    "\n",
    "    for (model,name) in zip(models,names):\n",
    "      y_pred= model.predict(X_test)\n",
    "      \n",
    "       # then predict on the test set\n",
    "      res = [\n",
    "          rmse(model.predict(X_train), y_train), \n",
    "          rmse(model.predict(X_test),y_test),\n",
    "          metrics.median_absolute_error(model.predict(X_train),y_train), \n",
    "          metrics.median_absolute_error(model.predict(X_test),y_test),\n",
    "          metrics.mean_absolute_error(model.predict(X_train),y_train), \n",
    "          metrics.mean_absolute_error(model.predict(X_test),y_test),\n",
    "          metrics.r2_score(model.predict(X_train),y_train), \n",
    "          metrics.r2_score(model.predict(X_test),y_test)\n",
    "      ]\n",
    "      \n",
    "      df_train[name] = [res[0], res[2], res[4], res[6]]\n",
    "      \n",
    "      df_test[name] = [res[1], res[3], res[5], res[7]]\n",
    "      \n",
    "    return df_train,df_test\n",
    "\n"
   ]
  },
  {
   "cell_type": "code",
   "execution_count": null,
   "id": "25d8d776",
   "metadata": {},
   "outputs": [],
   "source": []
  },
  {
   "cell_type": "code",
   "execution_count": null,
   "id": "59320ec6",
   "metadata": {},
   "outputs": [],
   "source": []
  },
  {
   "cell_type": "code",
   "execution_count": 130,
   "id": "e9913135",
   "metadata": {},
   "outputs": [
    {
     "name": "stdout",
     "output_type": "stream",
     "text": [
      "Wall time: 2min 51s\n",
      "Compiler : 150 ms\n"
     ]
    }
   ],
   "source": [
    "%%time\n",
    "\n",
    "# list of models object\n",
    "# list of models name\n",
    "models= [lModel, DTR, rf, GBR, AdaBoost, xgbr]\n",
    "\n",
    "names = ['LR','DTree','RForest','GrBo', 'ADABoost','XGBR']\n",
    "\n",
    "\n",
    "comp_model_train,comp_model_test = compare_models(models, names, X_train, Y_train, X_test, Y_test)\n",
    "\n"
   ]
  },
  {
   "cell_type": "code",
   "execution_count": 131,
   "id": "5636b6e0",
   "metadata": {},
   "outputs": [
    {
     "data": {
      "text/html": [
       "<div>\n",
       "<style scoped>\n",
       "    .dataframe tbody tr th:only-of-type {\n",
       "        vertical-align: middle;\n",
       "    }\n",
       "\n",
       "    .dataframe tbody tr th {\n",
       "        vertical-align: top;\n",
       "    }\n",
       "\n",
       "    .dataframe thead th {\n",
       "        text-align: right;\n",
       "    }\n",
       "</style>\n",
       "<table border=\"1\" class=\"dataframe\">\n",
       "  <thead>\n",
       "    <tr style=\"text-align: right;\">\n",
       "      <th></th>\n",
       "      <th>Metrics</th>\n",
       "      <th>LR</th>\n",
       "      <th>DTree</th>\n",
       "      <th>RForest</th>\n",
       "      <th>GrBo</th>\n",
       "      <th>ADABoost</th>\n",
       "      <th>XGBR</th>\n",
       "    </tr>\n",
       "  </thead>\n",
       "  <tbody>\n",
       "    <tr>\n",
       "      <th>0</th>\n",
       "      <td>rmse</td>\n",
       "      <td>0.216091</td>\n",
       "      <td>1.532380e-17</td>\n",
       "      <td>0.056586</td>\n",
       "      <td>0.186405</td>\n",
       "      <td>0.291185</td>\n",
       "      <td>0.153763</td>\n",
       "    </tr>\n",
       "    <tr>\n",
       "      <th>1</th>\n",
       "      <td>MedAE</td>\n",
       "      <td>0.155467</td>\n",
       "      <td>0.000000e+00</td>\n",
       "      <td>0.027961</td>\n",
       "      <td>0.146120</td>\n",
       "      <td>0.184679</td>\n",
       "      <td>0.113409</td>\n",
       "    </tr>\n",
       "    <tr>\n",
       "      <th>2</th>\n",
       "      <td>MAE</td>\n",
       "      <td>0.172854</td>\n",
       "      <td>2.781365e-19</td>\n",
       "      <td>0.038924</td>\n",
       "      <td>0.153866</td>\n",
       "      <td>0.219721</td>\n",
       "      <td>0.124778</td>\n",
       "    </tr>\n",
       "    <tr>\n",
       "      <th>3</th>\n",
       "      <td>R-Squared</td>\n",
       "      <td>0.827504</td>\n",
       "      <td>1.000000e+00</td>\n",
       "      <td>0.989518</td>\n",
       "      <td>0.874181</td>\n",
       "      <td>0.601196</td>\n",
       "      <td>0.917984</td>\n",
       "    </tr>\n",
       "  </tbody>\n",
       "</table>\n",
       "</div>"
      ],
      "text/plain": [
       "     Metrics        LR         DTree   RForest      GrBo  ADABoost      XGBR\n",
       "0       rmse  0.216091  1.532380e-17  0.056586  0.186405  0.291185  0.153763\n",
       "1      MedAE  0.155467  0.000000e+00  0.027961  0.146120  0.184679  0.113409\n",
       "2        MAE  0.172854  2.781365e-19  0.038924  0.153866  0.219721  0.124778\n",
       "3  R-Squared  0.827504  1.000000e+00  0.989518  0.874181  0.601196  0.917984"
      ]
     },
     "execution_count": 131,
     "metadata": {},
     "output_type": "execute_result"
    }
   ],
   "source": [
    "comp_model_train[:]\n"
   ]
  },
  {
   "cell_type": "code",
   "execution_count": 132,
   "id": "04a3d79b",
   "metadata": {},
   "outputs": [
    {
     "data": {
      "text/html": [
       "<div>\n",
       "<style scoped>\n",
       "    .dataframe tbody tr th:only-of-type {\n",
       "        vertical-align: middle;\n",
       "    }\n",
       "\n",
       "    .dataframe tbody tr th {\n",
       "        vertical-align: top;\n",
       "    }\n",
       "\n",
       "    .dataframe thead th {\n",
       "        text-align: right;\n",
       "    }\n",
       "</style>\n",
       "<table border=\"1\" class=\"dataframe\">\n",
       "  <thead>\n",
       "    <tr style=\"text-align: right;\">\n",
       "      <th></th>\n",
       "      <th>Metrics</th>\n",
       "      <th>LR</th>\n",
       "      <th>DTree</th>\n",
       "      <th>RForest</th>\n",
       "      <th>GrBo</th>\n",
       "      <th>ADABoost</th>\n",
       "      <th>XGBR</th>\n",
       "    </tr>\n",
       "  </thead>\n",
       "  <tbody>\n",
       "    <tr>\n",
       "      <th>0</th>\n",
       "      <td>rmse</td>\n",
       "      <td>1.573385e+11</td>\n",
       "      <td>0.186642</td>\n",
       "      <td>0.141253</td>\n",
       "      <td>0.181244</td>\n",
       "      <td>0.291688</td>\n",
       "      <td>0.155415</td>\n",
       "    </tr>\n",
       "    <tr>\n",
       "      <th>1</th>\n",
       "      <td>MedAE</td>\n",
       "      <td>1.556639e-01</td>\n",
       "      <td>0.068792</td>\n",
       "      <td>0.076311</td>\n",
       "      <td>0.146409</td>\n",
       "      <td>0.183141</td>\n",
       "      <td>0.117895</td>\n",
       "    </tr>\n",
       "    <tr>\n",
       "      <th>2</th>\n",
       "      <td>MAE</td>\n",
       "      <td>1.160898e+09</td>\n",
       "      <td>0.124307</td>\n",
       "      <td>0.104366</td>\n",
       "      <td>0.153722</td>\n",
       "      <td>0.218567</td>\n",
       "      <td>0.128805</td>\n",
       "    </tr>\n",
       "    <tr>\n",
       "      <th>3</th>\n",
       "      <td>R-Squared</td>\n",
       "      <td>-5.444298e-05</td>\n",
       "      <td>0.892724</td>\n",
       "      <td>0.934649</td>\n",
       "      <td>0.883921</td>\n",
       "      <td>0.602650</td>\n",
       "      <td>0.917888</td>\n",
       "    </tr>\n",
       "  </tbody>\n",
       "</table>\n",
       "</div>"
      ],
      "text/plain": [
       "     Metrics            LR     DTree   RForest      GrBo  ADABoost      XGBR\n",
       "0       rmse  1.573385e+11  0.186642  0.141253  0.181244  0.291688  0.155415\n",
       "1      MedAE  1.556639e-01  0.068792  0.076311  0.146409  0.183141  0.117895\n",
       "2        MAE  1.160898e+09  0.124307  0.104366  0.153722  0.218567  0.128805\n",
       "3  R-Squared -5.444298e-05  0.892724  0.934649  0.883921  0.602650  0.917888"
      ]
     },
     "execution_count": 132,
     "metadata": {},
     "output_type": "execute_result"
    }
   ],
   "source": [
    "comp_model_test[:]\n"
   ]
  },
  {
   "cell_type": "code",
   "execution_count": null,
   "id": "bc2b8d91",
   "metadata": {},
   "outputs": [],
   "source": []
  },
  {
   "cell_type": "markdown",
   "id": "08340cc4",
   "metadata": {},
   "source": [
    "# Observation\n",
    "\n",
    "From comparing the scores between train and test data For this model\n",
    "\n",
    "Random forest regressor performs Good on the basis of R-squared also based on MAE"
   ]
  },
  {
   "cell_type": "markdown",
   "id": "3e1a7e25",
   "metadata": {},
   "source": [
    "# Need to perform Hyper paramteric tuning on the models"
   ]
  },
  {
   "cell_type": "markdown",
   "id": "bd335c2f",
   "metadata": {},
   "source": [
    "RamdomizedSearchCV\n",
    "\n",
    "RandomizedSearchCV is very useful when we have many parameters to try and the training time is very long.\n",
    "\n",
    "* The first step is to write the parameters that we want to consider\n",
    "* From these parameters select the best ones.(which are printed in output)"
   ]
  },
  {
   "cell_type": "code",
   "execution_count": 166,
   "id": "a24337de",
   "metadata": {},
   "outputs": [],
   "source": [
    "# function for Randomized Search CV\n",
    "\n",
    "def random_Search(model,X_train, Y_train,param_grid):\n",
    "  from sklearn.model_selection import RandomizedSearchCV\n",
    "\n",
    "  # Random search of parameters, using 3 fold cross validation, \n",
    "  # search across 100 different combinations, and use all available cores\n",
    "  random = RandomizedSearchCV(estimator= model, param_distributions=param_grid, n_iter=20,\n",
    "                             cv=3, verbose=2, random_state=42, n_jobs=-1)\n",
    "  # Fit the random search model\n",
    "  random.fit(X_train, Y_train)\n",
    "  \n",
    "  print(random.best_params_)"
   ]
  },
  {
   "cell_type": "code",
   "execution_count": 57,
   "id": "8cb6fcdd",
   "metadata": {},
   "outputs": [
    {
     "name": "stdout",
     "output_type": "stream",
     "text": [
      "Fitting 3 folds for each of 20 candidates, totalling 60 fits\n",
      "{'n_estimators': 100, 'min_samples_leaf': 0.1, 'max_features': 'sqrt', 'bootstrap': False}\n",
      "Wall time: 1min 2s\n"
     ]
    }
   ],
   "source": [
    "%%time\n",
    "# create parameters dict for tunning\n",
    "rf_para_grid = {'n_estimators': [1, 2, 4, 8, 16, 32, 64, 100, 200],\n",
    "               'max_features': ['auto', 'sqrt'],\n",
    "               \n",
    "               'min_samples_leaf': np.linspace(0.1, 0.5, 5, endpoint=True),\n",
    "               'bootstrap': [True, False]}\n",
    "\n",
    "# passing data for hyper parameter tunning with Randomized search cv\n",
    "\n",
    "random_Search(RandomForestRegressor(), X_train, Y_train, param_grid=rf_para_grid)\n"
   ]
  },
  {
   "cell_type": "code",
   "execution_count": 63,
   "id": "7f34f333",
   "metadata": {},
   "outputs": [
    {
     "name": "stdout",
     "output_type": "stream",
     "text": [
      "Fitting 3 folds for each of 20 candidates, totalling 60 fits\n",
      "{'n_estimators': 16, 'min_samples_split': 0.2, 'learning_rate': 1}\n",
      "Wall time: 2min 50s\n"
     ]
    }
   ],
   "source": [
    "%%time\n",
    "# create GradientBoostRegressor parameters dict for tunning\n",
    "GBR_para_grid = {\n",
    "'n_estimators':  [1, 2, 4, 8, 16], \n",
    " 'learning_rate' : [1, 0.5, 0.25],\n",
    " #'max_depth': np.linspace(1, 32, 32, endpoint=True), \n",
    " 'min_samples_split': np.linspace(0.1, 1.0, 10, endpoint=True)\n",
    "}\n",
    "\n",
    "# passing data for hyper parameter tunning with Randomized search cv\n",
    "\n",
    "random_Search(GradientBoostingRegressor(),X_train,Y_train, param_grid= GBR_para_grid)"
   ]
  },
  {
   "cell_type": "code",
   "execution_count": 64,
   "id": "a94336f8",
   "metadata": {},
   "outputs": [
    {
     "name": "stdout",
     "output_type": "stream",
     "text": [
      "Fitting 3 folds for each of 20 candidates, totalling 60 fits\n",
      "{'splitter': 'best', 'min_weight_fraction_leaf': 0.1, 'min_samples_leaf': 0.2, 'max_features': None}\n",
      "Wall time: 7.69 s\n"
     ]
    }
   ],
   "source": [
    "%%time\n",
    "# create DecisionTreeRegressor parameters dict for tunning\n",
    "DTR_para_grid = {\n",
    "                  \"splitter\":[\"best\",\"random\"],\n",
    "            #\"max_depth\" : np.linspace(1, 32, 32, endpoint=True),\n",
    "           \"min_samples_leaf\":np.linspace(0.1, 0.5, 5, endpoint=True),\n",
    "           \"min_weight_fraction_leaf\":[0.1,0.2,0.5,0.9],\n",
    "           \"max_features\":[\"auto\",\"log2\",\"sqrt\",None],\n",
    "           }\n",
    "\n",
    "# passing data for hyper parameter tunning with Randomized search cv\n",
    "\n",
    "random_Search(DecisionTreeRegressor(), X_train, Y_train, param_grid=DTR_para_grid)\n",
    "\n"
   ]
  },
  {
   "cell_type": "code",
   "execution_count": 65,
   "id": "5cfff1cb",
   "metadata": {},
   "outputs": [
    {
     "name": "stdout",
     "output_type": "stream",
     "text": [
      "Fitting 3 folds for each of 20 candidates, totalling 60 fits\n",
      "{'min_child_weight': 1, 'learning_rate': 0.15, 'gamma': 0.0, 'colsample_bytree': 0.4}\n",
      "Wall time: 7min 56s\n"
     ]
    }
   ],
   "source": [
    "%%time\n",
    "# create parameters dict for tunning\n",
    "XGB_para_grid = {\n",
    "    \"learning_rate\"    : [0.05, 0.10, 0.15] ,\n",
    " #\"max_depth\"        : range(3,10,2),\n",
    " \"min_child_weight\" : range(1,6,2),\n",
    " \"gamma\"            : [ 0.0, 0.1, 0.2 ],\n",
    " \"colsample_bytree\" : [ 0.3, 0.4] \n",
    " }\n",
    "\n",
    "# passing data for hyper parameter tunning with Randomized search cv\n",
    "\n",
    "random_Search(XGBRegressor(), X_train, Y_train, param_grid=XGB_para_grid)\n",
    "\n"
   ]
  },
  {
   "cell_type": "markdown",
   "id": "b3d3a78f",
   "metadata": {},
   "source": [
    "# Applying the hyper paramter tuned values to the regressor model"
   ]
  },
  {
   "cell_type": "markdown",
   "id": "bcb7cc76",
   "metadata": {},
   "source": [
    "# Hyper tuned RF regressor"
   ]
  },
  {
   "cell_type": "code",
   "execution_count": 167,
   "id": "134a7da5",
   "metadata": {},
   "outputs": [
    {
     "name": "stdout",
     "output_type": "stream",
     "text": [
      "RMSE-Train: 0.5481200327428118\n",
      "RMSE-Test: 0.5512891182963051\n",
      "Score-Train: 0.05370647981361365\n",
      "Score-Test: 0.05275933128420984\n",
      "MedAE-Train: 0.16752259124102986\n",
      "MedAE-Test: 0.16751275060953263\n",
      "MeanAE-Train: 0.246731113020187\n",
      "MeanAE-Test: 0.24777431328499608 \n",
      "\n",
      "Wall time: 26.4 s\n"
     ]
    }
   ],
   "source": [
    "%%time   \n",
    "# Fit a Random Forest Regressor model to the train dataset\n",
    "\n",
    "# Instantiate the model\n",
    "rf=  RandomForestRegressor(**{'n_estimators': 100, 'min_samples_leaf': 0.1, 'max_features': 'sqrt', \n",
    "                               'bootstrap': False})\n",
    "\n",
    "#Note:     **  --to restructre the dictionary and pass the values as paramters\n",
    "\n",
    "# Fit the model to the data\n",
    "rf.fit(X_train, Y_train)\n",
    "\n",
    "\n",
    "# print score of the model\n",
    "\n",
    "print_score(rf)\n",
    "\n",
    "#Fitting 3 folds for each of 20 candidates, totalling 60 fits\n",
    "#{'n_estimators': 100, 'min_samples_leaf': 0.1, 'max_features': 'sqrt', 'bootstrap': False}\n"
   ]
  },
  {
   "cell_type": "markdown",
   "id": "c4adae6b",
   "metadata": {},
   "source": [
    "# Hyper tuned DTR"
   ]
  },
  {
   "cell_type": "code",
   "execution_count": 168,
   "id": "465a880f",
   "metadata": {},
   "outputs": [
    {
     "name": "stdout",
     "output_type": "stream",
     "text": [
      "RMSE-Train: 0.5517129887385319\n",
      "RMSE-Test: 0.5552658330306767\n",
      "Score-Train: 0.04125980998135903\n",
      "Score-Test: 0.039044233144559626\n",
      "MedAE-Train: 0.16530716071365958\n",
      "MedAE-Test: 0.16515164344329936\n",
      "MeanAE-Train: 0.2446267426104889\n",
      "MeanAE-Test: 0.24551918560408717 \n",
      "\n",
      "Wall time: 912 ms\n"
     ]
    }
   ],
   "source": [
    "%%time \n",
    "# Fitting 3 folds for each of 20 candidates, totalling 60 fits\n",
    "# {'splitter': 'best', 'min_weight_fraction_leaf': 0.1, 'min_samples_leaf': 0.2, 'max_features': None}\n",
    "\n",
    " \n",
    "# Fit a Decision Tree Regressor model to the train dataset\n",
    "\n",
    "# Instantiate the model\n",
    "DTR = DecisionTreeRegressor(**{'splitter': 'best', 'min_weight_fraction_leaf': 0.1, \n",
    "                               'min_samples_leaf': 0.2, 'max_features': None})\n",
    "\n",
    "# Instantiate the model\n",
    "DTR.fit(X_train, Y_train)\n",
    "\n",
    "\n",
    "# print score of the model\n",
    "print_score(DTR)\n"
   ]
  },
  {
   "cell_type": "markdown",
   "id": "2863f4db",
   "metadata": {},
   "source": [
    "# Hyper tuned GBR"
   ]
  },
  {
   "cell_type": "code",
   "execution_count": 169,
   "id": "7af720d5",
   "metadata": {},
   "outputs": [
    {
     "name": "stdout",
     "output_type": "stream",
     "text": [
      "RMSE-Train: 0.18810683624472604\n",
      "RMSE-Test: 0.1801840267583557\n",
      "Score-Train: 0.8885490757255637\n",
      "Score-Test: 0.8988108210604594\n",
      "MedAE-Train: 0.14364253609085464\n",
      "MedAE-Test: 0.1434894020510522\n",
      "MeanAE-Train: 0.1526739992342738\n",
      "MeanAE-Test: 0.15206416472912052 \n",
      "\n",
      "Wall time: 20.8 s\n"
     ]
    }
   ],
   "source": [
    "%%time  \n",
    "# -- to print the wall time ie total time taken\n",
    "\n",
    "# Fit a Gradient Boosting Regressor model to the train dataset\n",
    "\n",
    "# Instantiate the model\n",
    "GBR = GradientBoostingRegressor(**{'n_estimators': 16, 'min_samples_split': 0.2, 'learning_rate': 1})\n",
    "\n",
    "\n",
    "GBR.fit(X_train, Y_train)\n",
    "# print score of the model\n",
    "print_score(GBR)\n",
    "\n",
    "\n",
    "# Fitting 3 folds for each of 20 candidates, totalling 60 fits\n",
    "# {'n_estimators': 16, 'min_samples_split': 0.2, 'learning_rate': 1}"
   ]
  },
  {
   "cell_type": "markdown",
   "id": "2a60a9c3",
   "metadata": {},
   "source": [
    "# Hyper tuned XGBR"
   ]
  },
  {
   "cell_type": "code",
   "execution_count": 170,
   "id": "9f323c2e",
   "metadata": {},
   "outputs": [
    {
     "name": "stdout",
     "output_type": "stream",
     "text": [
      "RMSE-Train: 0.1679098454370235\n",
      "RMSE-Test: 0.16625595280171124\n",
      "Score-Train: 0.9111971631092213\n",
      "Score-Test: 0.9138498766227885\n",
      "MedAE-Train: 0.1293515825687015\n",
      "MedAE-Test: 0.13099891546447395\n",
      "MeanAE-Train: 0.13842216223804757\n",
      "MeanAE-Test: 0.14006113273167775 \n",
      "\n",
      "Wall time: 16.2 s\n"
     ]
    }
   ],
   "source": [
    "%%time\n",
    "# Fit a XGB Regressor model to the train dataset\n",
    "\n",
    "# Instantiate the model\n",
    "xgbr = XGBRegressor(**{'min_child_weight':1,  'learning_rate': 0.15, 'gamma': 0.0, 'colsample_bytree': 0.4})\n",
    "\n",
    "# Fit the model to the data\n",
    "\n",
    "xgbr.fit(X_train, Y_train)\n",
    "\n",
    "# print score of the model\n",
    "\n",
    "print_score(xgbr)\n",
    "\n",
    "# Fitting 3 folds for each of 20 candidates, totalling 60 fits\n",
    "# {'min_child_weight': 1, 'learning_rate': 0.15, 'gamma': 0.0, 'colsample_bytree': 0.4}\n",
    "\n"
   ]
  },
  {
   "cell_type": "markdown",
   "id": "018a491c",
   "metadata": {},
   "source": [
    "# Comparing the metrics for tuned models"
   ]
  },
  {
   "cell_type": "code",
   "execution_count": 171,
   "id": "0d71f0d5",
   "metadata": {},
   "outputs": [],
   "source": [
    "models= [rf, GBR, DTR, xgbr]\n",
    "\n",
    "names =['H_RF','H_gbr','H_dtr', 'H_xgbr']\n",
    "comp_model_train,comp_model_test =  compare_models(models, names, X_train, Y_train, X_test, Y_test)\n"
   ]
  },
  {
   "cell_type": "code",
   "execution_count": 172,
   "id": "0d53bfbd",
   "metadata": {},
   "outputs": [
    {
     "data": {
      "text/html": [
       "<div>\n",
       "<style scoped>\n",
       "    .dataframe tbody tr th:only-of-type {\n",
       "        vertical-align: middle;\n",
       "    }\n",
       "\n",
       "    .dataframe tbody tr th {\n",
       "        vertical-align: top;\n",
       "    }\n",
       "\n",
       "    .dataframe thead th {\n",
       "        text-align: right;\n",
       "    }\n",
       "</style>\n",
       "<table border=\"1\" class=\"dataframe\">\n",
       "  <thead>\n",
       "    <tr style=\"text-align: right;\">\n",
       "      <th></th>\n",
       "      <th>Metrics</th>\n",
       "      <th>H_RF</th>\n",
       "      <th>H_gbr</th>\n",
       "      <th>H_dtr</th>\n",
       "      <th>H_xgbr</th>\n",
       "    </tr>\n",
       "  </thead>\n",
       "  <tbody>\n",
       "    <tr>\n",
       "      <th>0</th>\n",
       "      <td>rmse</td>\n",
       "      <td>0.548120</td>\n",
       "      <td>0.188107</td>\n",
       "      <td>0.551713</td>\n",
       "      <td>0.167910</td>\n",
       "    </tr>\n",
       "    <tr>\n",
       "      <th>1</th>\n",
       "      <td>MedAE</td>\n",
       "      <td>0.167523</td>\n",
       "      <td>0.143643</td>\n",
       "      <td>0.165307</td>\n",
       "      <td>0.129352</td>\n",
       "    </tr>\n",
       "    <tr>\n",
       "      <th>2</th>\n",
       "      <td>MAE</td>\n",
       "      <td>0.246731</td>\n",
       "      <td>0.152674</td>\n",
       "      <td>0.244627</td>\n",
       "      <td>0.138422</td>\n",
       "    </tr>\n",
       "    <tr>\n",
       "      <th>3</th>\n",
       "      <td>R-Squared</td>\n",
       "      <td>-72.432996</td>\n",
       "      <td>0.874175</td>\n",
       "      <td>-22.236660</td>\n",
       "      <td>0.900430</td>\n",
       "    </tr>\n",
       "  </tbody>\n",
       "</table>\n",
       "</div>"
      ],
      "text/plain": [
       "     Metrics       H_RF     H_gbr      H_dtr    H_xgbr\n",
       "0       rmse   0.548120  0.188107   0.551713  0.167910\n",
       "1      MedAE   0.167523  0.143643   0.165307  0.129352\n",
       "2        MAE   0.246731  0.152674   0.244627  0.138422\n",
       "3  R-Squared -72.432996  0.874175 -22.236660  0.900430"
      ]
     },
     "execution_count": 172,
     "metadata": {},
     "output_type": "execute_result"
    }
   ],
   "source": [
    "comp_model_train[:]"
   ]
  },
  {
   "cell_type": "code",
   "execution_count": 173,
   "id": "0d89e475",
   "metadata": {},
   "outputs": [
    {
     "data": {
      "text/html": [
       "<div>\n",
       "<style scoped>\n",
       "    .dataframe tbody tr th:only-of-type {\n",
       "        vertical-align: middle;\n",
       "    }\n",
       "\n",
       "    .dataframe tbody tr th {\n",
       "        vertical-align: top;\n",
       "    }\n",
       "\n",
       "    .dataframe thead th {\n",
       "        text-align: right;\n",
       "    }\n",
       "</style>\n",
       "<table border=\"1\" class=\"dataframe\">\n",
       "  <thead>\n",
       "    <tr style=\"text-align: right;\">\n",
       "      <th></th>\n",
       "      <th>Metrics</th>\n",
       "      <th>H_RF</th>\n",
       "      <th>H_gbr</th>\n",
       "      <th>H_dtr</th>\n",
       "      <th>H_xgbr</th>\n",
       "    </tr>\n",
       "  </thead>\n",
       "  <tbody>\n",
       "    <tr>\n",
       "      <th>0</th>\n",
       "      <td>rmse</td>\n",
       "      <td>0.551289</td>\n",
       "      <td>0.180184</td>\n",
       "      <td>0.555266</td>\n",
       "      <td>0.166256</td>\n",
       "    </tr>\n",
       "    <tr>\n",
       "      <th>1</th>\n",
       "      <td>MedAE</td>\n",
       "      <td>0.167513</td>\n",
       "      <td>0.143489</td>\n",
       "      <td>0.165152</td>\n",
       "      <td>0.130999</td>\n",
       "    </tr>\n",
       "    <tr>\n",
       "      <th>2</th>\n",
       "      <td>MAE</td>\n",
       "      <td>0.247774</td>\n",
       "      <td>0.152064</td>\n",
       "      <td>0.245519</td>\n",
       "      <td>0.140061</td>\n",
       "    </tr>\n",
       "    <tr>\n",
       "      <th>3</th>\n",
       "      <td>R-Squared</td>\n",
       "      <td>-73.078487</td>\n",
       "      <td>0.887785</td>\n",
       "      <td>-22.435798</td>\n",
       "      <td>0.904338</td>\n",
       "    </tr>\n",
       "  </tbody>\n",
       "</table>\n",
       "</div>"
      ],
      "text/plain": [
       "     Metrics       H_RF     H_gbr      H_dtr    H_xgbr\n",
       "0       rmse   0.551289  0.180184   0.555266  0.166256\n",
       "1      MedAE   0.167513  0.143489   0.165152  0.130999\n",
       "2        MAE   0.247774  0.152064   0.245519  0.140061\n",
       "3  R-Squared -73.078487  0.887785 -22.435798  0.904338"
      ]
     },
     "execution_count": 173,
     "metadata": {},
     "output_type": "execute_result"
    }
   ],
   "source": [
    "comp_model_test[:]"
   ]
  },
  {
   "cell_type": "markdown",
   "id": "bd48646e",
   "metadata": {},
   "source": [
    "# Observation\n",
    "\n",
    "From comparing the scores between train and test data For this model after the hyper paramteric tuning\n",
    "\n",
    "XGBoost regressor performs Good on the basis of R-squared also based on MAE"
   ]
  },
  {
   "cell_type": "code",
   "execution_count": 176,
   "id": "783e2ead",
   "metadata": {},
   "outputs": [],
   "source": [
    "xg_para = {\n",
    "    \"learning_rate\"    : [0.05, 0.10, 0.15] ,\n",
    " #\"max_depth\"        : range(3,10,2),\n",
    " \"min_child_weight\" : range(1,6,2),\n",
    " \"gamma\"            : [ 0.0, 0.1, 0.2 ],\n",
    " \"colsample_bytree\" : [ 0.3, 0.4] \n",
    " }\n"
   ]
  },
  {
   "cell_type": "code",
   "execution_count": 177,
   "id": "1cc4dfbc",
   "metadata": {},
   "outputs": [
    {
     "name": "stdout",
     "output_type": "stream",
     "text": [
      "Best hyperparameters: {'min_child_weight': 5, 'learning_rate': 0.15, 'gamma': 0.1, 'colsample_bytree': 0.4}\n",
      "Mean squared error: 0.027800734778563777\n",
      "R-squared: 0.9133521542045939\n",
      "Wall time: 4min 24s\n"
     ]
    }
   ],
   "source": [
    "%%time\n",
    "\n",
    "from sklearn.model_selection import RandomizedSearchCV\n",
    "from sklearn.metrics import mean_squared_error\n",
    "\n",
    "# RandomizedSearchCV\n",
    "random_search = RandomizedSearchCV(estimator= xgbr, param_distributions= xg_para, cv=3)\n",
    "random_search.fit(X_train, Y_train)\n",
    "print(\"Best hyperparameters:\", random_search.best_params_)\n",
    "\n",
    "best_model = random_search.best_estimator_\n",
    "y_pred = best_model.predict(X_test)\n",
    "\n",
    "# evalution metrics\n",
    "mse = mean_squared_error(Y_test, y_pred)\n",
    "r2 = r2_score(Y_test, y_pred)\n",
    "\n",
    "print('Mean squared error:', mse)\n",
    "print('R-squared:', r2)"
   ]
  },
  {
   "cell_type": "code",
   "execution_count": 87,
   "id": "68fa6998",
   "metadata": {},
   "outputs": [
    {
     "name": "stdout",
     "output_type": "stream",
     "text": [
      "Categorical:  ['id', 'item_date', 'status', 'item type', 'material_ref', 'delivery date']\n",
      "Numeric:  ['quantity tons', 'customer', 'country', 'application', 'thickness', 'width', 'product_ref', 'selling_price', 'selling_price_log', 'quantity tons_log', 'thickness_log']\n"
     ]
    }
   ],
   "source": [
    "print(\"Categorical: \",categorical_list)\n",
    "print(\"Numeric: \",num_list)"
   ]
  },
  {
   "cell_type": "markdown",
   "id": "66f1cab9",
   "metadata": {},
   "source": [
    "# # Predict the status for a new sample\n"
   ]
  },
  {
   "cell_type": "code",
   "execution_count": 178,
   "id": "80f2dce6",
   "metadata": {},
   "outputs": [
    {
     "name": "stdout",
     "output_type": "stream",
     "text": [
      "Predicted selling price: [482.51215]\n"
     ]
    }
   ],
   "source": [
    "# X=df_plot[['quantity tons_log','status','item type','application','thickness_log','width','country','customer','product_ref']]\n",
    " \n",
    "# ['quantity tons_log', 'application', 'thickness_log', 'width','country','customer','product_ref']].values, X_ohe, X_ohe2\n",
    "\n",
    "new_sample = np.array([[np.log(40), 10, np.log(250), 0, 28,30202938,1670798778,'PL','Won']])\n",
    "\n",
    "new_sample_ohe = ohe.transform(new_sample[:, [7]]).toarray()\n",
    "new_sample_be = ohe2.transform(new_sample[:, [8]]).toarray()\n",
    "\n",
    "new_sample = np.concatenate((new_sample[:, [0,1,2, 3, 4, 5, 6,]], new_sample_ohe, new_sample_be), axis=1)\n",
    "\n",
    "new_sample_scaled = scaler.transform(new_sample)\n",
    "new_pred = xgbr.predict(new_sample_scaled)\n",
    "\n",
    "print('Predicted selling price:', np.exp(new_pred))"
   ]
  },
  {
   "cell_type": "markdown",
   "id": "8a86cf94",
   "metadata": {},
   "source": [
    "# Storing data in pickle file"
   ]
  },
  {
   "cell_type": "code",
   "execution_count": 180,
   "id": "660fcf15",
   "metadata": {},
   "outputs": [],
   "source": [
    "# Saving the model\n",
    "import pickle\n",
    "with open('Regr_model.pkl', 'wb') as file:\n",
    "    pickle.dump(best_model, file)\n",
    "with open('scaler.pkl', 'wb') as f:\n",
    "    pickle.dump(scaler, f)\n",
    "# with open('t.pkl', 'wb') as f:\n",
    "#     pickle.dump(ohe, f)\n",
    "# with open('s.pkl', 'wb') as f:\n",
    "#     pickle.dump(ohe2, f)"
   ]
  },
  {
   "cell_type": "markdown",
   "id": "947e4972",
   "metadata": {},
   "source": [
    "# Classification Model"
   ]
  },
  {
   "cell_type": "code",
   "execution_count": 96,
   "id": "69746a8b",
   "metadata": {},
   "outputs": [
    {
     "data": {
      "text/html": [
       "<div>\n",
       "<style scoped>\n",
       "    .dataframe tbody tr th:only-of-type {\n",
       "        vertical-align: middle;\n",
       "    }\n",
       "\n",
       "    .dataframe tbody tr th {\n",
       "        vertical-align: top;\n",
       "    }\n",
       "\n",
       "    .dataframe thead th {\n",
       "        text-align: right;\n",
       "    }\n",
       "</style>\n",
       "<table border=\"1\" class=\"dataframe\">\n",
       "  <thead>\n",
       "    <tr style=\"text-align: right;\">\n",
       "      <th></th>\n",
       "      <th>id</th>\n",
       "      <th>item_date</th>\n",
       "      <th>quantity tons</th>\n",
       "      <th>customer</th>\n",
       "      <th>country</th>\n",
       "      <th>status</th>\n",
       "      <th>item type</th>\n",
       "      <th>application</th>\n",
       "      <th>thickness</th>\n",
       "      <th>width</th>\n",
       "      <th>material_ref</th>\n",
       "      <th>product_ref</th>\n",
       "      <th>delivery date</th>\n",
       "      <th>selling_price</th>\n",
       "      <th>selling_price_log</th>\n",
       "      <th>quantity tons_log</th>\n",
       "      <th>thickness_log</th>\n",
       "    </tr>\n",
       "  </thead>\n",
       "  <tbody>\n",
       "    <tr>\n",
       "      <th>0</th>\n",
       "      <td>EC06F063-9DF0-440C-8764-0B0C05A4F6AE</td>\n",
       "      <td>2021-04-01</td>\n",
       "      <td>54.151139</td>\n",
       "      <td>30156308.0</td>\n",
       "      <td>28.0</td>\n",
       "      <td>Won</td>\n",
       "      <td>W</td>\n",
       "      <td>10.0</td>\n",
       "      <td>2.00</td>\n",
       "      <td>1500.0</td>\n",
       "      <td>DEQ1 S460MC</td>\n",
       "      <td>1670798778</td>\n",
       "      <td>2021-07-01</td>\n",
       "      <td>854.00</td>\n",
       "      <td>6.749931</td>\n",
       "      <td>3.991779</td>\n",
       "      <td>0.693147</td>\n",
       "    </tr>\n",
       "    <tr>\n",
       "      <th>1</th>\n",
       "      <td>4E5F4B3D-DDDF-499D-AFDE-A3227EC49425</td>\n",
       "      <td>2021-04-01</td>\n",
       "      <td>768.024839</td>\n",
       "      <td>30202938.0</td>\n",
       "      <td>25.0</td>\n",
       "      <td>Won</td>\n",
       "      <td>W</td>\n",
       "      <td>41.0</td>\n",
       "      <td>0.80</td>\n",
       "      <td>1210.0</td>\n",
       "      <td>104991</td>\n",
       "      <td>1668701718</td>\n",
       "      <td>2021-04-01</td>\n",
       "      <td>1047.00</td>\n",
       "      <td>6.953684</td>\n",
       "      <td>6.643822</td>\n",
       "      <td>-0.223144</td>\n",
       "    </tr>\n",
       "    <tr>\n",
       "      <th>2</th>\n",
       "      <td>E140FF1B-2407-4C02-A0DD-780A093B1158</td>\n",
       "      <td>2021-04-01</td>\n",
       "      <td>386.127949</td>\n",
       "      <td>30153963.0</td>\n",
       "      <td>30.0</td>\n",
       "      <td>Won</td>\n",
       "      <td>WI</td>\n",
       "      <td>28.0</td>\n",
       "      <td>0.38</td>\n",
       "      <td>952.0</td>\n",
       "      <td>S0380700</td>\n",
       "      <td>628377</td>\n",
       "      <td>2021-01-01</td>\n",
       "      <td>644.33</td>\n",
       "      <td>6.468211</td>\n",
       "      <td>5.956169</td>\n",
       "      <td>-0.967584</td>\n",
       "    </tr>\n",
       "    <tr>\n",
       "      <th>3</th>\n",
       "      <td>F8D507A0-9C62-4EFE-831E-33E1DA53BB50</td>\n",
       "      <td>2021-04-01</td>\n",
       "      <td>202.411065</td>\n",
       "      <td>30349574.0</td>\n",
       "      <td>32.0</td>\n",
       "      <td>Won</td>\n",
       "      <td>S</td>\n",
       "      <td>59.0</td>\n",
       "      <td>2.30</td>\n",
       "      <td>1317.0</td>\n",
       "      <td>DX51D+ZM310MAO 2.3X1317</td>\n",
       "      <td>1668701718</td>\n",
       "      <td>2021-01-01</td>\n",
       "      <td>768.00</td>\n",
       "      <td>6.643790</td>\n",
       "      <td>5.310301</td>\n",
       "      <td>0.832909</td>\n",
       "    </tr>\n",
       "    <tr>\n",
       "      <th>4</th>\n",
       "      <td>4E1C4E78-152B-430A-8094-ADD889C9D0AD</td>\n",
       "      <td>2021-04-01</td>\n",
       "      <td>785.526262</td>\n",
       "      <td>30211560.0</td>\n",
       "      <td>28.0</td>\n",
       "      <td>Won</td>\n",
       "      <td>W</td>\n",
       "      <td>10.0</td>\n",
       "      <td>4.00</td>\n",
       "      <td>2000.0</td>\n",
       "      <td>2_S275JR+AR-CL1</td>\n",
       "      <td>640665</td>\n",
       "      <td>2021-03-01</td>\n",
       "      <td>577.00</td>\n",
       "      <td>6.357842</td>\n",
       "      <td>6.666354</td>\n",
       "      <td>1.386294</td>\n",
       "    </tr>\n",
       "    <tr>\n",
       "      <th>...</th>\n",
       "      <td>...</td>\n",
       "      <td>...</td>\n",
       "      <td>...</td>\n",
       "      <td>...</td>\n",
       "      <td>...</td>\n",
       "      <td>...</td>\n",
       "      <td>...</td>\n",
       "      <td>...</td>\n",
       "      <td>...</td>\n",
       "      <td>...</td>\n",
       "      <td>...</td>\n",
       "      <td>...</td>\n",
       "      <td>...</td>\n",
       "      <td>...</td>\n",
       "      <td>...</td>\n",
       "      <td>...</td>\n",
       "      <td>...</td>\n",
       "    </tr>\n",
       "    <tr>\n",
       "      <th>181667</th>\n",
       "      <td>0B812591-B501-4F34-859A-B06381FAEB44</td>\n",
       "      <td>2020-07-02</td>\n",
       "      <td>106.783299</td>\n",
       "      <td>30200854.0</td>\n",
       "      <td>25.0</td>\n",
       "      <td>Won</td>\n",
       "      <td>W</td>\n",
       "      <td>41.0</td>\n",
       "      <td>0.96</td>\n",
       "      <td>1240.0</td>\n",
       "      <td>1000222</td>\n",
       "      <td>164141591</td>\n",
       "      <td>2020-07-01</td>\n",
       "      <td>602.00</td>\n",
       "      <td>6.400257</td>\n",
       "      <td>4.670802</td>\n",
       "      <td>-0.040822</td>\n",
       "    </tr>\n",
       "    <tr>\n",
       "      <th>181668</th>\n",
       "      <td>DE633116-D1DF-4846-982E-55EFC3658A76</td>\n",
       "      <td>2020-07-02</td>\n",
       "      <td>102.482422</td>\n",
       "      <td>30200854.0</td>\n",
       "      <td>25.0</td>\n",
       "      <td>Won</td>\n",
       "      <td>W</td>\n",
       "      <td>41.0</td>\n",
       "      <td>0.96</td>\n",
       "      <td>1220.0</td>\n",
       "      <td>1000777</td>\n",
       "      <td>164141591</td>\n",
       "      <td>2020-07-01</td>\n",
       "      <td>591.00</td>\n",
       "      <td>6.381816</td>\n",
       "      <td>4.629691</td>\n",
       "      <td>-0.040822</td>\n",
       "    </tr>\n",
       "    <tr>\n",
       "      <th>181669</th>\n",
       "      <td>A48374B1-E6DB-45F2-889A-1F9C27C099EB</td>\n",
       "      <td>2020-07-02</td>\n",
       "      <td>208.086469</td>\n",
       "      <td>30200854.0</td>\n",
       "      <td>25.0</td>\n",
       "      <td>Won</td>\n",
       "      <td>W</td>\n",
       "      <td>41.0</td>\n",
       "      <td>0.95</td>\n",
       "      <td>1500.0</td>\n",
       "      <td>1000227</td>\n",
       "      <td>164141591</td>\n",
       "      <td>2020-07-01</td>\n",
       "      <td>589.00</td>\n",
       "      <td>6.378426</td>\n",
       "      <td>5.337954</td>\n",
       "      <td>-0.051293</td>\n",
       "    </tr>\n",
       "    <tr>\n",
       "      <th>181670</th>\n",
       "      <td>91643238-5C7B-4237-9A5F-63AE3D35F320</td>\n",
       "      <td>2020-07-02</td>\n",
       "      <td>4.235594</td>\n",
       "      <td>30200854.0</td>\n",
       "      <td>25.0</td>\n",
       "      <td>Won</td>\n",
       "      <td>W</td>\n",
       "      <td>41.0</td>\n",
       "      <td>0.71</td>\n",
       "      <td>1250.0</td>\n",
       "      <td>1004216</td>\n",
       "      <td>164141591</td>\n",
       "      <td>2020-07-01</td>\n",
       "      <td>619.00</td>\n",
       "      <td>6.428105</td>\n",
       "      <td>1.443523</td>\n",
       "      <td>-0.342490</td>\n",
       "    </tr>\n",
       "    <tr>\n",
       "      <th>181672</th>\n",
       "      <td>AD0CA853-AE3C-4B2F-9FBB-8B0B965F84BC</td>\n",
       "      <td>2020-07-02</td>\n",
       "      <td>406.686538</td>\n",
       "      <td>30200854.0</td>\n",
       "      <td>25.0</td>\n",
       "      <td>Won</td>\n",
       "      <td>W</td>\n",
       "      <td>41.0</td>\n",
       "      <td>0.71</td>\n",
       "      <td>1240.0</td>\n",
       "      <td>1005439</td>\n",
       "      <td>164141591</td>\n",
       "      <td>2020-07-01</td>\n",
       "      <td>607.00</td>\n",
       "      <td>6.408529</td>\n",
       "      <td>6.008043</td>\n",
       "      <td>-0.342490</td>\n",
       "    </tr>\n",
       "  </tbody>\n",
       "</table>\n",
       "<p>150427 rows × 17 columns</p>\n",
       "</div>"
      ],
      "text/plain": [
       "                                          id   item_date  quantity tons  \\\n",
       "0       EC06F063-9DF0-440C-8764-0B0C05A4F6AE  2021-04-01      54.151139   \n",
       "1       4E5F4B3D-DDDF-499D-AFDE-A3227EC49425  2021-04-01     768.024839   \n",
       "2       E140FF1B-2407-4C02-A0DD-780A093B1158  2021-04-01     386.127949   \n",
       "3       F8D507A0-9C62-4EFE-831E-33E1DA53BB50  2021-04-01     202.411065   \n",
       "4       4E1C4E78-152B-430A-8094-ADD889C9D0AD  2021-04-01     785.526262   \n",
       "...                                      ...         ...            ...   \n",
       "181667  0B812591-B501-4F34-859A-B06381FAEB44  2020-07-02     106.783299   \n",
       "181668  DE633116-D1DF-4846-982E-55EFC3658A76  2020-07-02     102.482422   \n",
       "181669  A48374B1-E6DB-45F2-889A-1F9C27C099EB  2020-07-02     208.086469   \n",
       "181670  91643238-5C7B-4237-9A5F-63AE3D35F320  2020-07-02       4.235594   \n",
       "181672  AD0CA853-AE3C-4B2F-9FBB-8B0B965F84BC  2020-07-02     406.686538   \n",
       "\n",
       "          customer  country status item type  application  thickness   width  \\\n",
       "0       30156308.0     28.0    Won         W         10.0       2.00  1500.0   \n",
       "1       30202938.0     25.0    Won         W         41.0       0.80  1210.0   \n",
       "2       30153963.0     30.0    Won        WI         28.0       0.38   952.0   \n",
       "3       30349574.0     32.0    Won         S         59.0       2.30  1317.0   \n",
       "4       30211560.0     28.0    Won         W         10.0       4.00  2000.0   \n",
       "...            ...      ...    ...       ...          ...        ...     ...   \n",
       "181667  30200854.0     25.0    Won         W         41.0       0.96  1240.0   \n",
       "181668  30200854.0     25.0    Won         W         41.0       0.96  1220.0   \n",
       "181669  30200854.0     25.0    Won         W         41.0       0.95  1500.0   \n",
       "181670  30200854.0     25.0    Won         W         41.0       0.71  1250.0   \n",
       "181672  30200854.0     25.0    Won         W         41.0       0.71  1240.0   \n",
       "\n",
       "                   material_ref  product_ref delivery date  selling_price  \\\n",
       "0                   DEQ1 S460MC   1670798778    2021-07-01         854.00   \n",
       "1                        104991   1668701718    2021-04-01        1047.00   \n",
       "2                      S0380700       628377    2021-01-01         644.33   \n",
       "3       DX51D+ZM310MAO 2.3X1317   1668701718    2021-01-01         768.00   \n",
       "4               2_S275JR+AR-CL1       640665    2021-03-01         577.00   \n",
       "...                         ...          ...           ...            ...   \n",
       "181667                  1000222    164141591    2020-07-01         602.00   \n",
       "181668                  1000777    164141591    2020-07-01         591.00   \n",
       "181669                  1000227    164141591    2020-07-01         589.00   \n",
       "181670                  1004216    164141591    2020-07-01         619.00   \n",
       "181672                  1005439    164141591    2020-07-01         607.00   \n",
       "\n",
       "        selling_price_log  quantity tons_log  thickness_log  \n",
       "0                6.749931           3.991779       0.693147  \n",
       "1                6.953684           6.643822      -0.223144  \n",
       "2                6.468211           5.956169      -0.967584  \n",
       "3                6.643790           5.310301       0.832909  \n",
       "4                6.357842           6.666354       1.386294  \n",
       "...                   ...                ...            ...  \n",
       "181667           6.400257           4.670802      -0.040822  \n",
       "181668           6.381816           4.629691      -0.040822  \n",
       "181669           6.378426           5.337954      -0.051293  \n",
       "181670           6.428105           1.443523      -0.342490  \n",
       "181672           6.408529           6.008043      -0.342490  \n",
       "\n",
       "[150427 rows x 17 columns]"
      ]
     },
     "execution_count": 96,
     "metadata": {},
     "output_type": "execute_result"
    }
   ],
   "source": [
    "df_plot['status'].isin(['Won', 'Lost'])\n",
    "df_plot[df_plot['status'].isin(['Won', 'Lost'])]"
   ]
  },
  {
   "cell_type": "markdown",
   "id": "a6e0ffca",
   "metadata": {},
   "source": [
    "# Performing Label Encoding"
   ]
  },
  {
   "cell_type": "code",
   "execution_count": 183,
   "id": "4a7c4248",
   "metadata": {},
   "outputs": [
    {
     "name": "stdout",
     "output_type": "stream",
     "text": [
      "country\n",
      "[ 28.  25.  30.  32.  38.  78.  27.  77. 113.  79.  26.  39.  40.  84.\n",
      "  80. 107.  89.]\n",
      "Labels:  [ 3  0  4  5  6 10  2  9 16 11  1  7  8 13 12 15 14]\n",
      "\n",
      "\n",
      "status\n",
      "['Won' 'Draft' 'To be approved' 'Lost' 'Not lost for AM' 'Wonderful'\n",
      " 'Revised' 'Offered' 'Offerable']\n",
      "Labels:  [7 0 6 1 2 8 5 4 3]\n",
      "\n",
      "\n",
      "customer\n",
      "[30156308. 30202938. 30153963. ... 30349515. 30284694. 30161559.]\n",
      "Labels:  [ 51 288  39 ... 952 687  97]\n",
      "\n",
      "\n",
      "item type\n",
      "['W' 'WI' 'S' 'Others' 'PL' 'IPL' 'SLAWR']\n",
      "Labels:  [5 6 3 1 2 0 4]\n",
      "\n",
      "\n",
      "application\n",
      "[10. 41. 28. 59. 15.  4. 38. 56. 42. 26. 27. 19. 20. 66. 29. 22. 40. 25.\n",
      " 67. 79.  3. 99.  2.  5. 39. 69. 70. 65. 58. 68.]\n",
      "Labels:  [ 4 17 12 21  5  2 14 19 18 10 11  6  7 23 13  8 16  9 24 28  1 29  0  3\n",
      " 15 26 27 22 20 25]\n",
      "\n",
      "\n",
      "product_ref\n",
      "[1670798778 1668701718     628377     640665     611993 1668701376\n",
      "  164141591 1671863738 1332077137     640405 1693867550 1665572374\n",
      " 1282007633 1668701698     628117 1690738206     628112     640400\n",
      " 1671876026  164336407  164337175 1668701725 1665572032     611728\n",
      " 1721130331 1693867563     611733 1690738219 1722207579  929423819\n",
      " 1665584320 1665584662 1665584642]\n",
      "Labels:  [24 22  5  8  2 20  9 25 14  7 29 16 13 21  4 27  3  6 26 10 11 23 15  0\n",
      " 31 30  1 28 32 12 17 19 18]\n",
      "\n",
      "\n"
     ]
    }
   ],
   "source": [
    "from sklearn.preprocessing import LabelEncoder\n",
    "\n",
    "cat_col=['country','status','customer','item type','application','product_ref']\n",
    "le = LabelEncoder()\n",
    "\n",
    "for i in cat_col:\n",
    "    print(i)\n",
    "    print( df[i].unique())\n",
    "    df[i] = le.fit_transform(df[i])\n",
    "    print(\"Labels: \",df[i].unique())\n",
    "    print('\\n')"
   ]
  },
  {
   "cell_type": "code",
   "execution_count": 184,
   "id": "1816b6ea",
   "metadata": {},
   "outputs": [
    {
     "data": {
      "text/plain": [
       "7    116004\n",
       "1     34431\n",
       "Name: status, dtype: int64"
      ]
     },
     "execution_count": 184,
     "metadata": {},
     "output_type": "execute_result"
    }
   ],
   "source": [
    "cdf = df.loc[df[\"status\"].isin([7,1])] # 7 is Won, 1 is Lost\n",
    "cdf.status.value_counts()"
   ]
  },
  {
   "cell_type": "code",
   "execution_count": 186,
   "id": "b75be06d",
   "metadata": {},
   "outputs": [
    {
     "name": "stdout",
     "output_type": "stream",
     "text": [
      "original label:  [1 0]\n",
      "Reencoded label:  [1 0]\n"
     ]
    }
   ],
   "source": [
    "print(\"original label: \",cdf['status'].unique())\n",
    "cdf['status'] = le.fit_transform(cdf['status'])\n",
    "print(\"Reencoded label: \",cdf['status'].unique())"
   ]
  },
  {
   "cell_type": "code",
   "execution_count": 189,
   "id": "50a5810d",
   "metadata": {
    "scrolled": true
   },
   "outputs": [
    {
     "data": {
      "image/png": "[encoded data removed]",
      "text/plain": [
       "<Figure size 720x576 with 2 Axes>"
      ]
     },
     "metadata": {
      "needs_background": "light"
     },
     "output_type": "display_data"
    }
   ],
   "source": [
    "#understanding correlation with feautures and target\n",
    "plt.figure(figsize=(10,8))\n",
    "sns.heatmap(df.iloc[:,2: ].corr(), annot =True)\n",
    "plt.show()"
   ]
  },
  {
   "cell_type": "code",
   "execution_count": null,
   "id": "76e52a8e",
   "metadata": {},
   "outputs": [],
   "source": []
  },
  {
   "cell_type": "code",
   "execution_count": 191,
   "id": "c5de5a6e",
   "metadata": {},
   "outputs": [],
   "source": [
    "from sklearn.model_selection import train_test_split\n",
    "x=cdf[['quantity tons','item type','country','application','thickness','width', 'product_ref','selling_price']].values\n",
    "y=cdf[['status']].values"
   ]
  },
  {
   "cell_type": "code",
   "execution_count": null,
   "id": "b03c7aac",
   "metadata": {},
   "outputs": [],
   "source": []
  },
  {
   "cell_type": "code",
   "execution_count": 192,
   "id": "d119a317",
   "metadata": {},
   "outputs": [
    {
     "data": {
      "text/plain": [
       "<AxesSubplot:>"
      ]
     },
     "execution_count": 192,
     "metadata": {},
     "output_type": "execute_result"
    },
    {
     "data": {
      "image/png": "[encoded data removed]",
      "text/plain": [
       "<Figure size 432x288 with 1 Axes>"
      ]
     },
     "metadata": {
      "needs_background": "light"
     },
     "output_type": "display_data"
    }
   ],
   "source": [
    "cdf['status'].value_counts().plot(kind='bar')"
   ]
  },
  {
   "cell_type": "markdown",
   "id": "2d2be6b2",
   "metadata": {},
   "source": [
    "# Oversampling using smote(Synthetic Minority Over-sampling Technique)\n",
    "It is a more sophisticated technique than the previous ones. \n",
    "\n",
    "Random sampling is easy, but the new samples don’t add more information to the machine learning algorithms. \n",
    "\n",
    "SMOTE improves on that.\n"
   ]
  },
  {
   "cell_type": "code",
   "execution_count": 193,
   "id": "7bdccb2b",
   "metadata": {},
   "outputs": [],
   "source": [
    "\n",
    "from imblearn.over_sampling import SMOTE\n",
    "smote = SMOTE(random_state=888)\n",
    "x, y = smote.fit_resample(x, y)\n"
   ]
  },
  {
   "cell_type": "code",
   "execution_count": null,
   "id": "3695dc7e",
   "metadata": {},
   "outputs": [],
   "source": []
  },
  {
   "cell_type": "code",
   "execution_count": 194,
   "id": "e144707a",
   "metadata": {},
   "outputs": [],
   "source": [
    "# data normalization with sklearn\n",
    "# standard scaler -> StandardScaler() - -1 to 1 or MinMaxScaler() - 0 to 1\n",
    "from sklearn.preprocessing import StandardScaler\n",
    "\n",
    "# fit scaler on training data\n",
    "scaler = StandardScaler().fit(x)\n",
    "\n",
    "#saving pickle file for scaling\n",
    "pickle.dump(scaler, open('scaling_Classification.pkl', 'wb'))\n",
    "\n",
    "# transform training data\n",
    "x = scaler.transform(x)\n",
    "\n",
    "#spliting train and test\n",
    "X_train, X_test, Y_train, Y_test = train_test_split(x,y.reshape(-1),test_size=0.3)"
   ]
  },
  {
   "cell_type": "code",
   "execution_count": null,
   "id": "2df6c214",
   "metadata": {},
   "outputs": [],
   "source": []
  },
  {
   "cell_type": "code",
   "execution_count": 195,
   "id": "c5c97f7a",
   "metadata": {},
   "outputs": [],
   "source": [
    "from sklearn.tree import DecisionTreeClassifier\n",
    "from sklearn.neighbors import KNeighborsClassifier\n",
    "from sklearn.linear_model import LogisticRegression\n",
    "from sklearn.naive_bayes import GaussianNB\n",
    "from sklearn.ensemble import AdaBoostClassifier\n",
    "from sklearn.ensemble import RandomForestClassifier\n",
    "from sklearn.metrics  import accuracy_score,confusion_matrix, f1_score,roc_auc_score\n",
    "\n",
    "C_Models=[]\n",
    "Accuracy=[]"
   ]
  },
  {
   "cell_type": "code",
   "execution_count": null,
   "id": "d43dd205",
   "metadata": {},
   "outputs": [],
   "source": []
  },
  {
   "cell_type": "code",
   "execution_count": 196,
   "id": "31c48645",
   "metadata": {},
   "outputs": [
    {
     "data": {
      "text/plain": [
       "0.6939356062238696"
      ]
     },
     "execution_count": 196,
     "metadata": {},
     "output_type": "execute_result"
    }
   ],
   "source": [
    "#LogisticRegression model\n",
    "model = LogisticRegression()\n",
    "model.fit(X_train, Y_train)\n",
    "\n",
    "# Test the LogisticRegression model\n",
    "Y_pred = model.predict(X_test)\n",
    "\n",
    "# Evaluate the performance of the model\n",
    "accu=accuracy_score(Y_test, Y_pred)\n",
    "C_Models.append('LogisticRegression')\n",
    "Accuracy.append(accu)\n",
    "accu"
   ]
  },
  {
   "cell_type": "code",
   "execution_count": null,
   "id": "649047d5",
   "metadata": {},
   "outputs": [],
   "source": []
  },
  {
   "cell_type": "code",
   "execution_count": 198,
   "id": "deda9ebd",
   "metadata": {},
   "outputs": [
    {
     "name": "stdout",
     "output_type": "stream",
     "text": [
      "Wall time: 1min 17s\n"
     ]
    },
    {
     "data": {
      "text/plain": [
       "0.7873367527261756"
      ]
     },
     "execution_count": 198,
     "metadata": {},
     "output_type": "execute_result"
    }
   ],
   "source": [
    "%%time\n",
    "\n",
    "#AdaBoostClassifier model\n",
    "model = AdaBoostClassifier(n_estimators=100)\n",
    "model.fit(X_train, Y_train)\n",
    "\n",
    "# Test the AdaBoostClassifier model\n",
    "Y_pred = model.predict(X_test)\n",
    "\n",
    "# Evaluate the performance of the model\n",
    "accu=accuracy_score(Y_test, Y_pred)\n",
    "C_Models.append('AdaBoostClassifier')\n",
    "Accuracy.append(accu)\n",
    "accu"
   ]
  },
  {
   "cell_type": "code",
   "execution_count": 199,
   "id": "3f6c48ce",
   "metadata": {},
   "outputs": [
    {
     "name": "stdout",
     "output_type": "stream",
     "text": [
      "Wall time: 4.58 s\n"
     ]
    },
    {
     "data": {
      "text/plain": [
       "0.9077051276525437"
      ]
     },
     "execution_count": 199,
     "metadata": {},
     "output_type": "execute_result"
    }
   ],
   "source": [
    "%%time\n",
    "\n",
    "#Decision Tree model\n",
    "model = DecisionTreeClassifier(max_depth=18)\n",
    "model.fit(X_train, Y_train)\n",
    "\n",
    "# Test the Decision Tree model\n",
    "Y_pred = model.predict(X_test)\n",
    "\n",
    "# Evaluate the performance of the model\n",
    "accu=accuracy_score(Y_test, Y_pred)\n",
    "C_Models.append('Decision Tree')\n",
    "Accuracy.append(accu)\n",
    "accu"
   ]
  },
  {
   "cell_type": "code",
   "execution_count": 200,
   "id": "39173af3",
   "metadata": {},
   "outputs": [
    {
     "name": "stdout",
     "output_type": "stream",
     "text": [
      "Wall time: 289 ms\n"
     ]
    },
    {
     "data": {
      "text/plain": [
       "0.619987644210738"
      ]
     },
     "execution_count": 200,
     "metadata": {},
     "output_type": "execute_result"
    }
   ],
   "source": [
    "%%time\n",
    "\n",
    "#naive_bayes model\n",
    "model = GaussianNB()\n",
    "model.fit(X_train, Y_train)\n",
    "\n",
    "# Test the naive_bayes model\n",
    "Y_pred = model.predict(X_test)\n",
    "\n",
    "# Evaluate the performance of the model\n",
    "accu=accuracy_score(Y_test, Y_pred)\n",
    "C_Models.append('GaussianNB')\n",
    "Accuracy.append(accu)\n",
    "accu"
   ]
  },
  {
   "cell_type": "code",
   "execution_count": null,
   "id": "96b2cb64",
   "metadata": {},
   "outputs": [],
   "source": []
  },
  {
   "cell_type": "code",
   "execution_count": 201,
   "id": "66bd6bfc",
   "metadata": {},
   "outputs": [
    {
     "name": "stdout",
     "output_type": "stream",
     "text": [
      "Wall time: 15.6 s\n"
     ]
    },
    {
     "data": {
      "text/plain": [
       "0.9322011982242144"
      ]
     },
     "execution_count": 201,
     "metadata": {},
     "output_type": "execute_result"
    }
   ],
   "source": [
    "%%time\n",
    "\n",
    "#RandomForestClassifier model\n",
    "model = RandomForestClassifier(n_estimators=10)\n",
    "model.fit(X_train, Y_train)\n",
    "\n",
    "# Test the RandomForestClassifier model\n",
    "Y_pred = model.predict(X_test)\n",
    "\n",
    "# Evaluate the performance of the model\n",
    "accu=accuracy_score(Y_test, Y_pred)\n",
    "C_Models.append('RandomForestClassifier')\n",
    "Accuracy.append(accu)\n",
    "accu"
   ]
  },
  {
   "cell_type": "code",
   "execution_count": null,
   "id": "5014611b",
   "metadata": {},
   "outputs": [],
   "source": []
  },
  {
   "cell_type": "code",
   "execution_count": 202,
   "id": "851272d3",
   "metadata": {},
   "outputs": [
    {
     "data": {
      "image/png": "[encoded data removed]",
      "text/plain": [
       "<Figure size 432x288 with 1 Axes>"
      ]
     },
     "metadata": {
      "needs_background": "light"
     },
     "output_type": "display_data"
    }
   ],
   "source": [
    "plt.barh(C_Models, Accuracy,\n",
    "        height = 0.1, color = \"green\")\n",
    " \n",
    "plt.xlabel(\"Accuracy\")\n",
    "plt.ylabel(\"C_Models\")\n",
    "plt.title(\"checking accuracy on models\")\n",
    "plt.show()"
   ]
  },
  {
   "cell_type": "markdown",
   "id": "39c73fe6",
   "metadata": {},
   "source": [
    "# Observation\n",
    "\n",
    "In this classifier model, RandomForestClassifier model gives the best accuracy, hence for this dataset, it is the best-performing model"
   ]
  },
  {
   "cell_type": "code",
   "execution_count": null,
   "id": "71cd4c28",
   "metadata": {},
   "outputs": [],
   "source": []
  },
  {
   "cell_type": "code",
   "execution_count": 203,
   "id": "07aba974",
   "metadata": {},
   "outputs": [],
   "source": [
    "#creating pickle files to save the trained models in a file\n",
    "\n",
    "#RandomForestClassifier model\n",
    "model = RandomForestClassifier(n_estimators=20)\n",
    "model.fit(X_train, Y_train)\n",
    "\n",
    "pickle.dump(model, open('classification.pkl', 'wb'))"
   ]
  },
  {
   "cell_type": "code",
   "execution_count": 204,
   "id": "f82d899c",
   "metadata": {},
   "outputs": [
    {
     "name": "stdout",
     "output_type": "stream",
     "text": [
      "confusion_matrix\n",
      " [[32722  1945]\n",
      " [ 2420 32516]]\n",
      "accuracy_score 0.9372871858971596\n",
      "f1_score 0.9371010274219348\n",
      "roc_auc_score 0.9373126244160073\n"
     ]
    }
   ],
   "source": [
    "#metrics\n",
    "Y_pred=model.predict(X_test)\n",
    "print('confusion_matrix\\n',confusion_matrix(Y_test, Y_pred))\n",
    "print('accuracy_score',accuracy_score(Y_test, Y_pred))\n",
    "print('f1_score',f1_score(Y_test, Y_pred))\n",
    "print('roc_auc_score',roc_auc_score(Y_test, Y_pred))"
   ]
  },
  {
   "cell_type": "code",
   "execution_count": 207,
   "id": "0c300ca1",
   "metadata": {},
   "outputs": [
    {
     "data": {
      "text/html": [
       "<div>\n",
       "<style scoped>\n",
       "    .dataframe tbody tr th:only-of-type {\n",
       "        vertical-align: middle;\n",
       "    }\n",
       "\n",
       "    .dataframe tbody tr th {\n",
       "        vertical-align: top;\n",
       "    }\n",
       "\n",
       "    .dataframe thead th {\n",
       "        text-align: right;\n",
       "    }\n",
       "</style>\n",
       "<table border=\"1\" class=\"dataframe\">\n",
       "  <thead>\n",
       "    <tr style=\"text-align: right;\">\n",
       "      <th></th>\n",
       "      <th>id</th>\n",
       "      <th>quantity tons</th>\n",
       "      <th>customer</th>\n",
       "      <th>country</th>\n",
       "      <th>status</th>\n",
       "      <th>item type</th>\n",
       "      <th>application</th>\n",
       "      <th>thickness</th>\n",
       "      <th>width</th>\n",
       "      <th>material_ref</th>\n",
       "      <th>product_ref</th>\n",
       "      <th>selling_price</th>\n",
       "      <th>item_date</th>\n",
       "      <th>delivery date</th>\n",
       "    </tr>\n",
       "  </thead>\n",
       "  <tbody>\n",
       "    <tr>\n",
       "      <th>0</th>\n",
       "      <td>EC06F063-9DF0-440C-8764-0B0C05A4F6AE</td>\n",
       "      <td>54.151139</td>\n",
       "      <td>51</td>\n",
       "      <td>3</td>\n",
       "      <td>1</td>\n",
       "      <td>5</td>\n",
       "      <td>4</td>\n",
       "      <td>2.0</td>\n",
       "      <td>1500.0</td>\n",
       "      <td>DEQ1 S460MC</td>\n",
       "      <td>24</td>\n",
       "      <td>854.0</td>\n",
       "      <td>2021-04-01</td>\n",
       "      <td>2021-07-01</td>\n",
       "    </tr>\n",
       "    <tr>\n",
       "      <th>1</th>\n",
       "      <td>4E5F4B3D-DDDF-499D-AFDE-A3227EC49425</td>\n",
       "      <td>768.024839</td>\n",
       "      <td>288</td>\n",
       "      <td>0</td>\n",
       "      <td>1</td>\n",
       "      <td>5</td>\n",
       "      <td>17</td>\n",
       "      <td>0.8</td>\n",
       "      <td>1210.0</td>\n",
       "      <td>104991</td>\n",
       "      <td>22</td>\n",
       "      <td>1047.0</td>\n",
       "      <td>2021-04-01</td>\n",
       "      <td>2021-04-01</td>\n",
       "    </tr>\n",
       "  </tbody>\n",
       "</table>\n",
       "</div>"
      ],
      "text/plain": [
       "                                     id  quantity tons  customer  country  \\\n",
       "0  EC06F063-9DF0-440C-8764-0B0C05A4F6AE      54.151139        51        3   \n",
       "1  4E5F4B3D-DDDF-499D-AFDE-A3227EC49425     768.024839       288        0   \n",
       "\n",
       "   status  item type  application  thickness   width material_ref  \\\n",
       "0       1          5            4        2.0  1500.0  DEQ1 S460MC   \n",
       "1       1          5           17        0.8  1210.0       104991   \n",
       "\n",
       "   product_ref  selling_price   item_date delivery date  \n",
       "0           24          854.0  2021-04-01    2021-07-01  \n",
       "1           22         1047.0  2021-04-01    2021-04-01  "
      ]
     },
     "execution_count": 207,
     "metadata": {},
     "output_type": "execute_result"
    }
   ],
   "source": [
    "cdf.head(2)"
   ]
  },
  {
   "cell_type": "code",
   "execution_count": 205,
   "id": "6bd0d6d1",
   "metadata": {},
   "outputs": [
    {
     "ename": "ValueError",
     "evalue": "X has 15 features, but StandardScaler is expecting 8 features as input.",
     "output_type": "error",
     "traceback": [
      "\u001b[1;31m---------------------------------------------------------------------------\u001b[0m",
      "\u001b[1;31mValueError\u001b[0m                                Traceback (most recent call last)",
      "\u001b[1;32m~\\AppData\\Local\\Temp/ipykernel_5796/1916027000.py\u001b[0m in \u001b[0;36m<module>\u001b[1;34m\u001b[0m\n\u001b[0;32m      4\u001b[0m \u001b[0mnew_sample_ohe\u001b[0m \u001b[1;33m=\u001b[0m \u001b[0mohe\u001b[0m\u001b[1;33m.\u001b[0m\u001b[0mtransform\u001b[0m\u001b[1;33m(\u001b[0m\u001b[0mnew_sample\u001b[0m\u001b[1;33m[\u001b[0m\u001b[1;33m:\u001b[0m\u001b[1;33m,\u001b[0m \u001b[1;33m[\u001b[0m\u001b[1;36m8\u001b[0m\u001b[1;33m]\u001b[0m\u001b[1;33m]\u001b[0m\u001b[1;33m)\u001b[0m\u001b[1;33m.\u001b[0m\u001b[0mtoarray\u001b[0m\u001b[1;33m(\u001b[0m\u001b[1;33m)\u001b[0m\u001b[1;33m\u001b[0m\u001b[1;33m\u001b[0m\u001b[0m\n\u001b[0;32m      5\u001b[0m \u001b[0mnew_sample\u001b[0m \u001b[1;33m=\u001b[0m \u001b[0mnp\u001b[0m\u001b[1;33m.\u001b[0m\u001b[0mconcatenate\u001b[0m\u001b[1;33m(\u001b[0m\u001b[1;33m(\u001b[0m\u001b[0mnew_sample\u001b[0m\u001b[1;33m[\u001b[0m\u001b[1;33m:\u001b[0m\u001b[1;33m,\u001b[0m \u001b[1;33m[\u001b[0m\u001b[1;36m0\u001b[0m\u001b[1;33m,\u001b[0m\u001b[1;36m1\u001b[0m\u001b[1;33m,\u001b[0m\u001b[1;36m2\u001b[0m\u001b[1;33m,\u001b[0m \u001b[1;36m3\u001b[0m\u001b[1;33m,\u001b[0m \u001b[1;36m4\u001b[0m\u001b[1;33m,\u001b[0m \u001b[1;36m5\u001b[0m\u001b[1;33m,\u001b[0m \u001b[1;36m6\u001b[0m\u001b[1;33m,\u001b[0m\u001b[1;36m7\u001b[0m\u001b[1;33m]\u001b[0m\u001b[1;33m]\u001b[0m\u001b[1;33m,\u001b[0m \u001b[0mnew_sample_ohe\u001b[0m\u001b[1;33m)\u001b[0m\u001b[1;33m,\u001b[0m \u001b[0maxis\u001b[0m\u001b[1;33m=\u001b[0m\u001b[1;36m1\u001b[0m\u001b[1;33m)\u001b[0m\u001b[1;33m\u001b[0m\u001b[1;33m\u001b[0m\u001b[0m\n\u001b[1;32m----> 6\u001b[1;33m \u001b[0mnew_sample\u001b[0m \u001b[1;33m=\u001b[0m \u001b[0mscaler\u001b[0m\u001b[1;33m.\u001b[0m\u001b[0mtransform\u001b[0m\u001b[1;33m(\u001b[0m\u001b[0mnew_sample\u001b[0m\u001b[1;33m)\u001b[0m\u001b[1;33m\u001b[0m\u001b[1;33m\u001b[0m\u001b[0m\n\u001b[0m\u001b[0;32m      7\u001b[0m \u001b[0mnew_pred\u001b[0m \u001b[1;33m=\u001b[0m \u001b[0mdtc\u001b[0m\u001b[1;33m.\u001b[0m\u001b[0mpredict\u001b[0m\u001b[1;33m(\u001b[0m\u001b[0mnew_sample\u001b[0m\u001b[1;33m)\u001b[0m\u001b[1;33m\u001b[0m\u001b[1;33m\u001b[0m\u001b[0m\n\u001b[0;32m      8\u001b[0m \u001b[1;32mif\u001b[0m \u001b[0mnew_pred\u001b[0m\u001b[1;33m==\u001b[0m\u001b[1;36m1\u001b[0m\u001b[1;33m:\u001b[0m\u001b[1;33m\u001b[0m\u001b[1;33m\u001b[0m\u001b[0m\n",
      "\u001b[1;32m~\\anaconda3\\lib\\site-packages\\sklearn\\utils\\_set_output.py\u001b[0m in \u001b[0;36mwrapped\u001b[1;34m(self, X, *args, **kwargs)\u001b[0m\n\u001b[0;32m    138\u001b[0m     \u001b[1;33m@\u001b[0m\u001b[0mwraps\u001b[0m\u001b[1;33m(\u001b[0m\u001b[0mf\u001b[0m\u001b[1;33m)\u001b[0m\u001b[1;33m\u001b[0m\u001b[1;33m\u001b[0m\u001b[0m\n\u001b[0;32m    139\u001b[0m     \u001b[1;32mdef\u001b[0m \u001b[0mwrapped\u001b[0m\u001b[1;33m(\u001b[0m\u001b[0mself\u001b[0m\u001b[1;33m,\u001b[0m \u001b[0mX\u001b[0m\u001b[1;33m,\u001b[0m \u001b[1;33m*\u001b[0m\u001b[0margs\u001b[0m\u001b[1;33m,\u001b[0m \u001b[1;33m**\u001b[0m\u001b[0mkwargs\u001b[0m\u001b[1;33m)\u001b[0m\u001b[1;33m:\u001b[0m\u001b[1;33m\u001b[0m\u001b[1;33m\u001b[0m\u001b[0m\n\u001b[1;32m--> 140\u001b[1;33m         \u001b[0mdata_to_wrap\u001b[0m \u001b[1;33m=\u001b[0m \u001b[0mf\u001b[0m\u001b[1;33m(\u001b[0m\u001b[0mself\u001b[0m\u001b[1;33m,\u001b[0m \u001b[0mX\u001b[0m\u001b[1;33m,\u001b[0m \u001b[1;33m*\u001b[0m\u001b[0margs\u001b[0m\u001b[1;33m,\u001b[0m \u001b[1;33m**\u001b[0m\u001b[0mkwargs\u001b[0m\u001b[1;33m)\u001b[0m\u001b[1;33m\u001b[0m\u001b[1;33m\u001b[0m\u001b[0m\n\u001b[0m\u001b[0;32m    141\u001b[0m         \u001b[1;32mif\u001b[0m \u001b[0misinstance\u001b[0m\u001b[1;33m(\u001b[0m\u001b[0mdata_to_wrap\u001b[0m\u001b[1;33m,\u001b[0m \u001b[0mtuple\u001b[0m\u001b[1;33m)\u001b[0m\u001b[1;33m:\u001b[0m\u001b[1;33m\u001b[0m\u001b[1;33m\u001b[0m\u001b[0m\n\u001b[0;32m    142\u001b[0m             \u001b[1;31m# only wrap the first output for cross decomposition\u001b[0m\u001b[1;33m\u001b[0m\u001b[1;33m\u001b[0m\u001b[0m\n",
      "\u001b[1;32m~\\anaconda3\\lib\\site-packages\\sklearn\\preprocessing\\_data.py\u001b[0m in \u001b[0;36mtransform\u001b[1;34m(self, X, copy)\u001b[0m\n\u001b[0;32m   1002\u001b[0m \u001b[1;33m\u001b[0m\u001b[0m\n\u001b[0;32m   1003\u001b[0m         \u001b[0mcopy\u001b[0m \u001b[1;33m=\u001b[0m \u001b[0mcopy\u001b[0m \u001b[1;32mif\u001b[0m \u001b[0mcopy\u001b[0m \u001b[1;32mis\u001b[0m \u001b[1;32mnot\u001b[0m \u001b[1;32mNone\u001b[0m \u001b[1;32melse\u001b[0m \u001b[0mself\u001b[0m\u001b[1;33m.\u001b[0m\u001b[0mcopy\u001b[0m\u001b[1;33m\u001b[0m\u001b[1;33m\u001b[0m\u001b[0m\n\u001b[1;32m-> 1004\u001b[1;33m         X = self._validate_data(\n\u001b[0m\u001b[0;32m   1005\u001b[0m             \u001b[0mX\u001b[0m\u001b[1;33m,\u001b[0m\u001b[1;33m\u001b[0m\u001b[1;33m\u001b[0m\u001b[0m\n\u001b[0;32m   1006\u001b[0m             \u001b[0mreset\u001b[0m\u001b[1;33m=\u001b[0m\u001b[1;32mFalse\u001b[0m\u001b[1;33m,\u001b[0m\u001b[1;33m\u001b[0m\u001b[1;33m\u001b[0m\u001b[0m\n",
      "\u001b[1;32m~\\anaconda3\\lib\\site-packages\\sklearn\\base.py\u001b[0m in \u001b[0;36m_validate_data\u001b[1;34m(self, X, y, reset, validate_separately, cast_to_ndarray, **check_params)\u001b[0m\n\u001b[0;32m    623\u001b[0m \u001b[1;33m\u001b[0m\u001b[0m\n\u001b[0;32m    624\u001b[0m         \u001b[1;32mif\u001b[0m \u001b[1;32mnot\u001b[0m \u001b[0mno_val_X\u001b[0m \u001b[1;32mand\u001b[0m \u001b[0mcheck_params\u001b[0m\u001b[1;33m.\u001b[0m\u001b[0mget\u001b[0m\u001b[1;33m(\u001b[0m\u001b[1;34m\"ensure_2d\"\u001b[0m\u001b[1;33m,\u001b[0m \u001b[1;32mTrue\u001b[0m\u001b[1;33m)\u001b[0m\u001b[1;33m:\u001b[0m\u001b[1;33m\u001b[0m\u001b[1;33m\u001b[0m\u001b[0m\n\u001b[1;32m--> 625\u001b[1;33m             \u001b[0mself\u001b[0m\u001b[1;33m.\u001b[0m\u001b[0m_check_n_features\u001b[0m\u001b[1;33m(\u001b[0m\u001b[0mX\u001b[0m\u001b[1;33m,\u001b[0m \u001b[0mreset\u001b[0m\u001b[1;33m=\u001b[0m\u001b[0mreset\u001b[0m\u001b[1;33m)\u001b[0m\u001b[1;33m\u001b[0m\u001b[1;33m\u001b[0m\u001b[0m\n\u001b[0m\u001b[0;32m    626\u001b[0m \u001b[1;33m\u001b[0m\u001b[0m\n\u001b[0;32m    627\u001b[0m         \u001b[1;32mreturn\u001b[0m \u001b[0mout\u001b[0m\u001b[1;33m\u001b[0m\u001b[1;33m\u001b[0m\u001b[0m\n",
      "\u001b[1;32m~\\anaconda3\\lib\\site-packages\\sklearn\\base.py\u001b[0m in \u001b[0;36m_check_n_features\u001b[1;34m(self, X, reset)\u001b[0m\n\u001b[0;32m    412\u001b[0m \u001b[1;33m\u001b[0m\u001b[0m\n\u001b[0;32m    413\u001b[0m         \u001b[1;32mif\u001b[0m \u001b[0mn_features\u001b[0m \u001b[1;33m!=\u001b[0m \u001b[0mself\u001b[0m\u001b[1;33m.\u001b[0m\u001b[0mn_features_in_\u001b[0m\u001b[1;33m:\u001b[0m\u001b[1;33m\u001b[0m\u001b[1;33m\u001b[0m\u001b[0m\n\u001b[1;32m--> 414\u001b[1;33m             raise ValueError(\n\u001b[0m\u001b[0;32m    415\u001b[0m                 \u001b[1;34mf\"X has {n_features} features, but {self.__class__.__name__} \"\u001b[0m\u001b[1;33m\u001b[0m\u001b[1;33m\u001b[0m\u001b[0m\n\u001b[0;32m    416\u001b[0m                 \u001b[1;34mf\"is expecting {self.n_features_in_} features as input.\"\u001b[0m\u001b[1;33m\u001b[0m\u001b[1;33m\u001b[0m\u001b[0m\n",
      "\u001b[1;31mValueError\u001b[0m: X has 15 features, but StandardScaler is expecting 8 features as input."
     ]
    }
   ],
   "source": [
    "# Predict the status for a new sample\n",
    "# 'quantity tons_log', 'selling_price_log','application', 'thickness_log', 'width','country','customer','product_ref']].values, X_ohe\n",
    "new_sample = np.array([[np.log(700), np.log(956), 10, np.log(2),1500,28.0,30202938,1670798778,'W']])\n",
    "new_sample_ohe = ohe.transform(new_sample[:, [8]]).toarray()\n",
    "new_sample = np.concatenate((new_sample[:, [0,1,2, 3, 4, 5, 6,7]], new_sample_ohe), axis=1)\n",
    "new_sample = scaler.transform(new_sample)\n",
    "new_pred = dtc.predict(new_sample)\n",
    "if new_pred==1:\n",
    "    print('The status is: Won')\n",
    "else:\n",
    "    print('The status is: Lost')"
   ]
  },
  {
   "cell_type": "markdown",
   "id": "f6e1a178",
   "metadata": {},
   "source": [
    "# Classifier Evalution Metrics\n"
   ]
  },
  {
   "cell_type": "code",
   "execution_count": 208,
   "id": "eaaf9c14",
   "metadata": {},
   "outputs": [
    {
     "name": "stdout",
     "output_type": "stream",
     "text": [
      "Confusion Matrix:\n",
      "[[32722  1945]\n",
      " [ 2420 32516]]\n",
      "\n",
      "\n",
      "Classification Report:\n",
      "              precision    recall  f1-score   support\n",
      "\n",
      "           0       0.93      0.94      0.94     34667\n",
      "           1       0.94      0.93      0.94     34936\n",
      "\n",
      "    accuracy                           0.94     69603\n",
      "   macro avg       0.94      0.94      0.94     69603\n",
      "weighted avg       0.94      0.94      0.94     69603\n",
      "\n",
      "\n",
      "\n"
     ]
    },
    {
     "data": {
      "image/png": "[encoded data removed]",
      "text/plain": [
       "<Figure size 432x288 with 1 Axes>"
      ]
     },
     "metadata": {
      "needs_background": "light"
     },
     "output_type": "display_data"
    }
   ],
   "source": [
    "from sklearn.metrics import confusion_matrix, classification_report, roc_curve, auc\n",
    "import matplotlib.pyplot as plt\n",
    "\n",
    "print(\"Confusion Matrix:\")\n",
    "print(confusion_matrix(Y_test, Y_pred))\n",
    "print('\\n')\n",
    "print(\"Classification Report:\")\n",
    "print(classification_report(Y_test, Y_pred))\n",
    "print('\\n')\n",
    "\n",
    "# ROC curve and AUC\n",
    "fpr, tpr, thresholds = roc_curve(Y_test, Y_pred)\n",
    "\n",
    "roc_auc = auc(fpr, tpr)\n",
    "\n",
    "plt.plot(fpr, tpr, label='ROC curve (area = %0.2f)' % roc_auc)\n",
    "plt.plot([0, 1], [0, 1], 'k--')\n",
    "\n",
    "plt.xlim([0.0, 1.0])\n",
    "plt.ylim([0.0, 1.05])\n",
    "\n",
    "plt.xlabel('False Positive Rate')\n",
    "plt.ylabel('True Positive Rate')\n",
    "\n",
    "plt.title('Receiver operating characteristic')\n",
    "plt.legend(loc=\"lower right\")\n",
    "plt.show()\n"
   ]
  },
  {
   "cell_type": "markdown",
   "id": "7b34b1dd",
   "metadata": {},
   "source": [
    "# # Predict the status for a new sample\n"
   ]
  },
  {
   "cell_type": "code",
   "execution_count": 105,
   "id": "9e1e8ecd",
   "metadata": {},
   "outputs": [
    {
     "name": "stdout",
     "output_type": "stream",
     "text": [
      "The status is: Won\n"
     ]
    }
   ],
   "source": [
    "# 'quantity tons_log', 'selling_price_log','application', 'thickness_log', 'width','country','customer','product_ref']].values, X_ohe\n",
    "new_sample = np.array([[np.log(700), np.log(956), 10, np.log(2),1500,28.0,30202938,1670798778,'W']])\n",
    "new_sample_ohe = ohe.transform(new_sample[:, [8]]).toarray()\n",
    "new_sample = np.concatenate((new_sample[:, [0,1,2, 3, 4, 5, 6,7]], new_sample_ohe), axis=1)\n",
    "new_sample = scaler.transform(new_sample)\n",
    "new_pred = dtc.predict(new_sample)\n",
    "if new_pred==1:\n",
    "    print('The status is: Won')\n",
    "else:\n",
    "    print('The status is: Lost')"
   ]
  },
  {
   "cell_type": "code",
   "execution_count": null,
   "id": "a8ed9f40",
   "metadata": {},
   "outputs": [],
   "source": []
  },
  {
   "cell_type": "code",
   "execution_count": 107,
   "id": "9b414d41",
   "metadata": {},
   "outputs": [],
   "source": [
    "# Saving the model\n",
    "import pickle\n",
    "with open('cmodel.pkl', 'wb') as file:\n",
    "    pickle.dump(dtc, file)\n",
    "with open('cscaler.pkl', 'wb') as f:\n",
    "    pickle.dump(scaler, f)\n",
    "with open('ct.pkl', 'wb') as f:\n",
    "    pickle.dump(ohe, f)"
   ]
  }
 ],
 "metadata": {
  "kernelspec": {
   "display_name": "Python 3 (ipykernel)",
   "language": "python",
   "name": "python3"
  },
  "language_info": {
   "codemirror_mode": {
    "name": "ipython",
    "version": 3
   },
   "file_extension": ".py",
   "mimetype": "text/x-python",
   "name": "python",
   "nbconvert_exporter": "python",
   "pygments_lexer": "ipython3",
   "version": "3.9.7"
  }
 },
 "nbformat": 4,
 "nbformat_minor": 5
}
